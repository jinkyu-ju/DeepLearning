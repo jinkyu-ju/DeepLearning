{
  "cells": [
    {
      "cell_type": "code",
      "execution_count": 1,
      "metadata": {
        "colab": {
          "base_uri": "https://localhost:8080/",
          "height": 35
        },
        "id": "to9XPbzXI6Iz",
        "outputId": "836523cf-a9f8-45a6-d1be-4df1fcc9f6d6",
        "scrolled": true
      },
      "outputs": [
        {
          "output_type": "execute_result",
          "data": {
            "text/plain": [
              "'2.15.0'"
            ],
            "application/vnd.google.colaboratory.intrinsic+json": {
              "type": "string"
            }
          },
          "metadata": {},
          "execution_count": 1
        }
      ],
      "source": [
        "#Keras import 및 버전 확인\n",
        "\n",
        "import keras\n",
        "keras.__version__"
      ]
    },
    {
      "cell_type": "code",
      "execution_count": 2,
      "metadata": {
        "colab": {
          "base_uri": "https://localhost:8080/"
        },
        "id": "VLZI0gua88Pv",
        "outputId": "bd5691b4-5fb1-47e3-f720-5ee51d50c058"
      },
      "outputs": [
        {
          "output_type": "stream",
          "name": "stdout",
          "text": [
            "Python 3.10.12\n"
          ]
        }
      ],
      "source": [
        "#CoLab : 2.10.12\n",
        "\n",
        "!python -V"
      ]
    },
    {
      "cell_type": "code",
      "execution_count": null,
      "metadata": {
        "colab": {
          "base_uri": "https://localhost:8080/"
        },
        "id": "rlqxc0H1Zacs",
        "outputId": "0d9b2ceb-94ab-4dad-ab4e-e943e2f41485"
      },
      "outputs": [
        {
          "name": "stdout",
          "output_type": "stream",
          "text": [
            "Thu Mar 21 01:45:04 2024       \n",
            "+-----------------------------------------------------------------------------------------+\n",
            "| NVIDIA-SMI 551.86                 Driver Version: 551.86         CUDA Version: 12.4     |\n",
            "|-----------------------------------------+------------------------+----------------------+\n",
            "| GPU  Name                     TCC/WDDM  | Bus-Id          Disp.A | Volatile Uncorr. ECC |\n",
            "| Fan  Temp   Perf          Pwr:Usage/Cap |           Memory-Usage | GPU-Util  Compute M. |\n",
            "|                                         |                        |               MIG M. |\n",
            "|=========================================+========================+======================|\n",
            "|   0  NVIDIA GeForce RTX 4070 ...  WDDM  |   00000000:01:00.0 Off |                  N/A |\n",
            "|  0%   33C    P8              3W /  220W |       0MiB /  12282MiB |      0%      Default |\n",
            "|                                         |                        |                  N/A |\n",
            "+-----------------------------------------+------------------------+----------------------+\n",
            "                                                                                         \n",
            "+-----------------------------------------------------------------------------------------+\n",
            "| Processes:                                                                              |\n",
            "|  GPU   GI   CI        PID   Type   Process name                              GPU Memory |\n",
            "|        ID   ID                                                               Usage      |\n",
            "|=========================================================================================|\n",
            "|  No running processes found                                                             |\n",
            "+-----------------------------------------------------------------------------------------+\n"
          ]
        }
      ],
      "source": [
        "!nvidia-smi"
      ]
    },
    {
      "cell_type": "markdown",
      "metadata": {
        "id": "3wa6Byf__Oi2"
      },
      "source": [
        "## 1. Data loading"
      ]
    },
    {
      "cell_type": "code",
      "execution_count": 3,
      "metadata": {
        "colab": {
          "base_uri": "https://localhost:8080/"
        },
        "id": "OszUTbNQI6I3",
        "outputId": "1aa23c2a-83df-4a04-aeb0-06a78a0b3673"
      },
      "outputs": [
        {
          "output_type": "stream",
          "name": "stdout",
          "text": [
            "Downloading data from https://storage.googleapis.com/tensorflow/tf-keras-datasets/mnist.npz\n",
            "11490434/11490434 [==============================] - 0s 0us/step\n"
          ]
        }
      ],
      "source": [
        "from keras.datasets import mnist\n",
        "\n",
        "(train_images, train_labels), (test_images, test_labels) = mnist.load_data()"
      ]
    },
    {
      "cell_type": "markdown",
      "metadata": {
        "id": "T5908QcP_lQu"
      },
      "source": [
        "## 2. Data check"
      ]
    },
    {
      "cell_type": "code",
      "execution_count": 4,
      "metadata": {
        "colab": {
          "base_uri": "https://localhost:8080/"
        },
        "id": "tDmcviYZI6I4",
        "outputId": "679dc3aa-faa8-43a3-f4c9-6c5b908f6716"
      },
      "outputs": [
        {
          "output_type": "stream",
          "name": "stdout",
          "text": [
            "train img shape / type ;  (60000, 28, 28) <class 'numpy.ndarray'>\n",
            "train label shape / type ;  (60000,) <class 'numpy.ndarray'>\n",
            "test img shape / type ;  (10000, 28, 28) <class 'numpy.ndarray'>\n",
            "test label shape / type ;  (10000,) <class 'numpy.ndarray'>\n"
          ]
        }
      ],
      "source": [
        "print('train img shape / type ; ', train_images.shape, type(train_images))\n",
        "print('train label shape / type ; ', train_labels.shape, type(train_labels))\n",
        "print('test img shape / type ; ', test_images.shape, type(test_images))\n",
        "print('test label shape / type ; ', test_labels.shape, type(test_labels))"
      ]
    },
    {
      "cell_type": "markdown",
      "metadata": {
        "id": "PrA7HFlEBaGS"
      },
      "source": [
        "###2-1. image - label 간 매칭을 확인해보세요."
      ]
    },
    {
      "cell_type": "code",
      "execution_count": 5,
      "metadata": {
        "colab": {
          "base_uri": "https://localhost:8080/",
          "height": 447
        },
        "id": "GZWxlMTDI6I4",
        "outputId": "207d199b-2443-4b67-8edc-93999b6bfeb6"
      },
      "outputs": [
        {
          "output_type": "execute_result",
          "data": {
            "text/plain": [
              "<matplotlib.image.AxesImage at 0x7da96a839630>"
            ]
          },
          "metadata": {},
          "execution_count": 5
        },
        {
          "output_type": "display_data",
          "data": {
            "text/plain": [
              "<Figure size 640x480 with 1 Axes>"
            ],
            "image/png": "[encoded data removed]"
          },
          "metadata": {}
        }
      ],
      "source": [
        "import matplotlib.pyplot as plt\n",
        "plt.imshow(train_images[1000])"
      ]
    },
    {
      "cell_type": "code",
      "execution_count": 6,
      "metadata": {
        "colab": {
          "base_uri": "https://localhost:8080/"
        },
        "id": "OozBn5dPI6I5",
        "outputId": "92a210ee-113f-4e0f-9d5b-9a392d33b503"
      },
      "outputs": [
        {
          "output_type": "execute_result",
          "data": {
            "text/plain": [
              "0"
            ]
          },
          "metadata": {},
          "execution_count": 6
        }
      ],
      "source": [
        "train_labels[1000]"
      ]
    },
    {
      "cell_type": "markdown",
      "metadata": {
        "id": "CXwLIXlvB158"
      },
      "source": [
        "###2-2. 데이터 분포를 확인해보세요.\n"
      ]
    },
    {
      "cell_type": "code",
      "execution_count": 7,
      "metadata": {
        "colab": {
          "base_uri": "https://localhost:8080/"
        },
        "id": "6zLykKNCCSo1",
        "outputId": "f9c88894-d84b-4b40-c1fb-7299ce264ca2"
      },
      "outputs": [
        {
          "output_type": "execute_result",
          "data": {
            "text/plain": [
              "[0, 1, 2, 3, 4, 5, 6, 7, 8, 9]"
            ]
          },
          "metadata": {},
          "execution_count": 7
        }
      ],
      "source": [
        "label_list = list(set(train_labels))\n",
        "label_list.sort()\n",
        "label_list"
      ]
    },
    {
      "cell_type": "code",
      "execution_count": 8,
      "metadata": {
        "colab": {
          "base_uri": "https://localhost:8080/"
        },
        "id": "HZJh_h35Di-X",
        "outputId": "94281c53-33d7-4610-83d3-de0f5ff14378"
      },
      "outputs": [
        {
          "output_type": "execute_result",
          "data": {
            "text/plain": [
              "[5923, 6742, 5958, 6131, 5842, 5421, 5918, 6265, 5851, 5949]"
            ]
          },
          "metadata": {},
          "execution_count": 8
        }
      ],
      "source": [
        "label_count = [list(train_labels).count(label_list[i]) for i in range(len(label_list))]\n",
        "label_count"
      ]
    },
    {
      "cell_type": "code",
      "execution_count": null,
      "metadata": {
        "colab": {
          "base_uri": "https://localhost:8080/",
          "height": 448
        },
        "id": "VC9LrrMOCSSi",
        "outputId": "12611508-3a61-4337-b43e-3a8f42b0efcf"
      },
      "outputs": [
        {
          "data": {
            "text/plain": [
              "<BarContainer object of 10 artists>"
            ]
          },
          "execution_count": 10,
          "metadata": {},
          "output_type": "execute_result"
        },
        {
          "data": {
            "image/png": "[encoded data removed]",
            "text/plain": [
              "<Figure size 640x480 with 1 Axes>"
            ]
          },
          "metadata": {},
          "output_type": "display_data"
        }
      ],
      "source": [
        "plt.bar(label_list,label_count)"
      ]
    },
    {
      "cell_type": "markdown",
      "metadata": {
        "id": "mFYd4C9XFBVy"
      },
      "source": [
        "## 3. 모델 설계 및 학습"
      ]
    },
    {
      "cell_type": "markdown",
      "metadata": {
        "id": "WL-sQ8GVJ0rM"
      },
      "source": [
        "###3-1. activation function을 변경하고 학습 후 loss curve를 비교해보세요.\n",
        "\n",
        "activation function 종류 확인 : https://keras.io/api/layers/activations/\n",
        "\n",
        "- relu, sigmoid, softmax, softplus, softsign, tanh, selu, elu, exponential"
      ]
    },
    {
      "cell_type": "markdown",
      "metadata": {
        "id": "oaeFJlGf1gO3"
      },
      "source": [
        "###3-2. 각 레이어의 노드 수를 변경하고 학습 후 loss curve를 비교해보세요."
      ]
    },
    {
      "cell_type": "markdown",
      "metadata": {
        "id": "HVqxTnI81nUN"
      },
      "source": [
        "###3-3 모델의 레이어를 변경하고 학습 후 loss curve를 비교해보세요."
      ]
    },
    {
      "cell_type": "markdown",
      "metadata": {
        "id": "1itTv2801sND"
      },
      "source": [
        "###3-4. optimizer를 변경하고 학습 후 loss curve를 비교해보세요.\n",
        "\n",
        "keras.optimizers 이용 : https://keras.io/api/optimizers/\n",
        "\n",
        "- optimizer list : SGD, RMSprop, Adam, Adadelta, Adagrad, Adamax, Nadam, Ftrl\n"
      ]
    },
    {
      "cell_type": "markdown",
      "metadata": {
        "id": "D2_Sr4EyTEnY"
      },
      "source": [
        "keras fit method argument list\n",
        "\n",
        "Model.fit(\n",
        "    x=None,\n",
        "    y=None,\n",
        "    batch_size=None,\n",
        "    epochs=1,\n",
        "    verbose=\"auto\",\n",
        "    callbacks=None,\n",
        "    validation_split=0.0,\n",
        "    validation_data=None,\n",
        "    shuffle=True,\n",
        "    class_weight=None,\n",
        "    sample_weight=None,\n",
        "    initial_epoch=0,\n",
        "    steps_per_epoch=None,\n",
        "    validation_steps=None,\n",
        "    validation_batch_size=None,\n",
        "    validation_freq=1,\n",
        "    max_queue_size=10,\n",
        "    workers=1,\n",
        "    use_multiprocessing=False,\n",
        ")"
      ]
    },
    {
      "cell_type": "markdown",
      "metadata": {
        "id": "fs3LtbNQGsoa"
      },
      "source": [
        "Base model"
      ]
    },
    {
      "cell_type": "code",
      "execution_count": 9,
      "metadata": {
        "id": "t-38YlmFI6I7"
      },
      "outputs": [],
      "source": [
        "from keras import models\n",
        "from keras import layers\n",
        "\n",
        "network = models.Sequential()\n",
        "network.add(layers.Dense(512, activation='tanh', input_shape=(28 * 28,)))\n",
        "network.add(layers.Dense(128, activation='sigmoid'))\n",
        "network.add(layers.Dense(10, activation='softmax')) #하려는게 0~10의 분류문제이므로 10으로 지정 확률로하는 softmax => 분류문제는 클래스 갯수 softmax를 일반적으로 사용\n"
      ]
    },
    {
      "cell_type": "code",
      "execution_count": 10,
      "metadata": {
        "colab": {
          "base_uri": "https://localhost:8080/"
        },
        "id": "dPChIFraENL0",
        "outputId": "43c37ed3-78ea-45bb-e86a-2d36abcaded1"
      },
      "outputs": [
        {
          "output_type": "stream",
          "name": "stdout",
          "text": [
            "Model: \"sequential\"\n",
            "_________________________________________________________________\n",
            " Layer (type)                Output Shape              Param #   \n",
            "=================================================================\n",
            " dense (Dense)               (None, 512)               401920    \n",
            "                                                                 \n",
            " dense_1 (Dense)             (None, 128)               65664     \n",
            "                                                                 \n",
            " dense_2 (Dense)             (None, 10)                1290      \n",
            "                                                                 \n",
            "=================================================================\n",
            "Total params: 468874 (1.79 MB)\n",
            "Trainable params: 468874 (1.79 MB)\n",
            "Non-trainable params: 0 (0.00 Byte)\n",
            "_________________________________________________________________\n"
          ]
        }
      ],
      "source": [
        "network.summary()"
      ]
    },
    {
      "cell_type": "code",
      "execution_count": 11,
      "metadata": {
        "id": "luShOrqgI6I7"
      },
      "outputs": [],
      "source": [
        "# 분류는 categorical_cross...사용\n",
        "\n",
        "network.compile(optimizer='adam',\n",
        "                loss='categorical_crossentropy',\n",
        "                metrics=['accuracy'])"
      ]
    },
    {
      "cell_type": "code",
      "execution_count": 12,
      "metadata": {
        "colab": {
          "base_uri": "https://localhost:8080/"
        },
        "id": "5TpIaA13l3Np",
        "outputId": "28626805-1122-4ad0-8172-1da24ef60e60"
      },
      "outputs": [
        {
          "output_type": "execute_result",
          "data": {
            "text/plain": [
              "(60000, 28, 28)"
            ]
          },
          "metadata": {},
          "execution_count": 12
        }
      ],
      "source": [
        "train_images.shape"
      ]
    },
    {
      "cell_type": "code",
      "execution_count": 13,
      "metadata": {
        "id": "IWY3gIfvI6I8"
      },
      "outputs": [],
      "source": [
        "#트레인 6만장 0~255 픽셀\n",
        "#스케일링해줌\n",
        "#786 언디센트?로 바뀜\n",
        "\n",
        "train_images = train_images.reshape((60000, 28 * 28))\n",
        "train_images = train_images.astype('float32') / 255\n",
        "\n",
        "test_images = test_images.reshape((10000, 28 * 28))\n",
        "test_images = test_images.astype('float32') / 255"
      ]
    },
    {
      "cell_type": "code",
      "execution_count": 14,
      "metadata": {
        "colab": {
          "base_uri": "https://localhost:8080/"
        },
        "id": "qcS8ynoFFUfT",
        "outputId": "1f0f6462-0b26-486f-84f2-afb362737784"
      },
      "outputs": [
        {
          "output_type": "execute_result",
          "data": {
            "text/plain": [
              "(784,)"
            ]
          },
          "metadata": {},
          "execution_count": 14
        }
      ],
      "source": [
        "train_images[0].shape"
      ]
    },
    {
      "cell_type": "code",
      "execution_count": 15,
      "metadata": {
        "id": "Z8U_ksXuI6I8"
      },
      "outputs": [],
      "source": [
        "#원-핫 인코딩\n",
        "\n",
        "from tensorflow.keras.utils import to_categorical\n",
        "\n",
        "train_labels = to_categorical(train_labels)\n",
        "test_labels = to_categorical(test_labels)"
      ]
    },
    {
      "cell_type": "code",
      "execution_count": 16,
      "metadata": {
        "colab": {
          "base_uri": "https://localhost:8080/"
        },
        "id": "OR-rBsvUFe6k",
        "outputId": "8cdf50c1-5fb4-4630-86b1-965c048817cc"
      },
      "outputs": [
        {
          "output_type": "execute_result",
          "data": {
            "text/plain": [
              "(60000, 10)"
            ]
          },
          "metadata": {},
          "execution_count": 16
        }
      ],
      "source": [
        "train_labels.shape"
      ]
    },
    {
      "cell_type": "code",
      "execution_count": 17,
      "metadata": {
        "colab": {
          "base_uri": "https://localhost:8080/"
        },
        "id": "mZI42FdJyaBQ",
        "outputId": "67ec085b-6cd9-4de5-a772-8dfd01c64333"
      },
      "outputs": [
        {
          "output_type": "execute_result",
          "data": {
            "text/plain": [
              "array([0., 0., 0., 0., 0., 1., 0., 0., 0., 0.], dtype=float32)"
            ]
          },
          "metadata": {},
          "execution_count": 17
        }
      ],
      "source": [
        "train_labels[0]"
      ]
    },
    {
      "cell_type": "code",
      "execution_count": 18,
      "metadata": {
        "colab": {
          "base_uri": "https://localhost:8080/"
        },
        "id": "wAmMifrgI6I8",
        "outputId": "a5078b57-c79e-4389-e0a5-212c33acfdbe"
      },
      "outputs": [
        {
          "output_type": "stream",
          "name": "stdout",
          "text": [
            "Epoch 1/10\n",
            "422/422 [==============================] - 5s 5ms/step - loss: 0.3725 - accuracy: 0.9006 - val_loss: 0.1661 - val_accuracy: 0.9558\n",
            "Epoch 2/10\n",
            "422/422 [==============================] - 2s 4ms/step - loss: 0.1675 - accuracy: 0.9516 - val_loss: 0.1112 - val_accuracy: 0.9700\n",
            "Epoch 3/10\n",
            "422/422 [==============================] - 1s 3ms/step - loss: 0.1143 - accuracy: 0.9667 - val_loss: 0.0857 - val_accuracy: 0.9755\n",
            "Epoch 4/10\n",
            "422/422 [==============================] - 1s 3ms/step - loss: 0.0817 - accuracy: 0.9771 - val_loss: 0.0759 - val_accuracy: 0.9787\n",
            "Epoch 5/10\n",
            "422/422 [==============================] - 1s 4ms/step - loss: 0.0614 - accuracy: 0.9822 - val_loss: 0.0769 - val_accuracy: 0.9762\n",
            "Epoch 6/10\n",
            "422/422 [==============================] - 1s 3ms/step - loss: 0.0446 - accuracy: 0.9871 - val_loss: 0.0689 - val_accuracy: 0.9777\n",
            "Epoch 7/10\n",
            "422/422 [==============================] - 1s 3ms/step - loss: 0.0333 - accuracy: 0.9911 - val_loss: 0.0653 - val_accuracy: 0.9798\n",
            "Epoch 8/10\n",
            "422/422 [==============================] - 2s 4ms/step - loss: 0.0251 - accuracy: 0.9934 - val_loss: 0.0683 - val_accuracy: 0.9788\n",
            "Epoch 9/10\n",
            "422/422 [==============================] - 2s 4ms/step - loss: 0.0181 - accuracy: 0.9954 - val_loss: 0.0605 - val_accuracy: 0.9845\n",
            "Epoch 10/10\n",
            "422/422 [==============================] - 2s 4ms/step - loss: 0.0133 - accuracy: 0.9969 - val_loss: 0.0680 - val_accuracy: 0.9795\n",
            "실행 시간: 19.11011505126953초\n"
          ]
        }
      ],
      "source": [
        "import time\n",
        "\n",
        "start_time = time.time()\n",
        "\n",
        "history = network.fit(train_images, train_labels, epochs=10, batch_size=128, validation_split=0.1)\n",
        "\n",
        "end_time = time.time()\n",
        "\n",
        "execution_time = end_time - start_time\n",
        "\n",
        "# 실행 시간 출력\n",
        "print(f\"실행 시간: {execution_time}초\")\n",
        "\n",
        "\n",
        "# 6만장 중 10%뺀 5.4만장 중 배치사이즈 128로 나누면 iteration 갯수가 나옴\n",
        "# 트레인데이터셋에서 90프로로 학습하고 10프로만 검증\n",
        "# 향후에 테스트데이터셋으로 검증\n",
        "\n",
        "# 4070 Super : 10.83초\n",
        "# T4 : 19.11초"
      ]
    },
    {
      "cell_type": "code",
      "execution_count": null,
      "metadata": {
        "colab": {
          "base_uri": "https://localhost:8080/",
          "height": 430
        },
        "id": "WJymy7WfT4FQ",
        "outputId": "6cb27d3a-309b-49fa-8ea7-6b5636a41296"
      },
      "outputs": [
        {
          "data": {
            "image/png": "[encoded data removed]",
            "text/plain": [
              "<Figure size 640x480 with 1 Axes>"
            ]
          },
          "metadata": {},
          "output_type": "display_data"
        }
      ],
      "source": [
        "plt.plot(history.history['loss'], label='train loss')\n",
        "plt.plot(history.history['val_loss'], label='val loss')\n",
        "plt.legend()\n",
        "plt.savefig('loss.png')\n",
        "\n",
        "# 오버핏 확인 => 오버핏 이후 성능에 변화가 없으므로 그냥 사용하자"
      ]
    },
    {
      "cell_type": "code",
      "execution_count": null,
      "metadata": {
        "colab": {
          "base_uri": "https://localhost:8080/",
          "height": 430
        },
        "id": "TC8h-w10UPf5",
        "outputId": "6b4a1bf1-bc24-45b5-fbfc-6f6a9f378bc5"
      },
      "outputs": [
        {
          "data": {
            "image/png": "[encoded data removed]",
            "text/plain": [
              "<Figure size 640x480 with 1 Axes>"
            ]
          },
          "metadata": {},
          "output_type": "display_data"
        }
      ],
      "source": [
        "plt.plot(history.history['accuracy'], label='train acc')\n",
        "plt.plot(history.history['val_accuracy'], label='val acc')\n",
        "plt.legend()\n",
        "plt.savefig('acc.png')\n",
        "\n",
        "# 오버핏 확인"
      ]
    },
    {
      "cell_type": "code",
      "execution_count": null,
      "metadata": {
        "colab": {
          "base_uri": "https://localhost:8080/"
        },
        "id": "zMteVDckI6I9",
        "outputId": "64f0cd13-93e2-485e-b22e-d9ec35174443"
      },
      "outputs": [
        {
          "name": "stdout",
          "output_type": "stream",
          "text": [
            "313/313 [==============================] - 1s 2ms/step - loss: 0.0761 - accuracy: 0.9796\n"
          ]
        }
      ],
      "source": [
        "test_loss, test_acc = network.evaluate(test_images, test_labels)"
      ]
    },
    {
      "cell_type": "code",
      "execution_count": null,
      "metadata": {
        "colab": {
          "base_uri": "https://localhost:8080/"
        },
        "id": "acPmSMw5I6I9",
        "outputId": "1e428b6d-c234-44fa-a2a0-2cdec7114d92"
      },
      "outputs": [
        {
          "name": "stdout",
          "output_type": "stream",
          "text": [
            "test_acc: 0.9796000123023987\n"
          ]
        }
      ],
      "source": [
        "print('test_acc:', test_acc)"
      ]
    },
    {
      "cell_type": "code",
      "execution_count": null,
      "metadata": {
        "id": "T3pTbpPKVggX"
      },
      "outputs": [],
      "source": []
    }
  ],
  "metadata": {
    "accelerator": "GPU",
    "colab": {
      "gpuType": "T4",
      "provenance": []
    },
    "kernelspec": {
      "display_name": "Python 3",
      "name": "python3"
    },
    "language_info": {
      "codemirror_mode": {
        "name": "ipython",
        "version": 3
      },
      "file_extension": ".py",
      "mimetype": "text/x-python",
      "name": "python",
      "nbconvert_exporter": "python",
      "pygments_lexer": "ipython3",
      "version": "3.9.18"
    },
    "vscode": {
      "interpreter": {
        "hash": "61d7d72412218704c5ba1799d65c7a83b08e24a9ca7847de9a479f6f426633e7"
      }
    }
  },
  "nbformat": 4,
  "nbformat_minor": 0
}