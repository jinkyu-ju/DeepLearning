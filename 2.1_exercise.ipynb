{
  "cells": [
    {
      "cell_type": "code",
      "execution_count": 1,
      "metadata": {},
      "outputs": [
        {
          "name": "stdout",
          "output_type": "stream",
          "text": [
            "pip 24.0 from C:\\Users\\HyeJinKyu\\AppData\\Roaming\\Python\\Python39\\site-packages\\pip (python 3.9)\n",
            "\n"
          ]
        }
      ],
      "source": [
        "!pip --version\n",
        "\n",
        "# pip install --upgrade pip \n"
      ]
    },
    {
      "cell_type": "code",
      "execution_count": 2,
      "metadata": {},
      "outputs": [
        {
          "name": "stdout",
          "output_type": "stream",
          "text": [
            "Python 3.9.19\n"
          ]
        }
      ],
      "source": [
        "!python -V\n",
        "\n",
        "# Python 3.9.13"
      ]
    },
    {
      "cell_type": "code",
      "execution_count": 30,
      "metadata": {},
      "outputs": [],
      "source": [
        "#pip install keras==2.15.0\n"
      ]
    },
    {
      "cell_type": "code",
      "execution_count": 28,
      "metadata": {},
      "outputs": [],
      "source": [
        "#pip install tensorflow==2.15.0\n"
      ]
    },
    {
      "cell_type": "code",
      "execution_count": 34,
      "metadata": {},
      "outputs": [
        {
          "name": "stdout",
          "output_type": "stream",
          "text": [
            "Looking in indexes: https://pypi.org/simple, https://pypi.ngc.nvidia.com\n",
            "Requirement already satisfied: matplotlib in c:\\users\\hyejinkyu\\appdata\\roaming\\python\\python39\\site-packages (3.8.3)\n",
            "Requirement already satisfied: contourpy>=1.0.1 in c:\\users\\hyejinkyu\\appdata\\roaming\\python\\python39\\site-packages (from matplotlib) (1.2.0)\n",
            "Requirement already satisfied: cycler>=0.10 in c:\\users\\hyejinkyu\\appdata\\roaming\\python\\python39\\site-packages (from matplotlib) (0.12.1)\n",
            "Requirement already satisfied: fonttools>=4.22.0 in c:\\users\\hyejinkyu\\appdata\\roaming\\python\\python39\\site-packages (from matplotlib) (4.50.0)\n",
            "Requirement already satisfied: kiwisolver>=1.3.1 in c:\\users\\hyejinkyu\\appdata\\roaming\\python\\python39\\site-packages (from matplotlib) (1.4.5)\n",
            "Requirement already satisfied: numpy<2,>=1.21 in c:\\users\\hyejinkyu\\appdata\\roaming\\python\\python39\\site-packages (from matplotlib) (1.26.4)\n",
            "Requirement already satisfied: packaging>=20.0 in c:\\users\\hyejinkyu\\appdata\\roaming\\python\\python39\\site-packages (from matplotlib) (23.2)\n",
            "Requirement already satisfied: pillow>=8 in c:\\users\\hyejinkyu\\appdata\\roaming\\python\\python39\\site-packages (from matplotlib) (10.2.0)\n",
            "Requirement already satisfied: pyparsing>=2.3.1 in c:\\users\\hyejinkyu\\appdata\\roaming\\python\\python39\\site-packages (from matplotlib) (3.1.2)\n",
            "Requirement already satisfied: python-dateutil>=2.7 in c:\\users\\hyejinkyu\\appdata\\roaming\\python\\python39\\site-packages (from matplotlib) (2.8.2)\n",
            "Requirement already satisfied: importlib-resources>=3.2.0 in c:\\users\\hyejinkyu\\appdata\\roaming\\python\\python39\\site-packages (from matplotlib) (6.4.0)\n",
            "Requirement already satisfied: zipp>=3.1.0 in c:\\users\\hyejinkyu\\appdata\\roaming\\python\\python39\\site-packages (from importlib-resources>=3.2.0->matplotlib) (3.17.0)\n",
            "Requirement already satisfied: six>=1.5 in c:\\users\\hyejinkyu\\appdata\\roaming\\python\\python39\\site-packages (from python-dateutil>=2.7->matplotlib) (1.16.0)\n",
            "Note: you may need to restart the kernel to use updated packages.\n"
          ]
        }
      ],
      "source": [
        "pip install matplotlib\n"
      ]
    },
    {
      "cell_type": "code",
      "execution_count": 19,
      "metadata": {
        "colab": {
          "base_uri": "https://localhost:8080/",
          "height": 35
        },
        "id": "to9XPbzXI6Iz",
        "outputId": "836523cf-a9f8-45a6-d1be-4df1fcc9f6d6",
        "scrolled": true
      },
      "outputs": [
        {
          "data": {
            "text/plain": [
              "'2.10.0'"
            ]
          },
          "execution_count": 19,
          "metadata": {},
          "output_type": "execute_result"
        }
      ],
      "source": [
        "#Keras import 및 버전 확인\n",
        "# Miniconda : 2.10.0\n",
        "# CoLab : 2.15.0\n",
        "\n",
        "import keras\n",
        "keras.__version__"
      ]
    },
    {
      "cell_type": "code",
      "execution_count": 10,
      "metadata": {
        "colab": {
          "base_uri": "https://localhost:8080/"
        },
        "id": "VLZI0gua88Pv",
        "outputId": "bd5691b4-5fb1-47e3-f720-5ee51d50c058"
      },
      "outputs": [
        {
          "name": "stdout",
          "output_type": "stream",
          "text": [
            "Python 3.9.13\n"
          ]
        }
      ],
      "source": [
        "#CoLab : 2.10.12\n",
        "# Miniconda : 3.9.18\n",
        "# Colab : 2.10.12\n",
        "# Local : 3.9.13\n",
        "\n",
        "!python -V"
      ]
    },
    {
      "cell_type": "code",
      "execution_count": 4,
      "metadata": {
        "colab": {
          "base_uri": "https://localhost:8080/"
        },
        "id": "rlqxc0H1Zacs",
        "outputId": "0d9b2ceb-94ab-4dad-ab4e-e943e2f41485"
      },
      "outputs": [
        {
          "name": "stdout",
          "output_type": "stream",
          "text": [
            "Thu Mar 28 22:53:59 2024       \n",
            "+-----------------------------------------------------------------------------------------+\n",
            "| NVIDIA-SMI 551.86                 Driver Version: 551.86         CUDA Version: 12.4     |\n",
            "|-----------------------------------------+------------------------+----------------------+\n",
            "| GPU  Name                     TCC/WDDM  | Bus-Id          Disp.A | Volatile Uncorr. ECC |\n",
            "| Fan  Temp   Perf          Pwr:Usage/Cap |           Memory-Usage | GPU-Util  Compute M. |\n",
            "|                                         |                        |               MIG M. |\n",
            "|=========================================+========================+======================|\n",
            "|   0  NVIDIA GeForce RTX 4070 ...  WDDM  |   00000000:01:00.0 Off |                  N/A |\n",
            "|  0%   37C    P8              3W /  220W |       0MiB /  12282MiB |      0%      Default |\n",
            "|                                         |                        |                  N/A |\n",
            "+-----------------------------------------+------------------------+----------------------+\n",
            "                                                                                         \n",
            "+-----------------------------------------------------------------------------------------+\n",
            "| Processes:                                                                              |\n",
            "|  GPU   GI   CI        PID   Type   Process name                              GPU Memory |\n",
            "|        ID   ID                                                               Usage      |\n",
            "|=========================================================================================|\n",
            "|  No running processes found                                                             |\n",
            "+-----------------------------------------------------------------------------------------+\n"
          ]
        }
      ],
      "source": [
        "!nvidia-smi"
      ]
    },
    {
      "cell_type": "markdown",
      "metadata": {
        "id": "3wa6Byf__Oi2"
      },
      "source": [
        "## 1. Data loading"
      ]
    },
    {
      "cell_type": "markdown",
      "metadata": {},
      "source": [
        "#### mnist(Modified National Institute of Standards and Technology database)"
      ]
    },
    {
      "cell_type": "code",
      "execution_count": 20,
      "metadata": {
        "colab": {
          "base_uri": "https://localhost:8080/"
        },
        "id": "OszUTbNQI6I3",
        "outputId": "1aa23c2a-83df-4a04-aeb0-06a78a0b3673"
      },
      "outputs": [],
      "source": [
        "from keras.datasets import mnist\n",
        "\n",
        "(train_images, train_labels), (test_images, test_labels) = mnist.load_data()"
      ]
    },
    {
      "cell_type": "markdown",
      "metadata": {},
      "source": [
        "#### Python 데이터 타입\n",
        "* > list()  : [ ], 순서가 있고(인덱스 기반 접근), 중복이 가능하며, 수정이 가능\n",
        "  + 삽입(append), 삭제(remove), 정렬(sort)\n",
        "\n",
        "* > tuple() : ( ), 순서가 있고(인덱스 기반 접근), 중복이 가능하며, 수정이 불가능(Immutable) *수정불가능한 리스트\n",
        "  + 수정이 불가능하므로 append, remove, sort 불가능, count 가능 *속도가 빠름\n",
        "\n",
        "* > set()   : { }, 순서가 없고, 중복이 불가능하며, 수정이 가능\n",
        "\n",
        "* > dict()  : {key:value}, 순서가 없고, 중복이 불가능하면, 수정이 가능, key로만 접근\n",
        "  + map이라고 생각하면 됨.\n",
        "  + keys(), values()로 리턴\n",
        " "
      ]
    },
    {
      "cell_type": "markdown",
      "metadata": {},
      "source": [
        "#### Numpy\n",
        "* numpy : 파이썬의 수치해석용 라이브러리\n",
        "\n",
        "* ndarray : Numpy의 핵심인 다차원 행렬 자료구조 클래스\n",
        "\n",
        "* https://numpy.org/doc/stable/reference/generated/numpy.ndarray.html\n",
        "\n",
        "* > Python 리스트\n",
        "  + 여러가지 타입의 원소\n",
        "  + linked List 구현\n",
        "  + 메모리 용량이 크고 속도가 느림\n",
        "  + 벡터화 연산 불가\n",
        "  + list는 여러 타입이 존재할 수 있다\n",
        "\n",
        "* > NumPy ndarray\n",
        "  + 동일 타입의 원소(int, float, nbyte)\n",
        "  + contiguous memory layout\n",
        "  + 메모리 최적화, 계산 속도 향상\n",
        "  + 벡터화 연산 가능\n",
        "  + shape/dtype/ndim/size/nbytes\n",
        "  + ndarray는 하나의 타입만 존재할 수 있다\n",
        "  + axis는 따라서 0(차원), 1(행), 2(열)의 값을 가진다\n",
        "  + int(32), int8, float(32)"
      ]
    },
    {
      "cell_type": "code",
      "execution_count": 21,
      "metadata": {},
      "outputs": [
        {
          "name": "stdout",
          "output_type": "stream",
          "text": [
            "train images shape / type ;  (60000, 28, 28) <class 'numpy.ndarray'>\n",
            "train labels shape / type ;  (60000,) <class 'numpy.ndarray'>\n"
          ]
        }
      ],
      "source": [
        "# train_images의 형태와 타입을 출력\n",
        "print('train images shape / type ; ', train_images.shape, type(train_images))\n",
        "\n",
        "# train_labels의 형태와 타입을 출력\n",
        "print('train labels shape / type ; ', train_labels.shape, type(train_labels))\n",
        "\n",
        "\n",
        "\n",
        "\n",
        "#print('train img shape / type ; ', train_images.shape, type(train_images))"
      ]
    },
    {
      "cell_type": "code",
      "execution_count": 17,
      "metadata": {},
      "outputs": [
        {
          "name": "stdout",
          "output_type": "stream",
          "text": [
            "shape: (2, 5)\n",
            "dtype: int32\n",
            "ndim : 2\n",
            "nbytes: 40\n",
            "a_ndarray[0, 1]: 2\n",
            "a_ndarray: [[ 1  2  3  4  5]\n",
            " [ 6  7  8  9 10]]\n"
          ]
        }
      ],
      "source": [
        "# 연습\n",
        "import numpy as np\n",
        "a = [[1, 2, 3, 4, 5],[6, 7, 8, 9, 10]]\n",
        "a_ndarray = np.array(a, int)\n",
        "\n",
        "print(\"shape:\",a_ndarray.shape)\n",
        "print(\"dtype:\",a_ndarray.dtype)\n",
        "print(\"ndim :\",a_ndarray.ndim)\n",
        "print(\"nbytes:\",a_ndarray.nbytes) # int 32=>4bytes * 5 = 20bytes\n",
        "print(\"a_ndarray[0, 1]:\",a_ndarray[0, 1])\n",
        "print(\"a_ndarray:\",a_ndarray)"
      ]
    },
    {
      "cell_type": "code",
      "execution_count": 27,
      "metadata": {},
      "outputs": [
        {
          "name": "stdout",
          "output_type": "stream",
          "text": [
            "shape: (5, 3, 4)\n",
            "ndim: 3\n",
            "size: 60\n",
            "nbytes: 240\n",
            "size: 60\n",
            "nbytes: 60\n"
          ]
        }
      ],
      "source": [
        "# 연습\n",
        "d = [[[1, 2, 5, 8], [1, 2, 5, 8], [1, 2, 5, 8]],\n",
        "     [[1, 2, 5, 8], [1, 2, 5, 8], [1, 2, 5, 8]],\n",
        "     [[1, 2, 5, 8], [1, 2, 5, 8], [1, 2, 5, 8]],\n",
        "     [[1, 2, 5, 8], [1, 2, 5, 8], [1, 2, 5, 8]],\n",
        "     [[1, 2, 5, 8], [1, 2, 5, 8], [1, 2, 5, 8]]]  # 4x3x4 3차원 배열 선언\n",
        "d_ndarray = np.array(d, int)\n",
        "print(\"shape:\", d_ndarray.shape) # 3rd order tensor\n",
        "print(\"ndim:\", d_ndarray.ndim) # number of dimensions\n",
        "print(\"size:\", d_ndarray.size) # 48 == 4x3x4\n",
        "print(\"nbytes:\", d_ndarray.nbytes) # 48 * 4bytes == 4x3x4\n",
        "\n",
        "d_ndarray = np.array(d, dtype=np.int8)\n",
        "print(\"size:\", d_ndarray.size) # 48 == 4x3x4\n",
        "print(\"nbytes:\", d_ndarray.nbytes) # 48 * 4bytes == 4x3x4"
      ]
    },
    {
      "cell_type": "markdown",
      "metadata": {
        "id": "T5908QcP_lQu"
      },
      "source": [
        "## 2. Data check"
      ]
    },
    {
      "cell_type": "code",
      "execution_count": 22,
      "metadata": {
        "colab": {
          "base_uri": "https://localhost:8080/"
        },
        "id": "tDmcviYZI6I4",
        "outputId": "679dc3aa-faa8-43a3-f4c9-6c5b908f6716"
      },
      "outputs": [
        {
          "name": "stdout",
          "output_type": "stream",
          "text": [
            "train img shape / type ;  (60000, 28, 28) <class 'numpy.ndarray'>\n",
            "train label shape / type ;  (60000,) <class 'numpy.ndarray'>\n",
            "test img shape / type ;  (10000, 28, 28) <class 'numpy.ndarray'>\n",
            "test label shape / type ;  (10000,) <class 'numpy.ndarray'>\n"
          ]
        }
      ],
      "source": [
        "print('train img shape / type ; ', train_images.shape, type(train_images))\n",
        "print('train label shape / type ; ', train_labels.shape, type(train_labels))\n",
        "print('test img shape / type ; ', test_images.shape, type(test_images))\n",
        "print('test label shape / type ; ', test_labels.shape, type(test_labels))"
      ]
    },
    {
      "cell_type": "markdown",
      "metadata": {
        "id": "PrA7HFlEBaGS"
      },
      "source": [
        "###2-1. image - label 간 매칭을 확인해보세요."
      ]
    },
    {
      "cell_type": "code",
      "execution_count": 50,
      "metadata": {
        "colab": {
          "base_uri": "https://localhost:8080/",
          "height": 447
        },
        "id": "GZWxlMTDI6I4",
        "outputId": "207d199b-2443-4b67-8edc-93999b6bfeb6"
      },
      "outputs": [
        {
          "ename": "TypeError",
          "evalue": "'numpy.float32' object is not iterable",
          "output_type": "error",
          "traceback": [
            "\u001b[1;31m---------------------------------------------------------------------------\u001b[0m",
            "\u001b[1;31mTypeError\u001b[0m                                 Traceback (most recent call last)",
            "Cell \u001b[1;32mIn[50], line 7\u001b[0m\n\u001b[0;32m      4\u001b[0m \u001b[38;5;66;03m#print(train_images[1597])\u001b[39;00m\n\u001b[0;32m      6\u001b[0m \u001b[38;5;28;01mfor\u001b[39;00m row \u001b[38;5;129;01min\u001b[39;00m train_images[random_val]:\n\u001b[1;32m----> 7\u001b[0m     \u001b[38;5;28mprint\u001b[39m(\u001b[38;5;124m'\u001b[39m\u001b[38;5;124m \u001b[39m\u001b[38;5;124m'\u001b[39m\u001b[38;5;241m.\u001b[39mjoin([\u001b[38;5;124mf\u001b[39m\u001b[38;5;124m\"\u001b[39m\u001b[38;5;132;01m{\u001b[39;00mpixel\u001b[38;5;132;01m:\u001b[39;00m\u001b[38;5;124m3d\u001b[39m\u001b[38;5;132;01m}\u001b[39;00m\u001b[38;5;124m\"\u001b[39m \u001b[38;5;28;01mfor\u001b[39;00m pixel \u001b[38;5;129;01min\u001b[39;00m row]))\n\u001b[0;32m     11\u001b[0m plt\u001b[38;5;241m.\u001b[39mimshow(train_images[random_val])\n\u001b[0;32m     12\u001b[0m plt\u001b[38;5;241m.\u001b[39mimshow(test_images[random_val])\n",
            "\u001b[1;31mTypeError\u001b[0m: 'numpy.float32' object is not iterable"
          ]
        }
      ],
      "source": [
        "import matplotlib.pyplot as plt\n",
        "\n",
        "random_val = 123\n",
        "#print(train_images[1597])\n",
        "\n",
        "for row in train_images[random_val]:\n",
        "    print(' '.join([f\"{pixel:3d}\" for pixel in row]))\n",
        "\n",
        "\n",
        "\n",
        "plt.imshow(train_images[random_val])\n",
        "\n",
        "print(\"--------------------------------------------------------------------------------\")\n",
        "print(\"Train Label:[\", train_labels[random_val], \"]\")\n",
        "print(\"--------------------------------------------------------------------------------\")"
      ]
    },
    {
      "cell_type": "code",
      "execution_count": 24,
      "metadata": {
        "colab": {
          "base_uri": "https://localhost:8080/"
        },
        "id": "OozBn5dPI6I5",
        "outputId": "92a210ee-113f-4e0f-9d5b-9a392d33b503"
      },
      "outputs": [
        {
          "data": {
            "text/plain": [
              "0"
            ]
          },
          "execution_count": 24,
          "metadata": {},
          "output_type": "execute_result"
        }
      ],
      "source": [
        "train_labels[1000]"
      ]
    },
    {
      "cell_type": "markdown",
      "metadata": {
        "id": "CXwLIXlvB158"
      },
      "source": [
        "###2-2. 데이터 분포를 확인해보세요.\n"
      ]
    },
    {
      "cell_type": "code",
      "execution_count": 25,
      "metadata": {},
      "outputs": [],
      "source": [
        "label_set = set(train_labels)\n",
        "lable_list = list(set(train_labels))\n",
        "\n",
        "# set => {0, 1, 2, 3, 4, 5, 6, 7, 8, 9} => 요소의 집합(순서없음) => 요소에 접근할수 없어서 list나 tuple로 변환해서 사용\n",
        "# list => [0, 1, 2, 3, 4, 5, 6, 7, 8, 9] => 요소의 집합(순서있음)\n",
        "\n"
      ]
    },
    {
      "cell_type": "code",
      "execution_count": 26,
      "metadata": {
        "colab": {
          "base_uri": "https://localhost:8080/"
        },
        "id": "6zLykKNCCSo1",
        "outputId": "f9c88894-d84b-4b40-c1fb-7299ce264ca2"
      },
      "outputs": [
        {
          "data": {
            "text/plain": [
              "[0, 1, 2, 3, 4, 5, 6, 7, 8, 9]"
            ]
          },
          "execution_count": 26,
          "metadata": {},
          "output_type": "execute_result"
        }
      ],
      "source": [
        "label_list = list(set(train_labels))\n",
        "label_list.sort()\n",
        "label_list"
      ]
    },
    {
      "cell_type": "code",
      "execution_count": 27,
      "metadata": {},
      "outputs": [
        {
          "name": "stdout",
          "output_type": "stream",
          "text": [
            "0 : 0\n",
            "1 : 1\n",
            "2 : 2\n",
            "3 : 3\n",
            "4 : 4\n",
            "5 : 5\n",
            "6 : 6\n",
            "7 : 7\n",
            "8 : 8\n",
            "9 : 9\n"
          ]
        }
      ],
      "source": [
        "len(label_list)\n",
        "# 10\n",
        "\n",
        "for i in range(len(label_list)):\n",
        "    print(f\"{i} : {label_list[i]}\")"
      ]
    },
    {
      "cell_type": "code",
      "execution_count": 28,
      "metadata": {},
      "outputs": [
        {
          "name": "stdout",
          "output_type": "stream",
          "text": [
            "label_count f{label} [5923]\n",
            "label_count f{label} [5923, 6742]\n",
            "label_count f{label} [5923, 6742, 5958]\n",
            "label_count f{label} [5923, 6742, 5958, 6131]\n",
            "label_count f{label} [5923, 6742, 5958, 6131, 5842]\n",
            "label_count f{label} [5923, 6742, 5958, 6131, 5842, 5421]\n",
            "label_count f{label} [5923, 6742, 5958, 6131, 5842, 5421, 5918]\n",
            "label_count f{label} [5923, 6742, 5958, 6131, 5842, 5421, 5918, 6265]\n",
            "label_count f{label} [5923, 6742, 5958, 6131, 5842, 5421, 5918, 6265, 5851]\n",
            "label_count f{label} [5923, 6742, 5958, 6131, 5842, 5421, 5918, 6265, 5851, 5949]\n"
          ]
        }
      ],
      "source": [
        "label_count = []\n",
        "for label in label_list:\n",
        "    count = list(train_labels).count(label)\n",
        "    label_count.append(count)\n",
        "    print(\"label_count f{label}\",  label_count)\n",
        "#print(label_count)\n"
      ]
    },
    {
      "cell_type": "code",
      "execution_count": 29,
      "metadata": {
        "colab": {
          "base_uri": "https://localhost:8080/"
        },
        "id": "HZJh_h35Di-X",
        "outputId": "94281c53-33d7-4610-83d3-de0f5ff14378"
      },
      "outputs": [
        {
          "data": {
            "text/plain": [
              "[5923, 6742, 5958, 6131, 5842, 5421, 5918, 6265, 5851, 5949]"
            ]
          },
          "execution_count": 29,
          "metadata": {},
          "output_type": "execute_result"
        }
      ],
      "source": [
        "label_count = [list(train_labels).count(label_list[i]) for i in range(len(label_list))]\n",
        "label_count"
      ]
    },
    {
      "cell_type": "code",
      "execution_count": 30,
      "metadata": {},
      "outputs": [
        {
          "data": {
            "image/png": "[encoded data removed]",
            "text/plain": [
              "<Figure size 640x480 with 1 Axes>"
            ]
          },
          "metadata": {},
          "output_type": "display_data"
        }
      ],
      "source": [
        "plt.bar(label_list, label_count)\n",
        "plt.xticks(range(len(label_list)), label_list)\n",
        "\n",
        "for i, count in enumerate(label_count):\n",
        "    plt.text(i, count, str(count), ha='center', va='bottom')\n",
        "    \n",
        "plt.show()\n"
      ]
    },
    {
      "cell_type": "code",
      "execution_count": 31,
      "metadata": {
        "colab": {
          "base_uri": "https://localhost:8080/",
          "height": 448
        },
        "id": "VC9LrrMOCSSi",
        "outputId": "12611508-3a61-4337-b43e-3a8f42b0efcf"
      },
      "outputs": [
        {
          "data": {
            "text/plain": [
              "<BarContainer object of 10 artists>"
            ]
          },
          "execution_count": 31,
          "metadata": {},
          "output_type": "execute_result"
        },
        {
          "data": {
            "image/png": "[encoded data removed]",
            "text/plain": [
              "<Figure size 640x480 with 1 Axes>"
            ]
          },
          "metadata": {},
          "output_type": "display_data"
        }
      ],
      "source": [
        "plt.bar(label_list,label_count)"
      ]
    },
    {
      "cell_type": "markdown",
      "metadata": {
        "id": "mFYd4C9XFBVy"
      },
      "source": [
        "## 3. 모델 설계 및 학습"
      ]
    },
    {
      "cell_type": "markdown",
      "metadata": {
        "id": "WL-sQ8GVJ0rM"
      },
      "source": [
        "###3-1. activation function을 변경하고 학습 후 loss curve를 비교해보세요.\n",
        "\n",
        "activation function 종류 확인 : https://keras.io/api/layers/activations/\n",
        "\n",
        "- relu, sigmoid, softmax, softplus, softsign, tanh, selu, elu, exponential"
      ]
    },
    {
      "cell_type": "markdown",
      "metadata": {
        "id": "oaeFJlGf1gO3"
      },
      "source": [
        "###3-2. 각 레이어의 노드 수를 변경하고 학습 후 loss curve를 비교해보세요."
      ]
    },
    {
      "cell_type": "markdown",
      "metadata": {
        "id": "HVqxTnI81nUN"
      },
      "source": [
        "###3-3 모델의 레이어를 변경하고 학습 후 loss curve를 비교해보세요."
      ]
    },
    {
      "cell_type": "markdown",
      "metadata": {
        "id": "1itTv2801sND"
      },
      "source": [
        "###3-4. optimizer를 변경하고 학습 후 loss curve를 비교해보세요.\n",
        "\n",
        "keras.optimizers 이용 : https://keras.io/api/optimizers/\n",
        "\n",
        "- optimizer list : SGD, RMSprop, Adam, Adadelta, Adagrad, Adamax, Nadam, Ftrl\n"
      ]
    },
    {
      "cell_type": "markdown",
      "metadata": {
        "id": "D2_Sr4EyTEnY"
      },
      "source": [
        "keras fit method argument list\n",
        "\n",
        "Model.fit(\n",
        "    x=None,\n",
        "    y=None,\n",
        "    batch_size=None,\n",
        "    epochs=1,\n",
        "    verbose=\"auto\",\n",
        "    callbacks=None,\n",
        "    validation_split=0.0,\n",
        "    validation_data=None,\n",
        "    shuffle=True,\n",
        "    class_weight=None,\n",
        "    sample_weight=None,\n",
        "    initial_epoch=0,\n",
        "    steps_per_epoch=None,\n",
        "    validation_steps=None,\n",
        "    validation_batch_size=None,\n",
        "    validation_freq=1,\n",
        "    max_queue_size=10,\n",
        "    workers=1,\n",
        "    use_multiprocessing=False,\n",
        ")"
      ]
    },
    {
      "cell_type": "markdown",
      "metadata": {
        "id": "fs3LtbNQGsoa"
      },
      "source": [
        "Base model"
      ]
    },
    {
      "cell_type": "markdown",
      "metadata": {},
      "source": [
        "명령어\t설명&예시\n",
        "keras.models.Sequential\t- 단순한 순차 딥러닝 모델 설계\n",
        "keras.Model\t \n",
        "keras.layers.Input\t- input 값 설정\n",
        "> keras.layers.Input(shape=[25,25], name = 'user_embed)\n",
        "keras.layers.Flatten\tInput 값의 차원을 변환해 주는 함수\n",
        "> keras.layers.Flatten(input_shape=[28, 28])\n",
        "keras.layers.Dense\t층을 한개 추가 함\n",
        "> keras.layers.Dense(300, activation='relu')\n",
        "keras.layers.Concatenate()\t- 이름 그대로 input들을 concat함\n",
        "> keras.layer.Concatenate()([input1_, hidden1])\n",
        "model.summary()\t설계한 딥러닝 모델의 층, 파라미터 수 등 summary 반환\n",
        "model.compile()\t- 사용할 loss ftn, optimizer, metrics, learning rate 등 모델 학습에 사용될 옵션들을 지정함\n",
        "model.fit\t모델을 학습 시킴.\n",
        "model.evaluate\t모델을 평가함\n",
        "model.predict()\t예측 값을 반환함. 0~1 사이의 값\n",
        "model.save()\tHDF5 포맷을 사용하여 모델 구조와 층의 모든 모델 파라미터를 저장함\n",
        "* Sequential model과 함수형 모델에서만 사용 가능.\n",
        "> model.save(\"model_name.h5\")\n",
        "model.load_model()\t모델 불러오기\n",
        "> model.load_model(\"model_name.h5\")\n",
        "keras.callbacks.ModelCheckpoint()\t모델의 체크 포인트 저장\n",
        "* Sequential model과 함수형 모델에서만 사용 가능.\n",
        "> keras.callbacks.ModelCheckpoint(\"model_name.h5\", save_best_only=True)\n",
        "keras.callbacks.EarlyStopping()\t- 일정 epoch 동안(patience 매개변수) 모델 성능이 향상되지 않는 경우 stop함.\n",
        "> keras.callbacks.EarlyStopping(patience=10, restore_best_weights=True)\n",
        "사용자정의 callback도 만들 수 있음\t"
      ]
    },
    {
      "cell_type": "markdown",
      "metadata": {},
      "source": [
        "#### Activation Function\n",
        "* https://keras.io/api/layers/activation_layers/\n",
        "* > sigmoid 함수 (이진분류의 출력함수)\n",
        "  - σ′(x)=σ(x)(1−σ(x))\n",
        "  - 0에서 1사이의 값을 가짐\n",
        "  - 매우 큰 값을 가지면 함수값은 거의 1이며, 매우 작은 값을 가지면 거의 0이다\n",
        "  - 초기엔 많이 사용하였지만 지금은 거의 사용안함(Gradient Vanishing 현상, 함수값 중심이 0이 아니라 학습이 느림, exp 함수 사용시 비용이 크다)\n",
        "  \n",
        "* > tanh 함수, (Hyperbolic tangent function)\n",
        "  - tanh(x)=2σ(2x)−1\n",
        "  - -1에서 1사이의 값\n",
        "  - sigmoid의 중심값이 0이 아님을 0으로 만드는 함수(gradient vanishing 문제는 여전히 남아있다)\n",
        "  - 은닉층에 많이 사용\n",
        "  - *gradient vanishing 문제 :  활성화 함수인 시그모이드(Sigmoid) 함수는 출력값이 0과 1 사이로 제한되며, 입력값이 너무 크거나 작을 때 그 미분값이 매우 작아집니다. 따라서, 심층 신경망에서는 각 레이어를 거치면서 이 작은 미분값들이 곱해지게 되고, 결과적으로 초기 레이어로 전달되는 기울기가 매우 작아질 수 있습니다.\n",
        "\n",
        "* > ReLU 함수 (Rectified Linear Unit) \n",
        "  - f(x)=max(0,x)\n",
        "  - 0보다 작으면 0, 0보다 크면 기울기 1인 직선(값을 그대로 출력)\n",
        "  - 은닉층에 많이 사용\n",
        "  - sigmoid, tanh 함수와 비교시 학습이 훨씬 빨라진다\n",
        "  - 연산 비용이 크지않고, 구현이 매우 간단\n",
        "  - Dying ReLU : \n",
        "\n",
        "* > Leakly ReLU\n",
        "  - f(x)=max(0.01x,x)\n",
        "  - ReLU의 뉴런이 죽는(“Dying ReLU”)현상을 해결하기위해 나온 함수\n",
        "  - Leakly ReLU는 음수의 x값에 대해 미분값이 0되지 않는다는 점을 제외하면 ReLU와 같은 특성\n",
        "  - ReLU의 변형으로, 음수 입력에 대해 아주 작은 양의 기울기를 부여합니다. 이는 뉴런이 완전히 죽지 않도록 하여, 학습이 계속될 수 있도록 돕습니다\n",
        "\n",
        "* > PReLU (Parametric ReLU)\n",
        "  - f(x)=max(αx,x)\n",
        "  - Leakly ReLU와 거의 유사하지만 새로운 파라미터 α 를 추가하여 x<0 에서 기울기를 학습할 수 있게 하였다\n",
        "  - Leaky ReLU의 확장형으로, 음수 입력에 대한 기울기가 학습 가능한 파라미터가 됩니다\n",
        "\n",
        "* > Exponential Linear Unit(ELU)\n",
        "  - f(x)=x if x > 0, f(x)=α(ex−1) if x ≤ 0\n",
        "  - ELU는 비교적 가장 최근에 나온 함수이다. Clevert et al. ,2015\n",
        "  - ReLU의 모든 장점을 포함한다\n",
        "  - “Dying ReLU” 문제 해결\n",
        "  - 출력값이 거의 zero-centered에 가깝다\n",
        "  - 일반적인 ReLU와 달리 exp함수를 계산하는 비용이 발생한다\n",
        "\n",
        "* > Maxout 함수\n",
        "  - f(x)=max(wT1x+b1,wT2x+b2)\n",
        "  - ReLU가 가지는 모든 장점을 가짐\n",
        "  - “Dying ReLU” 문제 해결\n",
        "  - 계산량이 복잡하다는 단점\n",
        "\n",
        "* > softmax 함수 (다중분류의 출력함수)\n",
        "  - 시그모이드와 비슷하게, 0~1사이로 변환하여 출력하지만, 출력값들의 합이 1이 되도록 하는 함수\n",
        "\n",
        "* > 결론\n",
        "  - 가장 많이 사용되는 함수는 ReLU이다\n",
        "  - 우선적으로 ReLU를 사용한다\n",
        "  - ReLU를 사용한 이후 Leakly ReLU등 ReLU계열의 다른 함수도 사용 해본다\n",
        "  - sigmoid의 경우에는 사용하지 않도록 한다.\n",
        "  - tanh의 경우도 큰 성능은 나오지 않는다.\n",
        "\n",
        "\n",
        "  "
      ]
    },
    {
      "cell_type": "code",
      "execution_count": 32,
      "metadata": {
        "id": "t-38YlmFI6I7"
      },
      "outputs": [],
      "source": [
        "from keras import models\n",
        "from keras import layers\n",
        "#models 모듈에서는 모델을 생성하고 관리하는 데 필요한 기능을 제공\n",
        "#layers 모듈에서는 신경망의 다양한 층(예: 완전 연결 층, 합성곱 층 등)을 구현할 수 있는 클래스를 제공합니다.\n",
        "\n",
        "#신경망 모델 생성\n",
        "# keras에는 세가지 모델 선언 방법이 있음\n",
        "\n",
        "# 순차모델(Sequential model)\n",
        "# 함수형 API(Functional API)\n",
        "# 서브클래싱 API(Subclassing API)\n",
        "\n",
        "network = models.Sequential()\n",
        "\n",
        "\n",
        "# Dense\n",
        "# units : 출력 뉴런의 수\n",
        "# activation : 활성화 함수(\n",
        "# - linear:기본값(입력과동일한값을 출력)\n",
        "# - relu:은닉층에 많이 사용(0이상의값)\n",
        "# - sigmoid:이중분류(0~1)\n",
        "# - softmax:다중클래스\n",
        "# - tanh:은닉층에 많이 사용(-1~1 )\n",
        "# - selu:고급활성화함수\n",
        "# input_shape : 입력 형태\n",
        "# kernel_initializer : 가중치 초기화 방법(uniform: 균등분포, normal: 정규분포, zero: 0으로 초기화, he_normal: He 초기화, glorot_normal: Xavier 초기화)\n",
        "\n",
        "# model -> dense -> compile -> fit -> evaluate -> predict\n",
        "\n",
        "network.add(layers.Dense(512, activation='relu', input_shape=(28 * 28,)))\n",
        "network.add(layers.Dense(256, activation='relu'))\n",
        "network.add(layers.Dense(128, activation='elu'))\n",
        "network.add(layers.Dense(10, activation='softmax')) #하려는게 0~10의 분류문제이므로 10으로 지정 확률로하는 softmax => 분류문제는 클래스 갯수 softmax를 일반적으로 사용\n"
      ]
    },
    {
      "cell_type": "code",
      "execution_count": null,
      "metadata": {},
      "outputs": [],
      "source": [
        "from keras import models\n",
        "from keras import layers\n",
        "#models 모듈에서는 모델을 생성하고 관리하는 데 필요한 기능을 제공\n",
        "#layers 모듈에서는 신경망의 다양한 층(예: 완전 연결 층, 합성곱 층 등)을 구현할 수 있는 클래스를 제공합니다.\n",
        "\n",
        "#신경망 모델 생성\n",
        "# keras에는 세가지 모델 선언 방법이 있음\n",
        "# 순차모델(Sequential model)\n",
        "# 함수형 API(Functional API)\n",
        "# 서브클래싱 API(Subclassing API)\n",
        "keras_model = models.Sequential()\n",
        "\n",
        "\n",
        "#keras.layers.Dense => 층을 한개 추가함.\n",
        "\n",
        "# \n",
        "keras_model.add(layers.Dense(512, activation='tanh', input_shape=(28 * 28,)))\n",
        "keras_model.add(layers.Dense(128, activation='sigmoid'))\n",
        "keras_model.add(layers.Dense(10, activation='softmax')) #하려는게 0~10의 분류문제이므로 10으로 지정 확률로하는 softmax => 분류문제는 클래스 갯수 softmax를 일반적으로 사용"
      ]
    },
    {
      "cell_type": "code",
      "execution_count": 33,
      "metadata": {
        "colab": {
          "base_uri": "https://localhost:8080/"
        },
        "id": "dPChIFraENL0",
        "outputId": "43c37ed3-78ea-45bb-e86a-2d36abcaded1"
      },
      "outputs": [
        {
          "name": "stdout",
          "output_type": "stream",
          "text": [
            "Model: \"sequential_1\"\n",
            "_________________________________________________________________\n",
            " Layer (type)                Output Shape              Param #   \n",
            "=================================================================\n",
            " dense_4 (Dense)             (None, 512)               401920    \n",
            "                                                                 \n",
            " dense_5 (Dense)             (None, 256)               131328    \n",
            "                                                                 \n",
            " dense_6 (Dense)             (None, 128)               32896     \n",
            "                                                                 \n",
            " dense_7 (Dense)             (None, 10)                1290      \n",
            "                                                                 \n",
            "=================================================================\n",
            "Total params: 567,434\n",
            "Trainable params: 567,434\n",
            "Non-trainable params: 0\n",
            "_________________________________________________________________\n"
          ]
        }
      ],
      "source": [
        "network.summary()"
      ]
    },
    {
      "cell_type": "code",
      "execution_count": 34,
      "metadata": {
        "id": "luShOrqgI6I7"
      },
      "outputs": [],
      "source": [
        "# 분류는 categorical_cross...사용\n",
        "\n",
        "network.compile(optimizer='adam',\n",
        "                loss='categorical_crossentropy',\n",
        "                metrics=['accuracy'])"
      ]
    },
    {
      "cell_type": "code",
      "execution_count": 35,
      "metadata": {
        "colab": {
          "base_uri": "https://localhost:8080/"
        },
        "id": "5TpIaA13l3Np",
        "outputId": "28626805-1122-4ad0-8172-1da24ef60e60"
      },
      "outputs": [
        {
          "data": {
            "text/plain": [
              "(60000, 28, 28)"
            ]
          },
          "execution_count": 35,
          "metadata": {},
          "output_type": "execute_result"
        }
      ],
      "source": [
        "train_images.shape"
      ]
    },
    {
      "cell_type": "code",
      "execution_count": 36,
      "metadata": {
        "id": "IWY3gIfvI6I8"
      },
      "outputs": [],
      "source": [
        "#트레인 6만장 0~255 픽셀\n",
        "#스케일링해줌\n",
        "#786 언디센트?로 바뀜\n",
        "\n",
        "train_images = train_images.reshape((60000, 28 * 28))\n",
        "train_images = train_images.astype('float32') / 255\n",
        "\n",
        "test_images = test_images.reshape((10000, 28 * 28))\n",
        "test_images = test_images.astype('float32') / 255"
      ]
    },
    {
      "cell_type": "code",
      "execution_count": 37,
      "metadata": {
        "colab": {
          "base_uri": "https://localhost:8080/"
        },
        "id": "qcS8ynoFFUfT",
        "outputId": "1f0f6462-0b26-486f-84f2-afb362737784"
      },
      "outputs": [
        {
          "data": {
            "text/plain": [
              "(784,)"
            ]
          },
          "execution_count": 37,
          "metadata": {},
          "output_type": "execute_result"
        }
      ],
      "source": [
        "train_images[0].shape"
      ]
    },
    {
      "cell_type": "code",
      "execution_count": 38,
      "metadata": {
        "id": "Z8U_ksXuI6I8"
      },
      "outputs": [],
      "source": [
        "#원-핫 인코딩\n",
        "\n",
        "from tensorflow.keras.utils import to_categorical\n",
        "\n",
        "train_labels = to_categorical(train_labels)\n",
        "test_labels = to_categorical(test_labels)"
      ]
    },
    {
      "cell_type": "code",
      "execution_count": 39,
      "metadata": {
        "colab": {
          "base_uri": "https://localhost:8080/"
        },
        "id": "OR-rBsvUFe6k",
        "outputId": "8cdf50c1-5fb4-4630-86b1-965c048817cc"
      },
      "outputs": [
        {
          "data": {
            "text/plain": [
              "(60000, 10)"
            ]
          },
          "execution_count": 39,
          "metadata": {},
          "output_type": "execute_result"
        }
      ],
      "source": [
        "train_labels.shape"
      ]
    },
    {
      "cell_type": "code",
      "execution_count": 40,
      "metadata": {
        "colab": {
          "base_uri": "https://localhost:8080/"
        },
        "id": "mZI42FdJyaBQ",
        "outputId": "67ec085b-6cd9-4de5-a772-8dfd01c64333"
      },
      "outputs": [
        {
          "data": {
            "text/plain": [
              "array([0., 0., 0., 0., 0., 1., 0., 0., 0., 0.], dtype=float32)"
            ]
          },
          "execution_count": 40,
          "metadata": {},
          "output_type": "execute_result"
        }
      ],
      "source": [
        "train_labels[0]"
      ]
    },
    {
      "cell_type": "markdown",
      "metadata": {},
      "source": [
        "#### Keras\n",
        " * > 1.model\n",
        "   - Sequential\n",
        " * > 2.layer(Dense)\n",
        "   - ReLU, LeakyReLU, PReLU, ELU\n",
        " * > 3.compile\n",
        "   - optimizer='adam',\n",
        "     + 학습 과정에서 사용할 최적화 알고리즘을 지정하는 중요한 인자입니다. 최적화 알고리즘은 모델의 가중치를 업데이트하는 방법을 결정하며, 이를 통해 손실 함수(loss function)의 값을 최소화\n",
        "     + from tensorflow.keras.optimizers import Adam\n",
        "     + optimizer = Adam(lr=0.001)\n",
        "     + lr : 학습률\n",
        "   - loss='categorical_crossentropy',\n",
        "     + 회귀 문제의 손실 함수 : MSE(평균 제곱 오차), MAE(평균 절대 오차)\n",
        "     + 분류 문제의 손실 함수\n",
        "     + Binary Crossentropy (이진 크로스엔트로피): 두 개의 클래스 중 하나를 예측\n",
        "     + Categorical Crossentropy (범주형 크로스엔트로피): 세 개 이상의 클래스가 있는 다중 클래스 분류 문제\n",
        "     + Sparse Categorical Crossentropy: Categorical Crossentropy와 유사하지만, 이 함수는 정수 형태의 레이블을 직접 사용할 수 있어 레이블 인코딩 과정을 간소화\n",
        "   - metrics=['accuracy']\n",
        "     + 정확도 (Accuracy): 분류 문제에서 널리 사용되며, 올바르게 분류된 예시의 비율을 나타냅니다. 이진 분류와 다중 분류 모두에서 사용할 수 있습니다.\n",
        "     + 정밀도 (Precision): 양성으로 예측된 경우 중 실제로 양성인 경우의 비율입니다. 특정 클래스의 예측을 얼마나 정확하게 했는지를 측정합니다.\n",
        "     + 재현율 (Recall): 실제 양성 중 모델이 양성으로 올바르게 예측한 비율입니다. 특정 클래스를 얼마나 잘 감지하는지를 나타냅니다.\n",
        "     + F1 점수 (F1 Score): 정밀도와 재현율의 조화 평균입니다. 두 지표를 모두 고려할 때 유용합니다.\n",
        "     + Mean Absolute Error (MAE): 회귀 문제에서 사용되며, 예측 값과 실제 값 사이의 절대 차이의 평균을 나타냅니다.\n",
        "     + Mean Squared Error (MSE): 회귀 문제에서 사용되며, 예측 값과 실제 값 사이의 제곱 차이의 평균을 나타냅니다.\n",
        " * > 4.fit\n",
        "   - epochs\n",
        "     + 전체 데이터셋을 한 번 모델을 통해 전달하는 것을 의미\n",
        "     + from tensorflow.keras.callbacks import EarlyStopping\n",
        "     + 같은 데이터셋이라도 가중치를 변경하면서 학습\n",
        "   - batch_size\n",
        "     + 몇 개의 샘플로 가중치를 갱신할 것인지 설정\n",
        "   - validation_split\n",
        " * > 5.evaluate\n",
        " * > 6.predict\n",
        " "
      ]
    },
    {
      "cell_type": "code",
      "execution_count": 41,
      "metadata": {
        "colab": {
          "base_uri": "https://localhost:8080/"
        },
        "id": "wAmMifrgI6I8",
        "outputId": "a5078b57-c79e-4389-e0a5-212c33acfdbe"
      },
      "outputs": [
        {
          "name": "stdout",
          "output_type": "stream",
          "text": [
            "Epoch 1/10\n",
            "422/422 [==============================] - 1s 3ms/step - loss: 0.2319 - accuracy: 0.9304 - val_loss: 0.0929 - val_accuracy: 0.9703\n",
            "Epoch 2/10\n",
            "422/422 [==============================] - 1s 2ms/step - loss: 0.0841 - accuracy: 0.9746 - val_loss: 0.0781 - val_accuracy: 0.9750\n",
            "Epoch 3/10\n",
            "422/422 [==============================] - 1s 2ms/step - loss: 0.0544 - accuracy: 0.9831 - val_loss: 0.0675 - val_accuracy: 0.9795\n",
            "Epoch 4/10\n",
            "422/422 [==============================] - 1s 2ms/step - loss: 0.0383 - accuracy: 0.9876 - val_loss: 0.0688 - val_accuracy: 0.9812\n",
            "Epoch 5/10\n",
            "422/422 [==============================] - 1s 2ms/step - loss: 0.0304 - accuracy: 0.9899 - val_loss: 0.0811 - val_accuracy: 0.9777\n",
            "Epoch 6/10\n",
            "422/422 [==============================] - 1s 2ms/step - loss: 0.0242 - accuracy: 0.9924 - val_loss: 0.0840 - val_accuracy: 0.9773\n",
            "Epoch 7/10\n",
            "422/422 [==============================] - 1s 2ms/step - loss: 0.0204 - accuracy: 0.9935 - val_loss: 0.0774 - val_accuracy: 0.9797\n",
            "Epoch 8/10\n",
            "422/422 [==============================] - 1s 2ms/step - loss: 0.0229 - accuracy: 0.9923 - val_loss: 0.0878 - val_accuracy: 0.9767\n",
            "Epoch 9/10\n",
            "422/422 [==============================] - 1s 2ms/step - loss: 0.0134 - accuracy: 0.9954 - val_loss: 0.0923 - val_accuracy: 0.9767\n",
            "Epoch 10/10\n",
            "422/422 [==============================] - 1s 2ms/step - loss: 0.0157 - accuracy: 0.9951 - val_loss: 0.1101 - val_accuracy: 0.9753\n",
            "실행 시간: 9.344941854476929초\n"
          ]
        }
      ],
      "source": [
        "import time\n",
        "\n",
        "start_time = time.time()\n",
        "\n",
        "history = network.fit(train_images, train_labels, epochs=10, batch_size=128, validation_split=0.1)\n",
        "\n",
        "end_time = time.time()\n",
        "\n",
        "execution_time = end_time - start_time\n",
        "\n",
        "# 실행 시간 출력\n",
        "print(f\"실행 시간: {execution_time}초\")\n",
        "\n",
        "\n",
        "# 6만장 중 10%뺀 5.4만장 중 배치사이즈 128로 나누면 iteration 갯수가 나옴\n",
        "# 트레인데이터셋에서 90프로로 학습하고 10프로만 검증\n",
        "# 향후에 테스트데이터셋으로 검증\n",
        "\n",
        "# 4070 Super : 10.83초\n",
        "# T4 : 19.11초\n",
        "# CPU(Intel(R) Core(TM) i5-6500 CPU @ 3.20GHz) : 30.64초"
      ]
    },
    {
      "cell_type": "code",
      "execution_count": 42,
      "metadata": {
        "colab": {
          "base_uri": "https://localhost:8080/",
          "height": 430
        },
        "id": "WJymy7WfT4FQ",
        "outputId": "6cb27d3a-309b-49fa-8ea7-6b5636a41296"
      },
      "outputs": [
        {
          "data": {
            "image/png": "[encoded data removed]",
            "text/plain": [
              "<Figure size 640x480 with 1 Axes>"
            ]
          },
          "metadata": {},
          "output_type": "display_data"
        }
      ],
      "source": [
        "plt.plot(history.history['loss'], label='train loss')\n",
        "plt.plot(history.history['val_loss'], label='val loss')\n",
        "plt.legend()\n",
        "plt.savefig('loss.png')\n",
        "\n",
        "# 오버핏 확인 => 오버핏 이후 성능에 변화가 없으므로 그냥 사용하자"
      ]
    },
    {
      "cell_type": "code",
      "execution_count": 43,
      "metadata": {
        "colab": {
          "base_uri": "https://localhost:8080/",
          "height": 430
        },
        "id": "TC8h-w10UPf5",
        "outputId": "6b4a1bf1-bc24-45b5-fbfc-6f6a9f378bc5"
      },
      "outputs": [
        {
          "data": {
            "image/png": "[encoded data removed]",
            "text/plain": [
              "<Figure size 640x480 with 1 Axes>"
            ]
          },
          "metadata": {},
          "output_type": "display_data"
        }
      ],
      "source": [
        "plt.plot(history.history['accuracy'], label='train acc')\n",
        "plt.plot(history.history['val_accuracy'], label='val acc')\n",
        "plt.legend()\n",
        "plt.savefig('acc.png')\n",
        "\n",
        "# 오버핏 확인"
      ]
    },
    {
      "cell_type": "code",
      "execution_count": 44,
      "metadata": {
        "colab": {
          "base_uri": "https://localhost:8080/"
        },
        "id": "zMteVDckI6I9",
        "outputId": "64f0cd13-93e2-485e-b22e-d9ec35174443"
      },
      "outputs": [
        {
          "name": "stdout",
          "output_type": "stream",
          "text": [
            "313/313 [==============================] - 1s 2ms/step - loss: 0.1185 - accuracy: 0.9739\n"
          ]
        }
      ],
      "source": [
        "test_loss, test_acc = network.evaluate(test_images, test_labels)"
      ]
    },
    {
      "cell_type": "code",
      "execution_count": 45,
      "metadata": {
        "colab": {
          "base_uri": "https://localhost:8080/"
        },
        "id": "acPmSMw5I6I9",
        "outputId": "1e428b6d-c234-44fa-a2a0-2cdec7114d92"
      },
      "outputs": [
        {
          "name": "stdout",
          "output_type": "stream",
          "text": [
            "test_acc: 0.9739000201225281\n"
          ]
        }
      ],
      "source": [
        "print('test_acc:', test_acc)"
      ]
    },
    {
      "cell_type": "code",
      "execution_count": 59,
      "metadata": {
        "id": "T3pTbpPKVggX"
      },
      "outputs": [
        {
          "ename": "ValueError",
          "evalue": "in user code:\n\n    File \"C:\\Users\\HyeJinKyu\\AppData\\Roaming\\Python\\Python39\\site-packages\\keras\\engine\\training.py\", line 2041, in predict_function  *\n        return step_function(self, iterator)\n    File \"C:\\Users\\HyeJinKyu\\AppData\\Roaming\\Python\\Python39\\site-packages\\keras\\engine\\training.py\", line 2027, in step_function  **\n        outputs = model.distribute_strategy.run(run_step, args=(data,))\n    File \"C:\\Users\\HyeJinKyu\\AppData\\Roaming\\Python\\Python39\\site-packages\\keras\\engine\\training.py\", line 2015, in run_step  **\n        outputs = model.predict_step(data)\n    File \"C:\\Users\\HyeJinKyu\\AppData\\Roaming\\Python\\Python39\\site-packages\\keras\\engine\\training.py\", line 1983, in predict_step\n        return self(x, training=False)\n    File \"C:\\Users\\HyeJinKyu\\AppData\\Roaming\\Python\\Python39\\site-packages\\keras\\utils\\traceback_utils.py\", line 70, in error_handler\n        raise e.with_traceback(filtered_tb) from None\n    File \"C:\\Users\\HyeJinKyu\\AppData\\Roaming\\Python\\Python39\\site-packages\\keras\\engine\\input_spec.py\", line 295, in assert_input_compatibility\n        raise ValueError(\n\n    ValueError: Input 0 of layer \"sequential_1\" is incompatible with the layer: expected shape=(None, 784), found shape=(None, 28)\n",
          "output_type": "error",
          "traceback": [
            "\u001b[1;31m---------------------------------------------------------------------------\u001b[0m",
            "\u001b[1;31mValueError\u001b[0m                                Traceback (most recent call last)",
            "Cell \u001b[1;32mIn[59], line 13\u001b[0m\n\u001b[0;32m      8\u001b[0m test_images_reshaped \u001b[38;5;241m=\u001b[39m test_images_reshaped\u001b[38;5;241m.\u001b[39mreshape(\u001b[38;5;241m28\u001b[39m, \u001b[38;5;241m28\u001b[39m)\n\u001b[0;32m     10\u001b[0m plt\u001b[38;5;241m.\u001b[39mimshow(test_images_reshaped, cmap\u001b[38;5;241m=\u001b[39mplt\u001b[38;5;241m.\u001b[39mcm\u001b[38;5;241m.\u001b[39mbinary)\n\u001b[1;32m---> 13\u001b[0m predict \u001b[38;5;241m=\u001b[39m \u001b[43mnetwork\u001b[49m\u001b[38;5;241;43m.\u001b[39;49m\u001b[43mpredict\u001b[49m\u001b[43m(\u001b[49m\u001b[43mtest_images\u001b[49m\u001b[43m[\u001b[49m\u001b[43mindex\u001b[49m\u001b[43m]\u001b[49m\u001b[38;5;241;43m.\u001b[39;49m\u001b[43mreshape\u001b[49m\u001b[43m(\u001b[49m\u001b[38;5;241;43m28\u001b[39;49m\u001b[43m,\u001b[49m\u001b[38;5;241;43m28\u001b[39;49m\u001b[43m)\u001b[49m\u001b[43m)\u001b[49m\n\u001b[0;32m     14\u001b[0m \u001b[38;5;28mprint\u001b[39m(\u001b[38;5;124m\"\u001b[39m\u001b[38;5;124mActual : \u001b[39m\u001b[38;5;132;01m{}\u001b[39;00m\u001b[38;5;130;01m\\t\u001b[39;00m\u001b[38;5;124mPredict : \u001b[39m\u001b[38;5;132;01m{}\u001b[39;00m\u001b[38;5;124m\"\u001b[39m\u001b[38;5;241m.\u001b[39mformat(np\u001b[38;5;241m.\u001b[39margmax(test_images[index]),np\u001b[38;5;241m.\u001b[39margmax(predict)),)\n",
            "File \u001b[1;32m~\\AppData\\Roaming\\Python\\Python39\\site-packages\\keras\\utils\\traceback_utils.py:70\u001b[0m, in \u001b[0;36mfilter_traceback.<locals>.error_handler\u001b[1;34m(*args, **kwargs)\u001b[0m\n\u001b[0;32m     67\u001b[0m     filtered_tb \u001b[38;5;241m=\u001b[39m _process_traceback_frames(e\u001b[38;5;241m.\u001b[39m__traceback__)\n\u001b[0;32m     68\u001b[0m     \u001b[38;5;66;03m# To get the full stack trace, call:\u001b[39;00m\n\u001b[0;32m     69\u001b[0m     \u001b[38;5;66;03m# `tf.debugging.disable_traceback_filtering()`\u001b[39;00m\n\u001b[1;32m---> 70\u001b[0m     \u001b[38;5;28;01mraise\u001b[39;00m e\u001b[38;5;241m.\u001b[39mwith_traceback(filtered_tb) \u001b[38;5;28;01mfrom\u001b[39;00m \u001b[38;5;28;01mNone\u001b[39;00m\n\u001b[0;32m     71\u001b[0m \u001b[38;5;28;01mfinally\u001b[39;00m:\n\u001b[0;32m     72\u001b[0m     \u001b[38;5;28;01mdel\u001b[39;00m filtered_tb\n",
            "File \u001b[1;32mC:\\Users\\HYEJIN~1\\AppData\\Local\\Temp\\__autograph_generated_file1ri37oax.py:15\u001b[0m, in \u001b[0;36mouter_factory.<locals>.inner_factory.<locals>.tf__predict_function\u001b[1;34m(iterator)\u001b[0m\n\u001b[0;32m     13\u001b[0m \u001b[38;5;28;01mtry\u001b[39;00m:\n\u001b[0;32m     14\u001b[0m     do_return \u001b[38;5;241m=\u001b[39m \u001b[38;5;28;01mTrue\u001b[39;00m\n\u001b[1;32m---> 15\u001b[0m     retval_ \u001b[38;5;241m=\u001b[39m ag__\u001b[38;5;241m.\u001b[39mconverted_call(ag__\u001b[38;5;241m.\u001b[39mld(step_function), (ag__\u001b[38;5;241m.\u001b[39mld(\u001b[38;5;28mself\u001b[39m), ag__\u001b[38;5;241m.\u001b[39mld(iterator)), \u001b[38;5;28;01mNone\u001b[39;00m, fscope)\n\u001b[0;32m     16\u001b[0m \u001b[38;5;28;01mexcept\u001b[39;00m:\n\u001b[0;32m     17\u001b[0m     do_return \u001b[38;5;241m=\u001b[39m \u001b[38;5;28;01mFalse\u001b[39;00m\n",
            "\u001b[1;31mValueError\u001b[0m: in user code:\n\n    File \"C:\\Users\\HyeJinKyu\\AppData\\Roaming\\Python\\Python39\\site-packages\\keras\\engine\\training.py\", line 2041, in predict_function  *\n        return step_function(self, iterator)\n    File \"C:\\Users\\HyeJinKyu\\AppData\\Roaming\\Python\\Python39\\site-packages\\keras\\engine\\training.py\", line 2027, in step_function  **\n        outputs = model.distribute_strategy.run(run_step, args=(data,))\n    File \"C:\\Users\\HyeJinKyu\\AppData\\Roaming\\Python\\Python39\\site-packages\\keras\\engine\\training.py\", line 2015, in run_step  **\n        outputs = model.predict_step(data)\n    File \"C:\\Users\\HyeJinKyu\\AppData\\Roaming\\Python\\Python39\\site-packages\\keras\\engine\\training.py\", line 1983, in predict_step\n        return self(x, training=False)\n    File \"C:\\Users\\HyeJinKyu\\AppData\\Roaming\\Python\\Python39\\site-packages\\keras\\utils\\traceback_utils.py\", line 70, in error_handler\n        raise e.with_traceback(filtered_tb) from None\n    File \"C:\\Users\\HyeJinKyu\\AppData\\Roaming\\Python\\Python39\\site-packages\\keras\\engine\\input_spec.py\", line 295, in assert_input_compatibility\n        raise ValueError(\n\n    ValueError: Input 0 of layer \"sequential_1\" is incompatible with the layer: expected shape=(None, 784), found shape=(None, 28)\n"
          ]
        },
        {
          "data": {
            "image/png": "[encoded data removed]",
            "text/plain": [
              "<Figure size 640x480 with 1 Axes>"
            ]
          },
          "metadata": {},
          "output_type": "display_data"
        }
      ],
      "source": [
        "import matplotlib.pyplot as plt\n",
        "\n",
        "index = 1234\n",
        "\n",
        "#print(test_images[index])\n",
        "\n",
        "test_images_reshaped = test_images[index]\n",
        "test_images_reshaped = test_images_reshaped.reshape(28, 28)\n",
        "\n",
        "plt.imshow(test_images_reshaped, cmap=plt.cm.binary)\n",
        "\n",
        "\n",
        "predict = network.predict(test_images[index].reshape(28,28))\n",
        "print(\"Actual : {}\\tPredict : {}\".format(np.argmax(test_images[index]),np.argmax(predict)),)\n",
        "\n",
        "\n"
      ]
    }
  ],
  "metadata": {
    "accelerator": "GPU",
    "colab": {
      "gpuType": "T4",
      "provenance": []
    },
    "kernelspec": {
      "display_name": "Python 3",
      "name": "python3"
    },
    "language_info": {
      "codemirror_mode": {
        "name": "ipython",
        "version": 3
      },
      "file_extension": ".py",
      "mimetype": "text/x-python",
      "name": "python",
      "nbconvert_exporter": "python",
      "pygments_lexer": "ipython3",
      "version": "3.9.19"
    },
    "vscode": {
      "interpreter": {
        "hash": "61d7d72412218704c5ba1799d65c7a83b08e24a9ca7847de9a479f6f426633e7"
      }
    }
  },
  "nbformat": 4,
  "nbformat_minor": 0
}
