<<<<<<< HEAD
{"cells":[{"cell_type":"markdown","metadata":{"id":"MYugMo07Ny0n"},"source":["# 2.2 Data representations for neural networks"]},{"cell_type":"code","execution_count":1,"metadata":{"colab":{"base_uri":"https://localhost:8080/"},"executionInfo":{"elapsed":327,"status":"ok","timestamp":1696590551597,"user":{"displayName":"JONGSEONG BAE","userId":"13234987129248114174"},"user_tz":-540},"id":"J8SoW2OF3j6e","outputId":"674b4ee9-4ef2-4d18-88d5-5e771c86e48c"},"outputs":[{"name":"stdout","output_type":"stream","text":["WARNING:tensorflow:From c:\\Users\\HyeJinKyu\\AppData\\Local\\Programs\\Python\\Python39\\lib\\site-packages\\keras\\src\\losses.py:2976: The name tf.losses.sparse_softmax_cross_entropy is deprecated. Please use tf.compat.v1.losses.sparse_softmax_cross_entropy instead.\n","\n","WARNING:tensorflow:From C:\\Users\\HyeJinKyu\\AppData\\Local\\Temp\\ipykernel_14860\\2649819912.py:3: is_gpu_available (from tensorflow.python.framework.test_util) is deprecated and will be removed in a future version.\n","Instructions for updating:\n","Use `tf.config.list_physical_devices('GPU')` instead.\n"]},{"data":{"text/plain":["False"]},"execution_count":1,"metadata":{},"output_type":"execute_result"}],"source":["import tensorflow as tf\n","import numpy as np\n","tf.test.is_gpu_available()"]},{"cell_type":"markdown","metadata":{"id":"1KsPZj8lDlIW"},"source":["### 2.2.1 tensorflow tensor, numpy ndarray 차이"]},{"cell_type":"code","execution_count":8,"metadata":{"colab":{"base_uri":"https://localhost:8080/"},"executionInfo":{"elapsed":339,"status":"ok","timestamp":1696590577727,"user":{"displayName":"JONGSEONG BAE","userId":"13234987129248114174"},"user_tz":-540},"id":"PfxmcTw93mk9","outputId":"9788925c-bd4c-4087-cff3-b88e7b910207"},"outputs":[{"data":{"text/plain":["<tf.Tensor: shape=(4,), dtype=int32, numpy=array([1, 2, 3, 4], dtype=int32)>"]},"execution_count":8,"metadata":{},"output_type":"execute_result"}],"source":["a = tf.constant([1,2,3,4])\n","a"]},{"cell_type":"code","execution_count":9,"metadata":{"executionInfo":{"elapsed":382,"status":"ok","timestamp":1696590596845,"user":{"displayName":"JONGSEONG BAE","userId":"13234987129248114174"},"user_tz":-540},"id":"gV9B7qQeCVyE"},"outputs":[],"source":["b = np.array([1,2,3,4])"]},{"cell_type":"code","execution_count":10,"metadata":{"colab":{"base_uri":"https://localhost:8080/"},"executionInfo":{"elapsed":305,"status":"ok","timestamp":1696590638864,"user":{"displayName":"JONGSEONG BAE","userId":"13234987129248114174"},"user_tz":-540},"id":"SuUGd4dOCYO0","outputId":"4123dd6b-bb6f-489e-e3b9-4222bd5e832a"},"outputs":[{"data":{"text/plain":["array([1, 2, 3, 4])"]},"execution_count":10,"metadata":{},"output_type":"execute_result"}],"source":["b"]},{"cell_type":"code","execution_count":11,"metadata":{"colab":{"base_uri":"https://localhost:8080/","height":35},"executionInfo":{"elapsed":7,"status":"ok","timestamp":1696590640108,"user":{"displayName":"JONGSEONG BAE","userId":"13234987129248114174"},"user_tz":-540},"id":"KjOMDQgP4f9F","outputId":"2b03651e-7fd4-4ae4-b968-5d9ea20d7a0a"},"outputs":[{"data":{"application/vnd.google.colaboratory.intrinsic+json":{"type":"string"},"text/plain":["'/job:localhost/replica:0/task:0/device:GPU:0'"]},"execution_count":11,"metadata":{},"output_type":"execute_result"}],"source":["a.device"]},{"cell_type":"code","execution_count":12,"metadata":{"colab":{"base_uri":"https://localhost:8080/","height":182},"executionInfo":{"elapsed":309,"status":"error","timestamp":1696590642576,"user":{"displayName":"JONGSEONG BAE","userId":"13234987129248114174"},"user_tz":-540},"id":"flhk3dxcCZfc","outputId":"a8b7d4a4-ff1d-4670-ef36-199ec28b49dc"},"outputs":[{"ename":"AttributeError","evalue":"ignored","output_type":"error","traceback":["\u001b[0;31m---------------------------------------------------------------------------\u001b[0m","\u001b[0;31mAttributeError\u001b[0m                            Traceback (most recent call last)","\u001b[0;32m<ipython-input-12-bb7f585b73af>\u001b[0m in \u001b[0;36m<cell line: 1>\u001b[0;34m()\u001b[0m\n\u001b[0;32m----> 1\u001b[0;31m \u001b[0mb\u001b[0m\u001b[0;34m.\u001b[0m\u001b[0mdevice\u001b[0m \u001b[0;31m# error\u001b[0m\u001b[0;34m\u001b[0m\u001b[0;34m\u001b[0m\u001b[0m\n\u001b[0m","\u001b[0;31mAttributeError\u001b[0m: 'numpy.ndarray' object has no attribute 'device'"]}],"source":["b.device # error"]},{"cell_type":"code","execution_count":13,"metadata":{"colab":{"base_uri":"https://localhost:8080/"},"executionInfo":{"elapsed":299,"status":"ok","timestamp":1696590667120,"user":{"displayName":"JONGSEONG BAE","userId":"13234987129248114174"},"user_tz":-540},"id":"MOX977l5EFQ9","outputId":"506f3a46-5d78-4e8a-accc-0c8c3e48d072"},"outputs":[{"data":{"text/plain":["numpy.ndarray"]},"execution_count":13,"metadata":{},"output_type":"execute_result"}],"source":["type(a.numpy())"]},{"cell_type":"code","execution_count":14,"metadata":{"colab":{"base_uri":"https://localhost:8080/"},"executionInfo":{"elapsed":3,"status":"ok","timestamp":1696590667475,"user":{"displayName":"JONGSEONG BAE","userId":"13234987129248114174"},"user_tz":-540},"id":"EGrrUFxeEHeV","outputId":"08900f2e-632a-4622-a52a-d9189f03605f"},"outputs":[{"data":{"text/plain":["tensorflow.python.framework.ops.EagerTensor"]},"execution_count":14,"metadata":{},"output_type":"execute_result"}],"source":["type(a)"]},{"cell_type":"code","execution_count":15,"metadata":{"colab":{"base_uri":"https://localhost:8080/"},"executionInfo":{"elapsed":359,"status":"ok","timestamp":1696590669535,"user":{"displayName":"JONGSEONG BAE","userId":"13234987129248114174"},"user_tz":-540},"id":"IxK_My55Co-u","outputId":"4f4cd45a-1b97-4708-c4db-ca5f332d8796"},"outputs":[{"data":{"text/plain":["<tf.Tensor: shape=(4,), dtype=int32, numpy=array([2, 4, 6, 8], dtype=int32)>"]},"execution_count":15,"metadata":{},"output_type":"execute_result"}],"source":["a + b"]},{"cell_type":"code","execution_count":17,"metadata":{"colab":{"base_uri":"https://localhost:8080/"},"executionInfo":{"elapsed":334,"status":"ok","timestamp":1696590684077,"user":{"displayName":"JONGSEONG BAE","userId":"13234987129248114174"},"user_tz":-540},"id":"Jkbw28XzHSYQ","outputId":"bb18d729-8d12-475f-b943-c1df614211a9"},"outputs":[{"data":{"text/plain":["<tf.Tensor: shape=(4,), dtype=int32, numpy=array([1, 2, 3, 4], dtype=int32)>"]},"execution_count":17,"metadata":{},"output_type":"execute_result"}],"source":["tf.convert_to_tensor(b, dtype=a.dtype)"]},{"cell_type":"markdown","metadata":{"id":"V40kNXBIE9Bo"},"source":["### 2.2.2 다양한 dimension의 tensor 생성\n","\n","- 아래 코드를 참고하여 자유롭게 tensor를 생성해보세요."]},{"cell_type":"code","execution_count":18,"metadata":{"executionInfo":{"elapsed":409,"status":"ok","timestamp":1696590688577,"user":{"displayName":"JONGSEONG BAE","userId":"13234987129248114174"},"user_tz":-540},"id":"Ss2WdcutH97I"},"outputs":[],"source":["a = np.array(1)\n","b = np.array([1,2])\n","c = np.array([[1,2],\n","              [1,2]])\n","d = np.array([[[1,2],\n","               [1,2]],\n","              [[1,2],\n","               [1,2]]])"]},{"cell_type":"code","execution_count":19,"metadata":{"colab":{"base_uri":"https://localhost:8080/"},"executionInfo":{"elapsed":294,"status":"ok","timestamp":1696590691832,"user":{"displayName":"JONGSEONG BAE","userId":"13234987129248114174"},"user_tz":-540},"id":"crKGlG9XH91J","outputId":"0ab7ece0-9d4b-429d-db67-434becc16532"},"outputs":[{"name":"stdout","output_type":"stream","text":["scalar dim     ;  0\n","vector dim     ;  1\n","matrix dim     ;  2\n","3d tensor dim  ;  3\n"]}],"source":["print('scalar dim     ; ', a.ndim)\n","print('vector dim     ; ', b.ndim)\n","print('matrix dim     ; ', c.ndim)\n","print('3d tensor dim  ; ', d.ndim)"]},{"cell_type":"code","execution_count":20,"metadata":{"colab":{"base_uri":"https://localhost:8080/"},"executionInfo":{"elapsed":287,"status":"ok","timestamp":1696590764844,"user":{"displayName":"JONGSEONG BAE","userId":"13234987129248114174"},"user_tz":-540},"id":"yFbbPoaZH9t5","outputId":"5c32aed3-5e29-44df-a499-6e28f1abb3d5"},"outputs":[{"name":"stdout","output_type":"stream","text":["scalar shape     ;  ()\n","vector shape     ;  (2,)\n","matrix shape     ;  (2, 2)\n","3d tensor shape  ;  (2, 2, 2)\n"]}],"source":["print('scalar shape     ; ', a.shape)\n","print('vector shape     ; ', b.shape)\n","print('matrix shape     ; ', c.shape)\n","print('3d tensor shape  ; ', d.shape)"]},{"cell_type":"code","execution_count":21,"metadata":{"colab":{"base_uri":"https://localhost:8080/"},"executionInfo":{"elapsed":285,"status":"ok","timestamp":1696590818471,"user":{"displayName":"JONGSEONG BAE","userId":"13234987129248114174"},"user_tz":-540},"id":"-AAgawATH9ci","outputId":"4527cb9f-ef6a-4a2e-e75b-9fad15fc7b36"},"outputs":[{"name":"stdout","output_type":"stream","text":["4\n","(2, 2, 2, 2)\n"]}],"source":["e = np.array([\n","              [[[1,2],\n","                [1,2]],\n","               [[1,2],\n","                [1,2]]],\n","              [[[1,2],\n","                [1,2]],\n","               [[1,2],\n","                [1,2]]]\n","              ])\n","print(e.ndim)\n","print(e.shape)"]},{"cell_type":"markdown","metadata":{"id":"CwNgEHkXKrq2"},"source":["## 2.2.3 mnist data 확인 및 slicing\n","\n","- 아래 코드를 참고하여 자유롭게 tensor slicing을 진행해보세요."]},{"cell_type":"code","execution_count":23,"metadata":{"executionInfo":{"elapsed":471,"status":"ok","timestamp":1696590853262,"user":{"displayName":"JONGSEONG BAE","userId":"13234987129248114174"},"user_tz":-540},"id":"l6iaCwSWNy0w"},"outputs":[],"source":["%matplotlib inline\n","from keras.datasets import mnist\n","(train_images, train_labels), (test_images, test_labels) = mnist.load_data()"]},{"cell_type":"code","execution_count":24,"metadata":{"colab":{"base_uri":"https://localhost:8080/"},"executionInfo":{"elapsed":5,"status":"ok","timestamp":1696590855556,"user":{"displayName":"JONGSEONG BAE","userId":"13234987129248114174"},"user_tz":-540},"id":"gFMq726HNy0x","outputId":"aa2e77ec-55ac-4130-968a-e3e73309ebdb"},"outputs":[{"name":"stdout","output_type":"stream","text":["(60000, 28, 28)\n","3\n","uint8\n"]}],"source":["print(train_images.shape)\n","print(train_images.ndim)\n","print(train_images.dtype)"]},{"cell_type":"code","execution_count":25,"metadata":{"colab":{"base_uri":"https://localhost:8080/","height":430},"executionInfo":{"elapsed":375,"status":"ok","timestamp":1696590896732,"user":{"displayName":"JONGSEONG BAE","userId":"13234987129248114174"},"user_tz":-540},"id":"zZSo6JLLNy0y","outputId":"e3b6158c-c51a-42be-c5b2-30d958fcfcef"},"outputs":[{"data":{"image/png":"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","text/plain":["<Figure size 640x480 with 1 Axes>"]},"metadata":{},"output_type":"display_data"}],"source":["digit = train_images[0]\n","import matplotlib.pyplot as plt\n","plt.imshow(digit, cmap=plt.cm.binary)\n","plt.show()"]},{"cell_type":"code","execution_count":26,"metadata":{"colab":{"base_uri":"https://localhost:8080/"},"executionInfo":{"elapsed":289,"status":"ok","timestamp":1696590910134,"user":{"displayName":"JONGSEONG BAE","userId":"13234987129248114174"},"user_tz":-540},"id":"e84Sbwbn38sc","outputId":"5ce5ea16-5853-4ce3-a752-b53dab8d9cba"},"outputs":[{"data":{"text/plain":["(28, 28)"]},"execution_count":26,"metadata":{},"output_type":"execute_result"}],"source":["digit.shape"]},{"cell_type":"code","execution_count":28,"metadata":{"colab":{"base_uri":"https://localhost:8080/"},"executionInfo":{"elapsed":369,"status":"ok","timestamp":1696590969943,"user":{"displayName":"JONGSEONG BAE","userId":"13234987129248114174"},"user_tz":-540},"id":"VSAV73snNy0y","outputId":"105f91eb-d61b-4428-ee4b-b25fe52c942c"},"outputs":[{"name":"stdout","output_type":"stream","text":["(90, 28, 28)\n"]}],"source":["my_slice = train_images[10:100]\n","print(my_slice.shape)"]},{"cell_type":"code","execution_count":29,"metadata":{"colab":{"base_uri":"https://localhost:8080/"},"executionInfo":{"elapsed":292,"status":"ok","timestamp":1696591019051,"user":{"displayName":"JONGSEONG BAE","userId":"13234987129248114174"},"user_tz":-540},"id":"-_VuhvC5Ny0y","outputId":"5b816e8e-9e87-42e9-f37d-aeac5b8b2adc"},"outputs":[{"name":"stdout","output_type":"stream","text":["(90, 28, 28)\n"]}],"source":["my_slice = train_images[10:100, :, :]\n","print(my_slice.shape)"]},{"cell_type":"code","execution_count":30,"metadata":{"colab":{"base_uri":"https://localhost:8080/"},"executionInfo":{"elapsed":296,"status":"ok","timestamp":1696591048749,"user":{"displayName":"JONGSEONG BAE","userId":"13234987129248114174"},"user_tz":-540},"id":"nt27CCxvNy0y","outputId":"a548909f-e7f5-4924-ad22-7dab78403802"},"outputs":[{"name":"stdout","output_type":"stream","text":["(90, 28, 28)\n"]}],"source":["my_slice = train_images[10:100, 0:28, 0:28]\n","print(my_slice.shape)"]},{"cell_type":"code","execution_count":31,"metadata":{"colab":{"base_uri":"https://localhost:8080/"},"executionInfo":{"elapsed":294,"status":"ok","timestamp":1696591062729,"user":{"displayName":"JONGSEONG BAE","userId":"13234987129248114174"},"user_tz":-540},"id":"mbtgHmR7Ny0z","outputId":"c6d4ea45-12ae-404d-a011-9b34d14626f3"},"outputs":[{"name":"stdout","output_type":"stream","text":["(60000, 14, 14)\n"]}],"source":["my_slice2 = train_images[:, 14:, 14:]\n","print(my_slice2.shape)"]},{"cell_type":"code","execution_count":32,"metadata":{"colab":{"base_uri":"https://localhost:8080/"},"executionInfo":{"elapsed":6,"status":"ok","timestamp":1696591076125,"user":{"displayName":"JONGSEONG BAE","userId":"13234987129248114174"},"user_tz":-540},"id":"IeIvQTM5Ny0z","outputId":"04ca2892-e961-4bf3-fadd-87f69e5d1d0e"},"outputs":[{"name":"stdout","output_type":"stream","text":["(60000, 14, 14)\n"]}],"source":["my_slice3 = train_images[:, 7:-7, 7:-7]\n","print(my_slice3.shape)"]},{"cell_type":"code","execution_count":33,"metadata":{"colab":{"base_uri":"https://localhost:8080/","height":430},"executionInfo":{"elapsed":439,"status":"ok","timestamp":1696591114548,"user":{"displayName":"JONGSEONG BAE","userId":"13234987129248114174"},"user_tz":-540},"id":"O8FumduxFT-t","outputId":"bd29625d-ac89-4671-af36-f7d34cb87fc1"},"outputs":[{"data":{"image/png":"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","text/plain":["<Figure size 640x480 with 1 Axes>"]},"metadata":{},"output_type":"display_data"}],"source":["digit = my_slice2[0]\n","import matplotlib.pyplot as plt\n","plt.imshow(digit, cmap=plt.cm.binary)\n","plt.show()"]},{"cell_type":"markdown","metadata":{"id":"OjN0ZaABP8vk"},"source":["# 2.3. The gears of neural networks: tensor operations"]},{"cell_type":"code","execution_count":34,"metadata":{"colab":{"base_uri":"https://localhost:8080/"},"executionInfo":{"elapsed":305,"status":"ok","timestamp":1696591137697,"user":{"displayName":"JONGSEONG BAE","userId":"13234987129248114174"},"user_tz":-540},"id":"TCQ0ZeZZQBvj","outputId":"16821d17-0d77-4d6a-f06c-c8f6799edd50"},"outputs":[{"data":{"text/plain":["True"]},"execution_count":34,"metadata":{},"output_type":"execute_result"}],"source":["import tensorflow as tf\n","import numpy as np\n","tf.test.is_gpu_available()"]},{"cell_type":"markdown","metadata":{"id":"O92kSKLiYfxS"},"source":["### 2.3.1 동일한 shape의 tensor 연산 --> element-wise operation\n","\n","- 아래 코드를 참고하여 자유롭게 실행해보세요."]},{"cell_type":"code","execution_count":36,"metadata":{"colab":{"base_uri":"https://localhost:8080/"},"executionInfo":{"elapsed":283,"status":"ok","timestamp":1696591166880,"user":{"displayName":"JONGSEONG BAE","userId":"13234987129248114174"},"user_tz":-540},"id":"Cs4U_TyIXbeA","outputId":"e59019ad-16ee-4518-b109-fb90ea1c57df"},"outputs":[{"name":"stdout","output_type":"stream","text":["[[1 2 3]\n"," [4 5 6]] \n"," [[2 2 2]\n"," [2 2 2]]\n","(2, 3) (2, 3)\n"]}],"source":["a = np.array([[1, 2, 3],[4, 5, 6]])\n","b = np.array([[2, 2, 2],[2, 2, 2]])\n","print(a, '\\n', b)\n","print(a.shape, b.shape)"]},{"cell_type":"code","execution_count":37,"metadata":{"colab":{"base_uri":"https://localhost:8080/"},"executionInfo":{"elapsed":351,"status":"ok","timestamp":1696591174292,"user":{"displayName":"JONGSEONG BAE","userId":"13234987129248114174"},"user_tz":-540},"id":"v85AdM5BZWjA","outputId":"574669b6-a607-4438-f16a-4c69a2d43b68"},"outputs":[{"name":"stdout","output_type":"stream","text":["더하기 ; \n"," [[3 4 5]\n"," [6 7 8]]\n","빼기   ; \n"," [[-1  0  1]\n"," [ 2  3  4]]\n","곱하기 ; \n"," [[ 2  4  6]\n"," [ 8 10 12]]\n","나누기 ; \n"," [[0.5 1.  1.5]\n"," [2.  2.5 3. ]]\n","나머지 ; \n"," [[1 0 1]\n"," [0 1 0]]\n","몫     ; \n"," [[0 1 1]\n"," [2 2 3]]\n"]}],"source":["print('더하기 ; \\n',a+b)\n","print('빼기   ; \\n', a-b)\n","print('곱하기 ; \\n', a*b)\n","print('나누기 ; \\n', a/b)\n","print('나머지 ; \\n', a%b)\n","print('몫     ; \\n', a//b)"]},{"cell_type":"markdown","metadata":{"id":"txKzBMGkgZ-T"},"source":["### 2.3.2 broadcasting\n","\n","- 아래 코드를 참고하여 자유롭게 실행해보세요."]},{"cell_type":"code","execution_count":39,"metadata":{"colab":{"base_uri":"https://localhost:8080/"},"executionInfo":{"elapsed":445,"status":"ok","timestamp":1696591219381,"user":{"displayName":"JONGSEONG BAE","userId":"13234987129248114174"},"user_tz":-540},"id":"fE8HAfxSgYca","outputId":"913a110d-ce11-427b-f1df-d115ae934d6b"},"outputs":[{"name":"stdout","output_type":"stream","text":["(2, 3) (3,)\n"]}],"source":["a = np.array([[1, 2, 3],[4, 5, 6]])\n","b = np.array([2, 4, 6])\n","print(a.shape, b.shape)"]},{"cell_type":"code","execution_count":40,"metadata":{"colab":{"base_uri":"https://localhost:8080/"},"executionInfo":{"elapsed":300,"status":"ok","timestamp":1696591272908,"user":{"displayName":"JONGSEONG BAE","userId":"13234987129248114174"},"user_tz":-540},"id":"l5e_1oEIhV3R","outputId":"a06dbabd-e5b5-4f2a-dd86-36dd168b6ea9"},"outputs":[{"data":{"text/plain":["array([[2, 4, 6],\n","       [4, 5, 6]])"]},"execution_count":40,"metadata":{},"output_type":"execute_result"}],"source":["np.maximum(a,b)"]},{"cell_type":"code","execution_count":41,"metadata":{"colab":{"base_uri":"https://localhost:8080/"},"executionInfo":{"elapsed":2,"status":"ok","timestamp":1696591281789,"user":{"displayName":"JONGSEONG BAE","userId":"13234987129248114174"},"user_tz":-540},"id":"52MNV1VTiEMf","outputId":"249b989d-e38a-4ea5-b740-72017da45fd2"},"outputs":[{"name":"stdout","output_type":"stream","text":["더하기 ; \n"," [[ 3  6  9]\n"," [ 6  9 12]]\n","빼기   ; \n"," [[-1 -2 -3]\n"," [ 2  1  0]]\n","곱하기 ; \n"," [[ 2  8 18]\n"," [ 8 20 36]]\n","나누기 ; \n"," [[0.5  0.5  0.5 ]\n"," [2.   1.25 1.  ]]\n","나머지 ; \n"," [[1 2 3]\n"," [0 1 0]]\n","몫     ; \n"," [[0 0 0]\n"," [2 1 1]]\n","(2, 3) (3,)\n"]}],"source":["print('더하기 ; \\n',a+b)\n","print('빼기   ; \\n', a-b)\n","print('곱하기 ; \\n', a*b)\n","print('나누기 ; \\n', a/b)\n","print('나머지 ; \\n', a%b)\n","print('몫     ; \\n', a//b)\n","\n","a = np.array([[1, 2, 3],[4, 5, 6]])\n","b = np.array([2, 4, 6])\n","print(a.shape, b.shape)"]},{"cell_type":"code","execution_count":42,"metadata":{"colab":{"base_uri":"https://localhost:8080/"},"executionInfo":{"elapsed":300,"status":"ok","timestamp":1696591325380,"user":{"displayName":"JONGSEONG BAE","userId":"13234987129248114174"},"user_tz":-540},"id":"4v_lQVfsiSCQ","outputId":"6ad87b4f-a305-4b33-8e07-9c501575473d"},"outputs":[{"name":"stdout","output_type":"stream","text":["(2, 4, 5, 6, 8) (8,)\n"]}],"source":["a = np.random.random((2,4,5,6,8))\n","b = np.random.random(8)\n","\n","print(a.shape, b.shape)"]},{"cell_type":"code","execution_count":43,"metadata":{"colab":{"base_uri":"https://localhost:8080/"},"executionInfo":{"elapsed":311,"status":"ok","timestamp":1696591339467,"user":{"displayName":"JONGSEONG BAE","userId":"13234987129248114174"},"user_tz":-540},"id":"uE0Xtk2HiR7x","outputId":"df789abc-627c-4c35-adf2-baf12f0edbc4"},"outputs":[{"data":{"text/plain":["(2, 4, 5, 6, 8)"]},"execution_count":43,"metadata":{},"output_type":"execute_result"}],"source":["(a+b).shape"]},{"cell_type":"markdown","metadata":{"id":"tvgF2hremK8B"},"source":["### 2.3.3 tensor dot product\n","\n","- 아래 코드를 참고하여 자유롭게 실행해보세요."]},{"cell_type":"code","execution_count":44,"metadata":{"colab":{"base_uri":"https://localhost:8080/"},"executionInfo":{"elapsed":374,"status":"ok","timestamp":1696591345743,"user":{"displayName":"JONGSEONG BAE","userId":"13234987129248114174"},"user_tz":-540},"id":"scphzZinqCYm","outputId":"f46b5c86-ec04-44e7-f62d-39a3e689ffca"},"outputs":[{"name":"stdout","output_type":"stream","text":["(3,) (3,)\n"]}],"source":["v = np.array([1,2,3])\n","v2 = np.array([11,12,13])\n","print(v.shape, v2.shape)"]},{"cell_type":"code","execution_count":45,"metadata":{"colab":{"base_uri":"https://localhost:8080/"},"executionInfo":{"elapsed":2,"status":"ok","timestamp":1696591348463,"user":{"displayName":"JONGSEONG BAE","userId":"13234987129248114174"},"user_tz":-540},"id":"qfoBkdFeqCGx","outputId":"cac846cf-0899-4d2a-b696-c2ae4ce1f550"},"outputs":[{"data":{"text/plain":["74"]},"execution_count":45,"metadata":{},"output_type":"execute_result"}],"source":["np.dot(v, v2)"]},{"cell_type":"code","execution_count":46,"metadata":{"colab":{"base_uri":"https://localhost:8080/"},"executionInfo":{"elapsed":543,"status":"ok","timestamp":1696591357939,"user":{"displayName":"JONGSEONG BAE","userId":"13234987129248114174"},"user_tz":-540},"id":"SA25enDTqQBD","outputId":"5efa5f32-6394-4d8d-d15b-68eb2690e890"},"outputs":[{"name":"stdout","output_type":"stream","text":["(1, 3) (1, 3)\n"]}],"source":["v = np.array([[1,2,3]])\n","v2 = np.array([[11,12,13]])\n","print(v.shape, v2.shape)"]},{"cell_type":"code","execution_count":47,"metadata":{"colab":{"base_uri":"https://localhost:8080/","height":218},"executionInfo":{"elapsed":573,"status":"error","timestamp":1696591361610,"user":{"displayName":"JONGSEONG BAE","userId":"13234987129248114174"},"user_tz":-540},"id":"-nfcSCXfqUDu","outputId":"2378eaba-c031-426f-fb73-dc42f54c8f77"},"outputs":[{"ename":"ValueError","evalue":"ignored","output_type":"error","traceback":["\u001b[0;31m---------------------------------------------------------------------------\u001b[0m","\u001b[0;31mValueError\u001b[0m                                Traceback (most recent call last)","\u001b[0;32m<ipython-input-47-2e126aa61961>\u001b[0m in \u001b[0;36m<cell line: 1>\u001b[0;34m()\u001b[0m\n\u001b[0;32m----> 1\u001b[0;31m \u001b[0mnp\u001b[0m\u001b[0;34m.\u001b[0m\u001b[0mdot\u001b[0m\u001b[0;34m(\u001b[0m\u001b[0mv\u001b[0m\u001b[0;34m,\u001b[0m\u001b[0mv2\u001b[0m\u001b[0;34m)\u001b[0m \u001b[0;31m# error\u001b[0m\u001b[0;34m\u001b[0m\u001b[0;34m\u001b[0m\u001b[0m\n\u001b[0m","\u001b[0;32m/usr/local/lib/python3.10/dist-packages/numpy/core/overrides.py\u001b[0m in \u001b[0;36mdot\u001b[0;34m(*args, **kwargs)\u001b[0m\n","\u001b[0;31mValueError\u001b[0m: shapes (1,3) and (1,3) not aligned: 3 (dim 1) != 1 (dim 0)"]}],"source":["np.dot(v,v2) # error"]},{"cell_type":"code","execution_count":49,"metadata":{"colab":{"base_uri":"https://localhost:8080/"},"executionInfo":{"elapsed":299,"status":"ok","timestamp":1696591387878,"user":{"displayName":"JONGSEONG BAE","userId":"13234987129248114174"},"user_tz":-540},"id":"8dGpBogzqeZI","outputId":"93cae97b-4e16-434c-8c91-6145d93b1e73"},"outputs":[{"name":"stdout","output_type":"stream","text":["(1, 3) (3,)\n"]}],"source":["v = np.array([[1,2,3]])\n","v2 = np.array([11,12,13])\n","print(v.shape, v2.shape)"]},{"cell_type":"code","execution_count":50,"metadata":{"colab":{"base_uri":"https://localhost:8080/"},"executionInfo":{"elapsed":5,"status":"ok","timestamp":1696591388213,"user":{"displayName":"JONGSEONG BAE","userId":"13234987129248114174"},"user_tz":-540},"id":"JmErsW9CqhVM","outputId":"349c12c0-dcda-4d96-bda4-40b907aaca07"},"outputs":[{"data":{"text/plain":["array([74])"]},"execution_count":50,"metadata":{},"output_type":"execute_result"}],"source":["np.dot(v,v2)"]},{"cell_type":"code","execution_count":51,"metadata":{"colab":{"base_uri":"https://localhost:8080/"},"executionInfo":{"elapsed":4,"status":"ok","timestamp":1696591390508,"user":{"displayName":"JONGSEONG BAE","userId":"13234987129248114174"},"user_tz":-540},"id":"R3nObkYpmk9k","outputId":"8d3788ee-47f6-4559-8b32-243de42ca294"},"outputs":[{"name":"stdout","output_type":"stream","text":["a ; \n"," [[1 2 3]\n"," [4 5 6]] \n"," b ; \n"," [[2 2 2]\n"," [2 2 2]]\n","(2, 3) (2, 3)\n"]}],"source":["a = np.array([[1, 2, 3],[4, 5, 6]])\n","b = np.array([[2, 2, 2],[2, 2, 2]])\n","print('a ; \\n {} \\n b ; \\n {}'.format(a,b))\n","print(a.shape, b.shape)"]},{"cell_type":"code","execution_count":52,"metadata":{"colab":{"base_uri":"https://localhost:8080/","height":218},"executionInfo":{"elapsed":307,"status":"error","timestamp":1696591393045,"user":{"displayName":"JONGSEONG BAE","userId":"13234987129248114174"},"user_tz":-540},"id":"DVr-FOeuZd2A","outputId":"624a1858-02c8-411e-9487-146bb8671b66"},"outputs":[{"ename":"ValueError","evalue":"ignored","output_type":"error","traceback":["\u001b[0;31m---------------------------------------------------------------------------\u001b[0m","\u001b[0;31mValueError\u001b[0m                                Traceback (most recent call last)","\u001b[0;32m<ipython-input-52-f9efd07fea1b>\u001b[0m in \u001b[0;36m<cell line: 1>\u001b[0;34m()\u001b[0m\n\u001b[0;32m----> 1\u001b[0;31m \u001b[0mnp\u001b[0m\u001b[0;34m.\u001b[0m\u001b[0mdot\u001b[0m\u001b[0;34m(\u001b[0m\u001b[0ma\u001b[0m\u001b[0;34m,\u001b[0m \u001b[0mb\u001b[0m\u001b[0;34m)\u001b[0m  \u001b[0;31m# error\u001b[0m\u001b[0;34m\u001b[0m\u001b[0;34m\u001b[0m\u001b[0m\n\u001b[0m","\u001b[0;32m/usr/local/lib/python3.10/dist-packages/numpy/core/overrides.py\u001b[0m in \u001b[0;36mdot\u001b[0;34m(*args, **kwargs)\u001b[0m\n","\u001b[0;31mValueError\u001b[0m: shapes (2,3) and (2,3) not aligned: 3 (dim 1) != 2 (dim 0)"]}],"source":["np.dot(a, b)  # error"]},{"cell_type":"code","execution_count":53,"metadata":{"colab":{"base_uri":"https://localhost:8080/"},"executionInfo":{"elapsed":4,"status":"ok","timestamp":1696591409847,"user":{"displayName":"JONGSEONG BAE","userId":"13234987129248114174"},"user_tz":-540},"id":"kN_8T1bonADy","outputId":"03ac08ee-504b-4692-d689-7897872dca0b"},"outputs":[{"name":"stdout","output_type":"stream","text":["[[1 4]\n"," [2 5]\n"," [3 6]]\n","transpose shape ;  (3, 2)\n"]}],"source":["print(np.transpose(a))\n","print('transpose shape ; ', np.transpose(a).shape)"]},{"cell_type":"code","execution_count":55,"metadata":{"colab":{"base_uri":"https://localhost:8080/"},"executionInfo":{"elapsed":425,"status":"ok","timestamp":1696591438675,"user":{"displayName":"JONGSEONG BAE","userId":"13234987129248114174"},"user_tz":-540},"id":"46mvWeZyaDzu","outputId":"bbc1546d-ea45-458f-cee5-ac1b993d0579"},"outputs":[{"name":"stdout","output_type":"stream","text":["(3, 2)\n","(2, 3)\n","(3, 3)\n","[[10 10 10]\n"," [14 14 14]\n"," [18 18 18]]\n"]}],"source":["print(np.transpose(a).shape)\n","print(b.shape)\n","print(np.dot(np.transpose(a), b).shape)\n","print(np.dot(np.transpose(a), b))"]},{"cell_type":"code","execution_count":56,"metadata":{"colab":{"base_uri":"https://localhost:8080/"},"executionInfo":{"elapsed":288,"status":"ok","timestamp":1696591460878,"user":{"displayName":"JONGSEONG BAE","userId":"13234987129248114174"},"user_tz":-540},"id":"c76DsZfoaSmN","outputId":"6432a42f-38f2-4c20-d916-8f5dbde575c7"},"outputs":[{"data":{"text/plain":["(2, 2, 3)"]},"execution_count":56,"metadata":{},"output_type":"execute_result"}],"source":["c = np.array([[[1,2,3],[4,5,6]], [[11,12,13],[14,15,16]]])\n","c.shape"]},{"cell_type":"code","execution_count":57,"metadata":{"colab":{"base_uri":"https://localhost:8080/"},"executionInfo":{"elapsed":292,"status":"ok","timestamp":1696591465980,"user":{"displayName":"JONGSEONG BAE","userId":"13234987129248114174"},"user_tz":-540},"id":"fxn_f7-oq8p7","outputId":"0aea0ff0-d440-4c6f-897f-e0b7bcdbc01c"},"outputs":[{"data":{"text/plain":["(2, 2, 2)"]},"execution_count":57,"metadata":{},"output_type":"execute_result"}],"source":["np.dot(c,np.transpose(a)).shape"]},{"cell_type":"markdown","metadata":{"id":"znQ4l0BbrpVo"},"source":["### 2.3.4 tensor reshaping\n","\n","- 아래 코드를 참고하여 자유롭게 실행해보세요.\n","\n","a.reshape / np.transpose"]},{"cell_type":"markdown","metadata":{"id":"TjcCDudyvrJ2"},"source":["2.3.4.1 array.reshape"]},{"cell_type":"code","execution_count":59,"metadata":{"colab":{"base_uri":"https://localhost:8080/"},"executionInfo":{"elapsed":350,"status":"ok","timestamp":1696591506088,"user":{"displayName":"JONGSEONG BAE","userId":"13234987129248114174"},"user_tz":-540},"id":"meG8lkYhq8ez","outputId":"6b353c78-2ad4-48e4-af12-1d2dc6c53bb5"},"outputs":[{"name":"stdout","output_type":"stream","text":["(3,) (3,)\n"]}],"source":["v = np.array([1,2,3])\n","v2 = np.array([11,12,13])\n","print(v.shape, v2.shape)"]},{"cell_type":"code","execution_count":60,"metadata":{"colab":{"base_uri":"https://localhost:8080/"},"executionInfo":{"elapsed":298,"status":"ok","timestamp":1696591513263,"user":{"displayName":"JONGSEONG BAE","userId":"13234987129248114174"},"user_tz":-540},"id":"Gjq0lrbLsxta","outputId":"f8893c5a-6ff6-414b-ccd1-b28380886546"},"outputs":[{"name":"stdout","output_type":"stream","text":["[[1 2 3]]\n","(1, 3)\n"]}],"source":["print(v.reshape(1,3))\n","print(v.reshape(1,3).shape)"]},{"cell_type":"code","execution_count":61,"metadata":{"colab":{"base_uri":"https://localhost:8080/"},"executionInfo":{"elapsed":322,"status":"ok","timestamp":1696591572739,"user":{"displayName":"JONGSEONG BAE","userId":"13234987129248114174"},"user_tz":-540},"id":"7CfXoCwhsxm_","outputId":"31bcb797-075d-4b95-ff93-a6a9cd36d816"},"outputs":[{"name":"stdout","output_type":"stream","text":["[[[1 2 3]]]\n","(1, 1, 3)\n"]}],"source":["print(v.reshape(1,1,3))\n","print(v.reshape(1,1,3).shape)"]},{"cell_type":"code","execution_count":62,"metadata":{"colab":{"base_uri":"https://localhost:8080/"},"executionInfo":{"elapsed":5,"status":"ok","timestamp":1696591581929,"user":{"displayName":"JONGSEONG BAE","userId":"13234987129248114174"},"user_tz":-540},"id":"ejCgYSMBs8TU","outputId":"5ecd3e7a-400a-4693-aabc-5b37db7bc01c"},"outputs":[{"name":"stdout","output_type":"stream","text":["[[[[1]\n","   [2]\n","   [3]]]]\n","(1, 1, 3, 1)\n"]}],"source":["print(v.reshape(1,1,3,1))\n","print(v.reshape(1,1,3,1).shape)"]},{"cell_type":"code","execution_count":63,"metadata":{"colab":{"base_uri":"https://localhost:8080/"},"executionInfo":{"elapsed":423,"status":"ok","timestamp":1696591593591,"user":{"displayName":"JONGSEONG BAE","userId":"13234987129248114174"},"user_tz":-540},"id":"dQ3myUiFsxZn","outputId":"99eb84b7-11bf-4901-a7a9-4ce11d5f2e86"},"outputs":[{"name":"stdout","output_type":"stream","text":["[[1]\n"," [2]\n"," [3]]\n","(3, 1)\n"]}],"source":["print(v.reshape(3,1))\n","print(v.reshape(3,1).shape)"]},{"cell_type":"code","execution_count":64,"metadata":{"colab":{"base_uri":"https://localhost:8080/"},"executionInfo":{"elapsed":301,"status":"ok","timestamp":1696591603432,"user":{"displayName":"JONGSEONG BAE","userId":"13234987129248114174"},"user_tz":-540},"id":"_HvKGHh-tHVp","outputId":"c5510537-648b-4ef2-8998-4cbeda870cb2"},"outputs":[{"name":"stdout","output_type":"stream","text":["[[[1]]\n","\n"," [[2]]\n","\n"," [[3]]]\n","(3, 1, 1)\n"]}],"source":["print(v.reshape(3,1,1))\n","print(v.reshape(3,1,1).shape)"]},{"cell_type":"code","execution_count":65,"metadata":{"colab":{"base_uri":"https://localhost:8080/"},"executionInfo":{"elapsed":5,"status":"ok","timestamp":1696591606824,"user":{"displayName":"JONGSEONG BAE","userId":"13234987129248114174"},"user_tz":-540},"id":"UMIjajN4ro_z","outputId":"dbc26672-ec2a-4557-b3ef-857996b9bc17"},"outputs":[{"name":"stdout","output_type":"stream","text":["a ; \n"," [[1 2 3]\n"," [4 5 6]] \n"," b ; \n"," [[2 2 2]\n"," [2 2 2]]\n","(2, 3) (2, 3)\n"]}],"source":["a = np.array([[1, 2, 3],[4, 5, 6]])\n","b = np.array([[2, 2, 2],[2, 2, 2]])\n","print('a ; \\n {} \\n b ; \\n {}'.format(a,b))\n","print(a.shape, b.shape)"]},{"cell_type":"code","execution_count":66,"metadata":{"colab":{"base_uri":"https://localhost:8080/"},"executionInfo":{"elapsed":353,"status":"ok","timestamp":1696591613637,"user":{"displayName":"JONGSEONG BAE","userId":"13234987129248114174"},"user_tz":-540},"id":"GCioqkystiWU","outputId":"96f30928-0602-40be-ffd7-be52e2426528"},"outputs":[{"name":"stdout","output_type":"stream","text":["[[1 2]\n"," [3 4]\n"," [5 6]]\n","(3, 2)\n"]}],"source":["print(a.reshape(3,2))\n","print(a.reshape(3,2).shape)"]},{"cell_type":"code","execution_count":67,"metadata":{"colab":{"base_uri":"https://localhost:8080/"},"executionInfo":{"elapsed":7,"status":"ok","timestamp":1696591620042,"user":{"displayName":"JONGSEONG BAE","userId":"13234987129248114174"},"user_tz":-540},"id":"tJbaQzwstiGk","outputId":"c0e30051-f9c3-455a-f99e-c6327af978e2"},"outputs":[{"name":"stdout","output_type":"stream","text":["[[[1]\n","  [2]]\n","\n"," [[3]\n","  [4]]\n","\n"," [[5]\n","  [6]]]\n","(3, 2, 1)\n"]}],"source":["print(a.reshape(3,2,1))\n","print(a.reshape(3,2,1).shape)"]},{"cell_type":"code","execution_count":68,"metadata":{"colab":{"base_uri":"https://localhost:8080/"},"executionInfo":{"elapsed":306,"status":"ok","timestamp":1696591628480,"user":{"displayName":"JONGSEONG BAE","userId":"13234987129248114174"},"user_tz":-540},"id":"KCrl3fahssKz","outputId":"2d41cbeb-b4e1-41bb-e718-90e0eac0ccff"},"outputs":[{"data":{"text/plain":["(2, 2, 3)"]},"execution_count":68,"metadata":{},"output_type":"execute_result"}],"source":["c = np.array([[[1,2,3],[4,5,6]], [[11,12,13],[14,15,16]]])\n","c.shape"]},{"cell_type":"code","execution_count":69,"metadata":{"colab":{"base_uri":"https://localhost:8080/"},"executionInfo":{"elapsed":292,"status":"ok","timestamp":1696591631248,"user":{"displayName":"JONGSEONG BAE","userId":"13234987129248114174"},"user_tz":-540},"id":"Y0ZW5p33opeQ","outputId":"c6187882-ce49-490c-ff72-7cdb1157b9cd"},"outputs":[{"name":"stdout","output_type":"stream","text":["[[[ 1  2]\n","  [ 3  4]]\n","\n"," [[ 5  6]\n","  [11 12]]\n","\n"," [[13 14]\n","  [15 16]]]\n","(3, 2, 2)\n"]}],"source":["print(c.reshape(3,2,2))\n","print(c.reshape(3,2,2).shape)"]},{"cell_type":"code","execution_count":70,"metadata":{"colab":{"base_uri":"https://localhost:8080/"},"executionInfo":{"elapsed":483,"status":"ok","timestamp":1696591635626,"user":{"displayName":"JONGSEONG BAE","userId":"13234987129248114174"},"user_tz":-540},"id":"Lbvq4QQNuMxw","outputId":"0271c5c1-b0a6-4dac-fafa-d8b09e3057cc"},"outputs":[{"name":"stdout","output_type":"stream","text":["[[[ 1]\n","  [ 2]]\n","\n"," [[ 3]\n","  [ 4]]\n","\n"," [[ 5]\n","  [ 6]]\n","\n"," [[11]\n","  [12]]\n","\n"," [[13]\n","  [14]]\n","\n"," [[15]\n","  [16]]]\n","(6, 2, 1)\n"]}],"source":["print(c.reshape(6,2,1))\n","print(c.reshape(6,2,1).shape)"]},{"cell_type":"markdown","metadata":{"id":"aruDIj_VvwO-"},"source":["2.3.4.2 np.transpose"]},{"cell_type":"code","execution_count":null,"metadata":{"colab":{"base_uri":"https://localhost:8080/"},"executionInfo":{"elapsed":2,"status":"ok","timestamp":1696481414032,"user":{"displayName":"JONGSEONG BAE","userId":"13234987129248114174"},"user_tz":-540},"id":"EEDjtyllu_pc","outputId":"d37d632e-7818-4bca-e8a4-7b4d2a78af6f"},"outputs":[{"name":"stdout","output_type":"stream","text":["(3,)\n","[1 2 3]\n","(3,)\n"]}],"source":["v = np.array([1,2,3])\n","print(v.shape)\n","print(np.transpose(v))\n","print(np.transpose(v).shape)"]},{"cell_type":"code","execution_count":null,"metadata":{"colab":{"base_uri":"https://localhost:8080/"},"executionInfo":{"elapsed":3,"status":"ok","timestamp":1696481415737,"user":{"displayName":"JONGSEONG BAE","userId":"13234987129248114174"},"user_tz":-540},"id":"lbHfEVDEvE5B","outputId":"545122c0-df8b-4158-80c6-b7895ffe3997"},"outputs":[{"name":"stdout","output_type":"stream","text":["[[1 2 3]\n"," [4 5 6]]\n","(2, 3)\n","[[1 4]\n"," [2 5]\n"," [3 6]]\n","(3, 2)\n"]}],"source":["a = np.array([[1, 2, 3],[4, 5, 6]])\n","print(a)\n","print(a.shape)\n","print(np.transpose(a))\n","print(np.transpose(a).shape)"]},{"cell_type":"code","execution_count":null,"metadata":{"colab":{"base_uri":"https://localhost:8080/"},"executionInfo":{"elapsed":2,"status":"ok","timestamp":1696481415737,"user":{"displayName":"JONGSEONG BAE","userId":"13234987129248114174"},"user_tz":-540},"id":"9LfxMR2Hn4dh","outputId":"5bb4bda3-a6a6-4f33-a1c7-f7076b001240"},"outputs":[{"name":"stdout","output_type":"stream","text":["(2, 2, 3)\n","[[[ 1 11]\n","  [ 4 14]]\n","\n"," [[ 2 12]\n","  [ 5 15]]\n","\n"," [[ 3 13]\n","  [ 6 16]]]\n","(3, 2, 2)\n"]}],"source":["c = np.array([[[1,2,3],[4,5,6]], [[11,12,13],[14,15,16]]])\n","\n","print(c.shape)\n","print(np.transpose(c))\n","print(np.transpose(c).shape)"]},{"cell_type":"code","execution_count":null,"metadata":{"colab":{"base_uri":"https://localhost:8080/"},"executionInfo":{"elapsed":329,"status":"ok","timestamp":1696481420948,"user":{"displayName":"JONGSEONG BAE","userId":"13234987129248114174"},"user_tz":-540},"id":"nZ9z_ED_vkKo","outputId":"2bfd5ed7-af3a-4370-bcb5-3ad7ce94329e"},"outputs":[{"name":"stdout","output_type":"stream","text":["Help on function transpose in module numpy:\n","\n","transpose(a, axes=None)\n","    Reverse or permute the axes of an array; returns the modified array.\n","    \n","    For an array a with two axes, transpose(a) gives the matrix transpose.\n","    \n","    Refer to `numpy.ndarray.transpose` for full documentation.\n","    \n","    Parameters\n","    ----------\n","    a : array_like\n","        Input array.\n","    axes : tuple or list of ints, optional\n","        If specified, it must be a tuple or list which contains a permutation of\n","        [0,1,..,N-1] where N is the number of axes of a.  The i'th axis of the\n","        returned array will correspond to the axis numbered ``axes[i]`` of the\n","        input.  If not specified, defaults to ``range(a.ndim)[::-1]``, which\n","        reverses the order of the axes.\n","    \n","    Returns\n","    -------\n","    p : ndarray\n","        `a` with its axes permuted.  A view is returned whenever\n","        possible.\n","    \n","    See Also\n","    --------\n","    ndarray.transpose : Equivalent method\n","    moveaxis\n","    argsort\n","    \n","    Notes\n","    -----\n","    Use `transpose(a, argsort(axes))` to invert the transposition of tensors\n","    when using the `axes` keyword argument.\n","    \n","    Transposing a 1-D array returns an unchanged view of the original array.\n","    \n","    Examples\n","    --------\n","    >>> x = np.arange(4).reshape((2,2))\n","    >>> x\n","    array([[0, 1],\n","           [2, 3]])\n","    \n","    >>> np.transpose(x)\n","    array([[0, 2],\n","           [1, 3]])\n","    \n","    >>> x = np.ones((1, 2, 3))\n","    >>> np.transpose(x, (1, 0, 2)).shape\n","    (2, 1, 3)\n","    \n","    >>> x = np.ones((2, 3, 4, 5))\n","    >>> np.transpose(x).shape\n","    (5, 4, 3, 2)\n","\n"]}],"source":["help(np.transpose)"]},{"cell_type":"code","execution_count":null,"metadata":{"id":"pZFN1qpKKIQl"},"outputs":[],"source":[]}],"metadata":{"accelerator":"GPU","colab":{"gpuType":"T4","provenance":[]},"kernelspec":{"display_name":"Python 3","name":"python3"},"language_info":{"codemirror_mode":{"name":"ipython","version":3},"file_extension":".py","mimetype":"text/x-python","name":"python","nbconvert_exporter":"python","pygments_lexer":"ipython3","version":"3.9.13"}},"nbformat":4,"nbformat_minor":0}
=======
{
  "cells": [
    {
      "cell_type": "markdown",
      "metadata": {
        "id": "MYugMo07Ny0n"
      },
      "source": [
        "# 2.2 Data representations for neural networks"
      ]
    },
    {
      "cell_type": "code",
      "execution_count": 1,
      "metadata": {
        "colab": {
          "base_uri": "https://localhost:8080/"
        },
        "id": "J8SoW2OF3j6e",
        "outputId": "3e986333-372f-4f6d-ae19-223af32d43a3"
      },
      "outputs": [
        {
          "name": "stdout",
          "output_type": "stream",
          "text": [
            "WARNING:tensorflow:From C:\\Users\\HyeJinKyu\\AppData\\Local\\Temp\\ipykernel_12320\\2649819912.py:3: is_gpu_available (from tensorflow.python.framework.test_util) is deprecated and will be removed in a future version.\n",
            "Instructions for updating:\n",
            "Use `tf.config.list_physical_devices('GPU')` instead.\n"
          ]
        },
        {
          "data": {
            "text/plain": [
              "True"
            ]
          },
          "execution_count": 1,
          "metadata": {},
          "output_type": "execute_result"
        }
      ],
      "source": [
        "import tensorflow as tf\n",
        "import numpy as np\n",
        "tf.test.is_gpu_available()"
      ]
    },
    {
      "cell_type": "markdown",
      "metadata": {
        "id": "1KsPZj8lDlIW"
      },
      "source": [
        "### 2.2.1 tensorflow tensor, numpy ndarray 차이"
      ]
    },
    {
      "cell_type": "code",
      "execution_count": 2,
      "metadata": {
        "colab": {
          "base_uri": "https://localhost:8080/"
        },
        "id": "PfxmcTw93mk9",
        "outputId": "c5e17bab-dfc6-4bc2-d2b5-256f4bde98a5"
      },
      "outputs": [
        {
          "data": {
            "text/plain": [
              "<tf.Tensor: shape=(4,), dtype=int32, numpy=array([1, 2, 3, 4])>"
            ]
          },
          "execution_count": 2,
          "metadata": {},
          "output_type": "execute_result"
        }
      ],
      "source": [
        "a = tf.constant([1,2,3,4])\n",
        "a"
      ]
    },
    {
      "cell_type": "code",
      "execution_count": 3,
      "metadata": {
        "id": "gV9B7qQeCVyE"
      },
      "outputs": [],
      "source": [
        "b = np.array([1,2,3,4])"
      ]
    },
    {
      "cell_type": "code",
      "execution_count": 4,
      "metadata": {
        "colab": {
          "base_uri": "https://localhost:8080/"
        },
        "id": "SuUGd4dOCYO0",
        "outputId": "fd7a5e9d-8060-4afa-acde-0abe319e97fe"
      },
      "outputs": [
        {
          "data": {
            "text/plain": [
              "array([1, 2, 3, 4])"
            ]
          },
          "execution_count": 4,
          "metadata": {},
          "output_type": "execute_result"
        }
      ],
      "source": [
        "b"
      ]
    },
    {
      "cell_type": "code",
      "execution_count": 5,
      "metadata": {
        "colab": {
          "base_uri": "https://localhost:8080/",
          "height": 35
        },
        "id": "KjOMDQgP4f9F",
        "outputId": "549e825e-df0c-4738-f1e4-a7e2984b1b86"
      },
      "outputs": [
        {
          "data": {
            "text/plain": [
              "'/job:localhost/replica:0/task:0/device:GPU:0'"
            ]
          },
          "execution_count": 5,
          "metadata": {},
          "output_type": "execute_result"
        }
      ],
      "source": [
        "a.device"
      ]
    },
    {
      "cell_type": "code",
      "execution_count": 6,
      "metadata": {
        "colab": {
          "base_uri": "https://localhost:8080/",
          "height": 141
        },
        "id": "flhk3dxcCZfc",
        "outputId": "c25fbb6c-ea6d-4882-f6a7-fb853856605b"
      },
      "outputs": [
        {
          "ename": "AttributeError",
          "evalue": "'numpy.ndarray' object has no attribute 'device'",
          "output_type": "error",
          "traceback": [
            "\u001b[1;31m---------------------------------------------------------------------------\u001b[0m",
            "\u001b[1;31mAttributeError\u001b[0m                            Traceback (most recent call last)",
            "Cell \u001b[1;32mIn[6], line 1\u001b[0m\n\u001b[1;32m----> 1\u001b[0m \u001b[43mb\u001b[49m\u001b[38;5;241;43m.\u001b[39;49m\u001b[43mdevice\u001b[49m \u001b[38;5;66;03m# error\u001b[39;00m\n",
            "\u001b[1;31mAttributeError\u001b[0m: 'numpy.ndarray' object has no attribute 'device'"
          ]
        }
      ],
      "source": [
        "b.device # error"
      ]
    },
    {
      "cell_type": "code",
      "execution_count": 7,
      "metadata": {
        "colab": {
          "base_uri": "https://localhost:8080/"
        },
        "id": "MOX977l5EFQ9",
        "outputId": "5a529d97-8988-41bb-9c94-7a97da8b36b2"
      },
      "outputs": [
        {
          "data": {
            "text/plain": [
              "numpy.ndarray"
            ]
          },
          "execution_count": 7,
          "metadata": {},
          "output_type": "execute_result"
        }
      ],
      "source": [
        "type(a.numpy())"
      ]
    },
    {
      "cell_type": "code",
      "execution_count": 8,
      "metadata": {
        "colab": {
          "base_uri": "https://localhost:8080/"
        },
        "id": "EGrrUFxeEHeV",
        "outputId": "cea2fa8f-9da1-4df8-b888-2f684181fb94"
      },
      "outputs": [
        {
          "data": {
            "text/plain": [
              "tensorflow.python.framework.ops.EagerTensor"
            ]
          },
          "execution_count": 8,
          "metadata": {},
          "output_type": "execute_result"
        }
      ],
      "source": [
        "type(a)"
      ]
    },
    {
      "cell_type": "code",
      "execution_count": 9,
      "metadata": {
        "colab": {
          "base_uri": "https://localhost:8080/"
        },
        "id": "IxK_My55Co-u",
        "outputId": "df904f42-3c42-41f4-db24-9f278e47e5e8"
      },
      "outputs": [
        {
          "data": {
            "text/plain": [
              "<tf.Tensor: shape=(4,), dtype=int32, numpy=array([2, 4, 6, 8])>"
            ]
          },
          "execution_count": 9,
          "metadata": {},
          "output_type": "execute_result"
        }
      ],
      "source": [
        "a + b"
      ]
    },
    {
      "cell_type": "code",
      "execution_count": 10,
      "metadata": {
        "colab": {
          "base_uri": "https://localhost:8080/"
        },
        "id": "Jkbw28XzHSYQ",
        "outputId": "1d4dc050-46bc-4894-a30d-57f3f8e26216"
      },
      "outputs": [
        {
          "data": {
            "text/plain": [
              "<tf.Tensor: shape=(4,), dtype=int32, numpy=array([1, 2, 3, 4])>"
            ]
          },
          "execution_count": 10,
          "metadata": {},
          "output_type": "execute_result"
        }
      ],
      "source": [
        "tf.convert_to_tensor(b, dtype=a.dtype)"
      ]
    },
    {
      "cell_type": "markdown",
      "metadata": {
        "id": "V40kNXBIE9Bo"
      },
      "source": [
        "### 2.2.2 다양한 dimension의 tensor 생성\n",
        "\n",
        "- 아래 코드를 참고하여 자유롭게 tensor를 생성해보세요."
      ]
    },
    {
      "cell_type": "code",
      "execution_count": 11,
      "metadata": {
        "id": "Ss2WdcutH97I"
      },
      "outputs": [],
      "source": [
        "a = np.array(1)\n",
        "b = np.array([1,2])\n",
        "c = np.array([[1,2],\n",
        "              [1,2]])\n",
        "d = np.array([[[1,2],\n",
        "               [1,2]],\n",
        "              [[1,2],\n",
        "               [1,2]]])"
      ]
    },
    {
      "cell_type": "code",
      "execution_count": 12,
      "metadata": {
        "colab": {
          "base_uri": "https://localhost:8080/"
        },
        "id": "crKGlG9XH91J",
        "outputId": "eba3d5f3-ad3c-4114-9fc8-948883481c3c"
      },
      "outputs": [
        {
          "name": "stdout",
          "output_type": "stream",
          "text": [
            "scalar dim     ;  0\n",
            "vector dim     ;  1\n",
            "matrix dim     ;  2\n",
            "3d tensor dim  ;  3\n"
          ]
        }
      ],
      "source": [
        "print('scalar dim     ; ', a.ndim)\n",
        "print('vector dim     ; ', b.ndim)\n",
        "print('matrix dim     ; ', c.ndim)\n",
        "print('3d tensor dim  ; ', d.ndim)"
      ]
    },
    {
      "cell_type": "code",
      "execution_count": 14,
      "metadata": {
        "colab": {
          "base_uri": "https://localhost:8080/"
        },
        "id": "yFbbPoaZH9t5",
        "outputId": "633c9f32-9df9-4fdd-bce3-ba9622819b3b"
      },
      "outputs": [
        {
          "name": "stdout",
          "output_type": "stream",
          "text": [
            "scalar shape     ;  ()\n",
            "vector shape     ;  (2,)\n",
            "matrix shape     ;  (2, 2)\n",
            "3d tensor shape  ;  (2, 2, 2)\n"
          ]
        }
      ],
      "source": [
        "print('scalar shape     ; ', a.shape)\n",
        "print('vector shape     ; ', b.shape)\n",
        "print('matrix shape     ; ', c.shape)\n",
        "print('3d tensor shape  ; ', d.shape)"
      ]
    },
    {
      "cell_type": "code",
      "execution_count": 15,
      "metadata": {
        "colab": {
          "base_uri": "https://localhost:8080/"
        },
        "id": "-AAgawATH9ci",
        "outputId": "b3a2278e-c591-426c-fe72-fc718eb7c964"
      },
      "outputs": [
        {
          "name": "stdout",
          "output_type": "stream",
          "text": [
            "4\n",
            "(2, 2, 2, 2)\n"
          ]
        }
      ],
      "source": [
        "e = np.array([\n",
        "              [[[1,2],\n",
        "                [1,2]],\n",
        "               [[1,2],\n",
        "                [1,2]]],\n",
        "              [[[1,2],\n",
        "                [1,2]],\n",
        "               [[1,2],\n",
        "                [1,2]]]\n",
        "              ])\n",
        "print(e.ndim)\n",
        "print(e.shape)"
      ]
    },
    {
      "cell_type": "markdown",
      "metadata": {
        "id": "CwNgEHkXKrq2"
      },
      "source": [
        "## 2.2.3 mnist data 확인 및 slicing\n",
        "\n",
        "- 아래 코드를 참고하여 자유롭게 tensor slicing을 진행해보세요."
      ]
    },
    {
      "cell_type": "code",
      "execution_count": 13,
      "metadata": {
        "colab": {
          "base_uri": "https://localhost:8080/"
        },
        "id": "l6iaCwSWNy0w",
        "outputId": "5b806909-9535-4b75-d9a3-d8f586607d94"
      },
      "outputs": [],
      "source": [
        "%matplotlib inline\n",
        "from keras.datasets import mnist\n",
        "(train_images, train_labels), (test_images, test_labels) = mnist.load_data()"
      ]
    },
    {
      "cell_type": "code",
      "execution_count": 14,
      "metadata": {
        "colab": {
          "base_uri": "https://localhost:8080/"
        },
        "id": "gFMq726HNy0x",
        "outputId": "ba7a8bf8-cc0f-409b-c488-73ade4d979d2"
      },
      "outputs": [
        {
          "name": "stdout",
          "output_type": "stream",
          "text": [
            "(60000, 28, 28)\n",
            "3\n",
            "uint8\n"
          ]
        }
      ],
      "source": [
        "print(train_images.shape)\n",
        "print(train_images.ndim) #3D Tensor\n",
        "print(train_images.dtype) #정수타입"
      ]
    },
    {
      "cell_type": "code",
      "execution_count": 17,
      "metadata": {
        "colab": {
          "base_uri": "https://localhost:8080/",
          "height": 430
        },
        "id": "zZSo6JLLNy0y",
        "outputId": "9e65b961-c5d8-4a36-a478-d8be609bff44"
      },
      "outputs": [
        {
          "data": {
            "image/png": "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",
            "text/plain": [
              "<Figure size 640x480 with 1 Axes>"
            ]
          },
          "metadata": {},
          "output_type": "display_data"
        },
        {
          "name": "stdout",
          "output_type": "stream",
          "text": [
            "Labels: 5\n"
          ]
        }
      ],
      "source": [
        "digit = train_images[0]\n",
        "import matplotlib.pyplot as plt\n",
        "plt.imshow(digit, cmap=plt.cm.binary)\n",
        "plt.show()\n",
        "\n",
        "print(\"Labels:\", train_labels[0])"
      ]
    },
    {
      "cell_type": "code",
      "execution_count": 18,
      "metadata": {
        "colab": {
          "base_uri": "https://localhost:8080/"
        },
        "id": "e84Sbwbn38sc",
        "outputId": "703a19c0-5f39-45d0-c3f1-c30d4f818b64"
      },
      "outputs": [
        {
          "data": {
            "text/plain": [
              "(28, 28)"
            ]
          },
          "execution_count": 18,
          "metadata": {},
          "output_type": "execute_result"
        }
      ],
      "source": [
        "digit.shape"
      ]
    },
    {
      "cell_type": "code",
      "execution_count": 19,
      "metadata": {
        "colab": {
          "base_uri": "https://localhost:8080/"
        },
        "id": "VSAV73snNy0y",
        "outputId": "525de04d-c2d4-42a6-8420-ff799aa7c3aa"
      },
      "outputs": [
        {
          "name": "stdout",
          "output_type": "stream",
          "text": [
            "(90, 28, 28)\n"
          ]
        }
      ],
      "source": [
        "my_slice = train_images[10:100]\n",
        "print(my_slice.shape)"
      ]
    },
    {
      "cell_type": "code",
      "execution_count": 20,
      "metadata": {
        "colab": {
          "base_uri": "https://localhost:8080/"
        },
        "id": "-_VuhvC5Ny0y",
        "outputId": "cd76df95-9b04-415b-f511-4454bda4e6b7"
      },
      "outputs": [
        {
          "name": "stdout",
          "output_type": "stream",
          "text": [
            "(90, 28, 28)\n"
          ]
        }
      ],
      "source": [
        "my_slice = train_images[10:100, :, :] #위와 동일한 결과\n",
        "print(my_slice.shape)"
      ]
    },
    {
      "cell_type": "code",
      "execution_count": 21,
      "metadata": {
        "colab": {
          "base_uri": "https://localhost:8080/"
        },
        "id": "nt27CCxvNy0y",
        "outputId": "fd4855aa-7491-42cd-fd6f-0ac726bc6ad9"
      },
      "outputs": [
        {
          "name": "stdout",
          "output_type": "stream",
          "text": [
            "(90, 28, 28)\n"
          ]
        }
      ],
      "source": [
        "my_slice = train_images[10:100, 0:28, 0:28] #위와 동일한 결과\n",
        "print(my_slice.shape)"
      ]
    },
    {
      "cell_type": "code",
      "execution_count": 22,
      "metadata": {
        "colab": {
          "base_uri": "https://localhost:8080/"
        },
        "id": "mbtgHmR7Ny0z",
        "outputId": "5625d866-92a0-461b-c176-8c0f6ee36a44"
      },
      "outputs": [
        {
          "name": "stdout",
          "output_type": "stream",
          "text": [
            "(60000, 14, 14)\n"
          ]
        }
      ],
      "source": [
        "my_slice2 = train_images[:, 14:, 14:]\n",
        "print(my_slice2.shape)"
      ]
    },
    {
      "cell_type": "code",
      "execution_count": 23,
      "metadata": {
        "colab": {
          "base_uri": "https://localhost:8080/"
        },
        "id": "IeIvQTM5Ny0z",
        "outputId": "f043e1df-0b89-49a5-8739-3768a83e28af"
      },
      "outputs": [
        {
          "name": "stdout",
          "output_type": "stream",
          "text": [
            "(60000, 14, 14)\n"
          ]
        }
      ],
      "source": [
        "my_slice3 = train_images[:, 7:-7, 7:-7]\n",
        "print(my_slice3.shape)"
      ]
    },
    {
      "cell_type": "code",
      "execution_count": 24,
      "metadata": {
        "colab": {
          "base_uri": "https://localhost:8080/",
          "height": 430
        },
        "id": "O8FumduxFT-t",
        "outputId": "a483aba2-a9d8-49e6-f3ba-cb2dd69a9285"
      },
      "outputs": [
        {
          "data": {
            "image/png": "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",
            "text/plain": [
              "<Figure size 640x480 with 1 Axes>"
            ]
          },
          "metadata": {},
          "output_type": "display_data"
        }
      ],
      "source": [
        "digit = my_slice2[0]\n",
        "import matplotlib.pyplot as plt\n",
        "plt.imshow(digit, cmap=plt.cm.binary)\n",
        "plt.show()"
      ]
    },
    {
      "cell_type": "markdown",
      "metadata": {
        "id": "OjN0ZaABP8vk"
      },
      "source": [
        "# 2.3. The gears of neural networks: tensor operations"
      ]
    },
    {
      "cell_type": "code",
      "execution_count": 25,
      "metadata": {
        "colab": {
          "base_uri": "https://localhost:8080/"
        },
        "id": "TCQ0ZeZZQBvj",
        "outputId": "69d45e98-a889-47dc-ab70-5efa5c02daec"
      },
      "outputs": [
        {
          "data": {
            "text/plain": [
              "True"
            ]
          },
          "execution_count": 25,
          "metadata": {},
          "output_type": "execute_result"
        }
      ],
      "source": [
        "import tensorflow as tf\n",
        "import numpy as np\n",
        "tf.test.is_gpu_available()"
      ]
    },
    {
      "cell_type": "markdown",
      "metadata": {
        "id": "O92kSKLiYfxS"
      },
      "source": [
        "### 2.3.1 동일한 shape의 tensor 연산 --> element-wise operation\n",
        "\n",
        "- 아래 코드를 참고하여 자유롭게 실행해보세요."
      ]
    },
    {
      "cell_type": "code",
      "execution_count": 28,
      "metadata": {
        "colab": {
          "base_uri": "https://localhost:8080/"
        },
        "id": "Cs4U_TyIXbeA",
        "outputId": "9bba41f0-2349-4f53-91ea-1dfb46141489"
      },
      "outputs": [
        {
          "name": "stdout",
          "output_type": "stream",
          "text": [
            "[[1 2 3]\n",
            " [4 5 6]] \n",
            "\n",
            " [[2 2 2]\n",
            " [2 2 2]] \n",
            "\n",
            "\n",
            "(2, 3) (2, 3)\n"
          ]
        }
      ],
      "source": [
        "a = np.array([[1, 2, 3],[4, 5, 6]]) #2 by 3\n",
        "b = np.array([[2, 2, 2],[2, 2, 2]])\n",
        "print(a, '\\n\\n', b, '\\n\\n')\n",
        "print(a.shape, b.shape)"
      ]
    },
    {
      "cell_type": "code",
      "execution_count": 31,
      "metadata": {
        "colab": {
          "base_uri": "https://localhost:8080/"
        },
        "id": "v85AdM5BZWjA",
        "outputId": "6386763d-846d-488b-c9d9-94d7fe117512"
      },
      "outputs": [
        {
          "name": "stdout",
          "output_type": "stream",
          "text": [
            "더하기 : \n",
            " [[3 4 5]\n",
            " [6 7 8]] \n",
            "\n",
            "빼기   : \n",
            " [[-1  0  1]\n",
            " [ 2  3  4]] \n",
            "\n",
            "곱하기 : \n",
            " [[ 2  4  6]\n",
            " [ 8 10 12]] \n",
            "\n",
            "나누기 : \n",
            " [[0.5 1.  1.5]\n",
            " [2.  2.5 3. ]] \n",
            "\n",
            "나머지 : \n",
            " [[1 0 1]\n",
            " [0 1 0]] \n",
            "\n",
            "몫     : \n",
            " [[0 1 1]\n",
            " [2 2 3]] \n",
            "\n"
          ]
        }
      ],
      "source": [
        "print('더하기 : \\n', a+b, '\\n')\n",
        "print('빼기   : \\n', a-b, '\\n')\n",
        "print('곱하기 : \\n', a*b, '\\n')\n",
        "print('나누기 : \\n', a/b, '\\n')\n",
        "print('나머지 : \\n', a%b, '\\n')\n",
        "print('몫     : \\n', a//b, '\\n')"
      ]
    },
    {
      "cell_type": "markdown",
      "metadata": {
        "id": "txKzBMGkgZ-T"
      },
      "source": [
        "### 2.3.2 broadcasting \n",
        "\n",
        "- 아래 코드를 참고하여 자유롭게 실행해보세요."
      ]
    },
    {
      "cell_type": "code",
      "execution_count": 32,
      "metadata": {
        "colab": {
          "base_uri": "https://localhost:8080/"
        },
        "id": "fE8HAfxSgYca",
        "outputId": "1783590f-2f96-4b35-b93f-a06ec45b21f6"
      },
      "outputs": [
        {
          "name": "stdout",
          "output_type": "stream",
          "text": [
            "(2, 3) (3,)\n"
          ]
        }
      ],
      "source": [
        "a = np.array([[1, 2, 3],[4, 5, 6]])\n",
        "b = np.array([2, 4, 6])\n",
        "print(a.shape, b.shape)"
      ]
    },
    {
      "cell_type": "code",
      "execution_count": 33,
      "metadata": {
        "colab": {
          "base_uri": "https://localhost:8080/"
        },
        "id": "l5e_1oEIhV3R",
        "outputId": "169c0318-6cc9-4840-c921-b15c961c426a"
      },
      "outputs": [
        {
          "data": {
            "text/plain": [
              "array([[2, 4, 6],\n",
              "       [4, 5, 6]])"
            ]
          },
          "execution_count": 33,
          "metadata": {},
          "output_type": "execute_result"
        }
      ],
      "source": [
        "# 두 배열의 최대값\n",
        "\n",
        "np.maximum(a,b)"
      ]
    },
    {
      "cell_type": "code",
      "execution_count": 34,
      "metadata": {
        "colab": {
          "base_uri": "https://localhost:8080/"
        },
        "id": "52MNV1VTiEMf",
        "outputId": "78147a31-dca6-4bc4-c327-5d3186466b9e"
      },
      "outputs": [
        {
          "name": "stdout",
          "output_type": "stream",
          "text": [
            "더하기 : \n",
            " [[ 3  6  9]\n",
            " [ 6  9 12]] \n",
            "\n",
            "빼기   : \n",
            " [[-1 -2 -3]\n",
            " [ 2  1  0]] \n",
            "\n",
            "곱하기 : \n",
            " [[ 2  8 18]\n",
            " [ 8 20 36]] \n",
            "\n",
            "나누기 : \n",
            " [[0.5  0.5  0.5 ]\n",
            " [2.   1.25 1.  ]] \n",
            "\n",
            "나머지 : \n",
            " [[1 2 3]\n",
            " [0 1 0]] \n",
            "\n",
            "몫     : \n",
            " [[0 0 0]\n",
            " [2 1 1]] \n",
            "\n",
            "(2, 3) (3,)\n"
          ]
        }
      ],
      "source": [
        "print('더하기 : \\n', a+b, '\\n')\n",
        "print('빼기   : \\n', a-b, '\\n')\n",
        "print('곱하기 : \\n', a*b, '\\n')\n",
        "print('나누기 : \\n', a/b, '\\n')\n",
        "print('나머지 : \\n', a%b, '\\n')\n",
        "print('몫     : \\n', a//b, '\\n')\n",
        "\n",
        "a = np.array([[1, 2, 3],[4, 5, 6]])\n",
        "b = np.array([2, 4, 6])\n",
        "print(a.shape, b.shape)"
      ]
    },
    {
      "cell_type": "code",
      "execution_count": 39,
      "metadata": {
        "colab": {
          "base_uri": "https://localhost:8080/"
        },
        "id": "4v_lQVfsiSCQ",
        "outputId": "00bdde29-eeaa-4673-a2b3-df6649d1ae2f"
      },
      "outputs": [
        {
          "name": "stdout",
          "output_type": "stream",
          "text": [
            "(2, 4, 5, 6, 8) (8,)\n",
            "a dim: 5\n",
            "b dim: 1\n"
          ]
        }
      ],
      "source": [
        "# np.random.random => dtype => float64 형\n",
        "\n",
        "a = np.random.random((2,4,5,6,8))\n",
        "b = np.random.random(8)\n",
        "\n",
        "print(a.shape, b.shape)\n",
        "\n",
        "print(\"a dim:\", a.ndim)\n",
        "print(\"b dim:\", b.ndim)"
      ]
    },
    {
      "cell_type": "code",
      "execution_count": 38,
      "metadata": {
        "colab": {
          "base_uri": "https://localhost:8080/"
        },
        "id": "uE0Xtk2HiR7x",
        "outputId": "df3222fd-ebc6-42ab-f9de-9b9abbe2f12e"
      },
      "outputs": [
        {
          "data": {
            "text/plain": [
              "array([[[[[4.21515145e-01, 4.11844760e-01, 6.18030226e-01, ...,\n",
              "           5.56768855e-01, 8.26511725e-03, 5.08105904e-01],\n",
              "          [8.91155851e-01, 6.03220942e-02, 8.85829623e-01, ...,\n",
              "           9.58582640e-01, 2.64607465e-01, 7.18617546e-01],\n",
              "          [5.85239856e-01, 5.15424680e-01, 5.36910551e-01, ...,\n",
              "           5.39802660e-02, 5.80811014e-01, 9.27508339e-01],\n",
              "          [7.52877489e-01, 4.68574774e-02, 6.71184197e-01, ...,\n",
              "           4.22160184e-01, 8.88057905e-01, 1.28064282e-01],\n",
              "          [9.07985192e-01, 1.07854161e-01, 8.41499288e-01, ...,\n",
              "           6.93227471e-01, 6.36536615e-01, 5.48748193e-01],\n",
              "          [2.55461644e-01, 6.32308650e-01, 2.91067025e-02, ...,\n",
              "           2.30786190e-01, 5.15171020e-01, 2.68392420e-01]],\n",
              "\n",
              "         [[8.16471853e-01, 1.96373504e-01, 4.57969314e-01, ...,\n",
              "           4.86174027e-01, 1.50574069e-03, 5.42253859e-01],\n",
              "          [9.26970491e-02, 2.90329569e-01, 9.26796121e-01, ...,\n",
              "           2.32856097e-02, 2.53878202e-02, 9.14902579e-01],\n",
              "          [2.14761155e-01, 8.05478665e-01, 4.89879179e-02, ...,\n",
              "           7.42273583e-01, 7.12027743e-01, 5.27803155e-01],\n",
              "          [8.91737530e-01, 9.44149174e-01, 1.96232787e-01, ...,\n",
              "           5.22896695e-01, 7.08837110e-01, 4.76670804e-01],\n",
              "          [6.73631491e-02, 1.63891547e-01, 2.73432254e-01, ...,\n",
              "           6.15040184e-02, 7.25955194e-01, 5.77895581e-01],\n",
              "          [7.22031179e-01, 5.82335213e-01, 6.90654462e-01, ...,\n",
              "           5.19814309e-01, 8.55556466e-01, 6.79921323e-01]],\n",
              "\n",
              "         [[6.16712376e-01, 4.95355243e-01, 1.58842959e-01, ...,\n",
              "           3.43928161e-01, 5.46049017e-01, 2.71093332e-01],\n",
              "          [1.33045226e-02, 6.34644645e-01, 3.71073142e-01, ...,\n",
              "           1.57359867e-01, 9.30173268e-01, 8.99898330e-02],\n",
              "          [6.77893629e-01, 4.24140185e-01, 2.18927386e-01, ...,\n",
              "           4.36881521e-01, 4.18236511e-01, 7.79144575e-01],\n",
              "          [8.50147099e-01, 2.05314472e-01, 6.32402441e-01, ...,\n",
              "           1.97686033e-01, 7.00279069e-02, 1.73199028e-01],\n",
              "          [4.26306677e-01, 8.47057023e-03, 2.30248570e-01, ...,\n",
              "           7.12144028e-01, 2.94360366e-01, 8.31213018e-01],\n",
              "          [7.40458187e-01, 9.36873978e-01, 6.19028646e-01, ...,\n",
              "           7.55510713e-01, 2.54281272e-01, 7.50480346e-01]],\n",
              "\n",
              "         [[2.27922365e-01, 4.93949424e-01, 2.15603146e-01, ...,\n",
              "           5.36896950e-01, 8.16359083e-01, 5.72045387e-01],\n",
              "          [6.56995360e-01, 7.00078796e-01, 3.23253371e-01, ...,\n",
              "           2.32964007e-01, 5.81162102e-01, 1.01216057e-01],\n",
              "          [7.21912908e-02, 3.58226385e-01, 1.04153084e-01, ...,\n",
              "           1.47916500e-01, 1.69959095e-01, 9.43812681e-01],\n",
              "          [9.46777593e-01, 4.29446087e-01, 9.47128121e-01, ...,\n",
              "           4.99216626e-01, 5.28049026e-01, 7.48336968e-01],\n",
              "          [6.12687996e-01, 1.05264525e-01, 5.77650969e-01, ...,\n",
              "           6.04815643e-01, 3.14360073e-01, 2.92676337e-01],\n",
              "          [9.75735669e-01, 6.09781649e-01, 4.27884512e-01, ...,\n",
              "           7.72969019e-02, 1.14647042e-01, 5.19595418e-01]],\n",
              "\n",
              "         [[3.17720077e-01, 3.33291424e-01, 7.76279762e-01, ...,\n",
              "           5.00606467e-01, 1.56553412e-01, 3.01999327e-01],\n",
              "          [3.21774944e-01, 6.44198931e-01, 7.13277826e-02, ...,\n",
              "           6.01859740e-01, 7.24002946e-01, 5.82061802e-01],\n",
              "          [7.30484026e-01, 6.62512020e-01, 8.99354583e-03, ...,\n",
              "           3.64015048e-01, 7.45998962e-01, 1.89078503e-01],\n",
              "          [2.43466181e-01, 8.88724827e-01, 9.20377331e-01, ...,\n",
              "           3.05065306e-01, 4.81640755e-02, 9.10352639e-01],\n",
              "          [4.32522808e-01, 7.78628716e-01, 5.56284258e-01, ...,\n",
              "           7.61196315e-01, 6.62160525e-01, 6.38349780e-01],\n",
              "          [8.31463556e-01, 4.51261661e-01, 4.03658561e-01, ...,\n",
              "           9.00095095e-01, 2.45341584e-01, 1.51411519e-01]]],\n",
              "\n",
              "\n",
              "        [[[6.40766930e-01, 5.25964606e-01, 7.35677059e-01, ...,\n",
              "           8.30482232e-01, 5.18920298e-01, 9.66224416e-01],\n",
              "          [2.09718047e-02, 2.61188062e-01, 9.57728240e-01, ...,\n",
              "           1.49415316e-01, 5.38279852e-02, 7.78648524e-01],\n",
              "          [7.16250234e-01, 3.49604707e-01, 8.47710734e-01, ...,\n",
              "           1.96460656e-01, 1.87250636e-01, 5.08906104e-01],\n",
              "          [7.34404209e-01, 1.77274101e-01, 8.80346610e-01, ...,\n",
              "           4.77803026e-01, 2.98307613e-01, 1.00719197e-01],\n",
              "          [2.01838780e-01, 1.19949316e-02, 3.63043159e-01, ...,\n",
              "           1.75951398e-01, 5.47420562e-01, 1.69794655e-01],\n",
              "          [1.41507284e-01, 1.00879039e-01, 9.05440020e-01, ...,\n",
              "           8.60044066e-01, 6.46962875e-01, 5.68205947e-02]],\n",
              "\n",
              "         [[7.83132398e-01, 2.07869166e-01, 8.33399423e-02, ...,\n",
              "           9.93587334e-01, 5.76177936e-01, 2.38965839e-01],\n",
              "          [7.80164037e-01, 5.32316635e-01, 3.26578256e-01, ...,\n",
              "           9.76864760e-01, 6.90846914e-01, 8.89900050e-01],\n",
              "          [1.48762009e-01, 1.91525888e-01, 2.27658461e-01, ...,\n",
              "           8.18433859e-01, 4.81084269e-01, 2.99887333e-02],\n",
              "          [1.65474955e-01, 3.63794289e-01, 9.90738610e-01, ...,\n",
              "           8.11725217e-01, 1.25217095e-01, 9.03241743e-01],\n",
              "          [1.72022416e-01, 8.09231867e-01, 5.46098548e-01, ...,\n",
              "           3.49947918e-01, 2.82702480e-01, 7.27926329e-01],\n",
              "          [7.74636915e-01, 6.41486177e-01, 2.78663566e-01, ...,\n",
              "           7.97763144e-01, 3.58397324e-01, 6.66551715e-01]],\n",
              "\n",
              "         [[5.15282977e-01, 6.78605182e-01, 8.17043024e-01, ...,\n",
              "           2.96681967e-01, 7.19128794e-01, 6.87599133e-01],\n",
              "          [8.86547906e-01, 7.18070159e-01, 7.59154865e-01, ...,\n",
              "           5.94083533e-01, 5.46822543e-01, 7.04869375e-01],\n",
              "          [1.59512016e-01, 9.56362587e-01, 2.00243138e-01, ...,\n",
              "           8.10656595e-02, 4.72539838e-01, 2.02723703e-01],\n",
              "          [8.77391934e-01, 5.30122887e-01, 3.04353128e-01, ...,\n",
              "           1.32769327e-01, 4.26719354e-01, 2.55527141e-01],\n",
              "          [5.21889371e-01, 8.52566636e-01, 6.37521828e-02, ...,\n",
              "           8.30939802e-01, 7.33131889e-02, 1.65426028e-01],\n",
              "          [8.58366623e-01, 8.86378295e-01, 9.87025034e-01, ...,\n",
              "           4.48794029e-01, 5.58665211e-01, 6.84468987e-01]],\n",
              "\n",
              "         [[4.13228623e-01, 9.14202728e-01, 2.57229736e-01, ...,\n",
              "           7.92729026e-01, 9.16492910e-01, 7.04044299e-01],\n",
              "          [9.95169098e-01, 1.94825709e-01, 7.11801187e-02, ...,\n",
              "           7.27177102e-02, 3.51195669e-01, 4.65748414e-01],\n",
              "          [6.99204609e-01, 2.70370793e-01, 9.51880510e-01, ...,\n",
              "           9.75760930e-01, 8.81555165e-01, 5.01144996e-01],\n",
              "          [5.36915752e-01, 1.81502032e-01, 1.30826447e-01, ...,\n",
              "           3.82009696e-01, 4.81401923e-01, 2.40039537e-01],\n",
              "          [3.84542594e-01, 3.04748180e-02, 1.29801706e-01, ...,\n",
              "           2.20988544e-01, 7.63117723e-01, 4.78700719e-01],\n",
              "          [1.00086490e-02, 1.57632660e-02, 6.19200498e-01, ...,\n",
              "           5.86951471e-01, 1.95868884e-01, 8.03272227e-01]],\n",
              "\n",
              "         [[1.91250070e-01, 5.76829990e-01, 2.72568489e-01, ...,\n",
              "           4.07944982e-01, 6.02391857e-01, 7.09248182e-01],\n",
              "          [8.93520958e-02, 8.57099260e-01, 8.48754703e-01, ...,\n",
              "           1.69463001e-01, 5.68049129e-01, 2.61667008e-01],\n",
              "          [3.69419720e-01, 9.07480210e-01, 7.85269605e-01, ...,\n",
              "           6.37080734e-01, 5.88037196e-01, 7.94456869e-01],\n",
              "          [2.40436703e-01, 4.08487042e-01, 3.94306935e-02, ...,\n",
              "           9.93784092e-01, 1.82950737e-01, 7.26194794e-01],\n",
              "          [2.84293075e-01, 7.40127964e-01, 4.53472590e-01, ...,\n",
              "           8.23943850e-01, 6.33763995e-02, 3.25190260e-01],\n",
              "          [2.69984909e-01, 8.36969041e-01, 9.70913031e-01, ...,\n",
              "           1.73778755e-01, 5.32171126e-01, 5.40700934e-01]]],\n",
              "\n",
              "\n",
              "        [[[6.96060056e-01, 6.79890322e-01, 9.42995551e-01, ...,\n",
              "           4.58618798e-01, 3.34434957e-01, 7.04524351e-01],\n",
              "          [1.60566859e-04, 7.26003074e-01, 9.16919194e-01, ...,\n",
              "           4.44949681e-01, 2.34708278e-01, 4.03502667e-01],\n",
              "          [6.70652349e-02, 9.85287702e-01, 7.14283465e-01, ...,\n",
              "           9.02377653e-01, 4.13523577e-01, 5.06302833e-01],\n",
              "          [6.76825298e-02, 6.95825743e-01, 3.09752646e-01, ...,\n",
              "           4.22334372e-01, 2.86154811e-01, 1.22021961e-01],\n",
              "          [9.58120627e-01, 9.52272940e-01, 1.26390608e-01, ...,\n",
              "           6.75591608e-01, 4.03806563e-01, 4.58483824e-01],\n",
              "          [7.58401006e-01, 8.63337038e-01, 9.54615465e-01, ...,\n",
              "           3.65807147e-01, 6.45155710e-01, 4.69995001e-01]],\n",
              "\n",
              "         [[1.63309348e-01, 8.18212064e-01, 6.93822465e-01, ...,\n",
              "           6.97483307e-01, 8.45222216e-01, 7.20978104e-01],\n",
              "          [3.30278021e-02, 5.39896827e-01, 7.30142352e-01, ...,\n",
              "           5.58302977e-01, 7.32515979e-01, 3.61780442e-01],\n",
              "          [5.23513293e-01, 2.06331572e-02, 1.06739591e-01, ...,\n",
              "           6.19578169e-01, 8.93893870e-01, 1.87835416e-01],\n",
              "          [6.25827967e-01, 8.84287888e-01, 9.60404397e-01, ...,\n",
              "           3.36873069e-01, 1.48743740e-01, 3.83107178e-01],\n",
              "          [3.11820265e-01, 7.89690761e-01, 8.68071040e-01, ...,\n",
              "           1.85958124e-01, 6.37112918e-01, 5.23988603e-01],\n",
              "          [5.02701359e-01, 9.99133804e-01, 4.24431864e-01, ...,\n",
              "           4.98007256e-01, 8.68528260e-01, 6.49963249e-01]],\n",
              "\n",
              "         [[5.48908727e-02, 9.15881812e-01, 2.23462660e-01, ...,\n",
              "           1.74495397e-01, 7.31584532e-01, 3.17996969e-01],\n",
              "          [1.89940553e-01, 7.62247643e-02, 9.06044751e-01, ...,\n",
              "           8.11075930e-02, 5.41319708e-01, 2.06222321e-01],\n",
              "          [1.59489684e-01, 3.71945330e-01, 5.41052238e-01, ...,\n",
              "           1.00379483e-01, 7.57705392e-01, 2.94003629e-01],\n",
              "          [9.02129276e-01, 6.65845881e-02, 3.48019286e-01, ...,\n",
              "           4.04839209e-01, 2.83813818e-01, 4.32111208e-01],\n",
              "          [4.52291135e-01, 7.36975567e-01, 7.75175507e-01, ...,\n",
              "           7.44714324e-01, 7.55480127e-01, 5.59134183e-01],\n",
              "          [9.05268797e-01, 7.20642032e-01, 3.99834374e-02, ...,\n",
              "           3.54135915e-02, 9.33249926e-01, 9.02160942e-01]],\n",
              "\n",
              "         [[9.85577197e-02, 2.83694723e-01, 1.72102311e-01, ...,\n",
              "           1.87990689e-01, 5.30064358e-01, 1.71128463e-01],\n",
              "          [8.54200504e-01, 4.54376663e-01, 8.43083263e-01, ...,\n",
              "           8.47361544e-01, 8.99264766e-01, 6.96001081e-01],\n",
              "          [8.25819583e-01, 8.49500795e-01, 3.99343399e-02, ...,\n",
              "           7.68422254e-01, 5.15369311e-01, 2.71105460e-01],\n",
              "          [3.65094777e-01, 9.38050357e-01, 2.75830199e-01, ...,\n",
              "           4.78923737e-01, 9.91979359e-01, 3.80947202e-01],\n",
              "          [5.31004036e-01, 5.26494203e-01, 3.81760121e-01, ...,\n",
              "           6.22668552e-01, 5.54410198e-01, 8.14546002e-01],\n",
              "          [2.74386683e-02, 5.53066114e-01, 4.41217031e-01, ...,\n",
              "           1.51310642e-01, 2.79470998e-01, 4.45978848e-01]],\n",
              "\n",
              "         [[2.56839902e-01, 2.47223104e-01, 3.65043151e-01, ...,\n",
              "           4.30250171e-01, 1.95075002e-02, 2.37386224e-01],\n",
              "          [9.16995033e-01, 3.87698774e-02, 3.80839280e-01, ...,\n",
              "           5.02032609e-01, 3.78378026e-01, 8.32117518e-01],\n",
              "          [2.28564014e-01, 7.29922393e-01, 2.60451740e-01, ...,\n",
              "           8.83474520e-01, 5.21745774e-01, 1.28194386e-01],\n",
              "          [1.19144128e-01, 8.06027047e-01, 6.11786980e-01, ...,\n",
              "           1.07763549e-01, 2.20281701e-01, 6.70116199e-02],\n",
              "          [5.82822771e-01, 9.77958147e-01, 4.36967294e-01, ...,\n",
              "           6.93640215e-01, 3.70103287e-01, 6.90573816e-01],\n",
              "          [3.09840531e-01, 4.96077012e-01, 1.82277815e-01, ...,\n",
              "           4.05832362e-01, 8.58854044e-01, 9.72454330e-01]]],\n",
              "\n",
              "\n",
              "        [[[2.80640484e-01, 5.00809490e-01, 5.09211063e-01, ...,\n",
              "           5.81389510e-01, 4.57505105e-01, 8.67626278e-01],\n",
              "          [9.51995786e-01, 4.13888513e-01, 1.85793717e-02, ...,\n",
              "           8.85955457e-01, 1.82455776e-01, 6.55999453e-01],\n",
              "          [6.43389820e-01, 5.39783837e-02, 5.02525933e-01, ...,\n",
              "           6.72226886e-04, 2.73830569e-01, 6.00690811e-01],\n",
              "          [4.19455230e-01, 4.07494214e-01, 5.34261495e-01, ...,\n",
              "           7.75111886e-01, 8.29232184e-01, 9.38395567e-01],\n",
              "          [6.09953533e-01, 9.38783480e-01, 2.45753219e-01, ...,\n",
              "           9.29722816e-01, 6.64117607e-01, 7.00649748e-01],\n",
              "          [8.07711688e-01, 2.15640468e-01, 3.35349266e-01, ...,\n",
              "           4.98170628e-01, 5.80772409e-01, 4.99394135e-01]],\n",
              "\n",
              "         [[3.65689285e-01, 1.64511234e-01, 8.60105917e-01, ...,\n",
              "           5.48726672e-01, 7.05826182e-01, 7.16458060e-01],\n",
              "          [1.56957457e-01, 1.77743917e-01, 4.19345574e-01, ...,\n",
              "           9.69338991e-01, 4.52974055e-01, 2.56874242e-01],\n",
              "          [1.26092507e-03, 2.72310433e-01, 3.07690574e-01, ...,\n",
              "           6.99523323e-01, 2.12734097e-01, 1.05021489e-01],\n",
              "          [7.64469576e-01, 4.75533712e-01, 2.45168920e-01, ...,\n",
              "           6.12006287e-01, 3.02248927e-01, 6.54227962e-01],\n",
              "          [4.70211912e-01, 5.59385445e-01, 3.10547279e-01, ...,\n",
              "           6.27522290e-01, 7.04820843e-01, 2.81033278e-01],\n",
              "          [5.23420587e-02, 6.37309823e-01, 5.78583663e-01, ...,\n",
              "           6.83802003e-01, 8.99538412e-01, 2.48968617e-01]],\n",
              "\n",
              "         [[7.94687364e-01, 2.28508639e-01, 2.15890944e-01, ...,\n",
              "           7.82022091e-01, 4.98749597e-01, 7.51381886e-01],\n",
              "          [8.14419703e-01, 1.74472437e-01, 8.34446722e-01, ...,\n",
              "           9.96622843e-01, 1.92612723e-01, 5.42061208e-01],\n",
              "          [8.30003919e-01, 5.00262155e-01, 1.37945173e-01, ...,\n",
              "           3.99546480e-01, 9.25236586e-01, 1.65818625e-01],\n",
              "          [3.58870179e-01, 7.43885803e-01, 1.12591101e-01, ...,\n",
              "           9.73521009e-01, 4.03089177e-02, 3.29331293e-01],\n",
              "          [5.80108071e-01, 7.76803180e-01, 2.67751037e-01, ...,\n",
              "           6.96485411e-01, 4.29850961e-01, 9.47068286e-01],\n",
              "          [6.09022823e-01, 7.55898616e-01, 2.60773918e-01, ...,\n",
              "           7.71091444e-01, 5.80620619e-01, 2.11571239e-01]],\n",
              "\n",
              "         [[4.87422184e-01, 2.28962189e-01, 8.49607564e-01, ...,\n",
              "           5.06260752e-02, 2.26193574e-01, 3.27783180e-01],\n",
              "          [8.23309294e-02, 4.85495620e-01, 1.88630038e-01, ...,\n",
              "           6.05526387e-01, 9.62593237e-01, 7.65248246e-01],\n",
              "          [6.04334260e-02, 2.07115158e-02, 9.02550040e-01, ...,\n",
              "           1.29923259e-01, 2.30645588e-01, 1.66453980e-01],\n",
              "          [6.46622597e-01, 3.17020377e-01, 2.88000157e-01, ...,\n",
              "           7.24297521e-01, 9.50003468e-01, 3.74542022e-01],\n",
              "          [4.41196469e-01, 6.85406496e-01, 6.73055835e-01, ...,\n",
              "           2.92943144e-01, 8.90533032e-01, 3.94559992e-01],\n",
              "          [2.64545278e-01, 7.52062718e-01, 1.66350074e-02, ...,\n",
              "           3.01139285e-01, 2.57402834e-01, 5.89941334e-01]],\n",
              "\n",
              "         [[7.85660889e-01, 1.64077771e-01, 6.11287904e-01, ...,\n",
              "           3.64569615e-01, 2.54622905e-01, 3.62806701e-01],\n",
              "          [7.98164482e-01, 8.45242752e-01, 4.46112352e-01, ...,\n",
              "           5.53338922e-01, 5.74517838e-01, 3.20594958e-01],\n",
              "          [6.98190877e-01, 1.73820892e-01, 9.72245442e-01, ...,\n",
              "           3.13267748e-01, 9.83186500e-01, 1.45072274e-01],\n",
              "          [5.03233998e-02, 4.87412007e-01, 4.69941110e-01, ...,\n",
              "           8.61793504e-01, 1.11826917e-01, 1.62725945e-01],\n",
              "          [7.45012491e-01, 3.89781392e-01, 5.01228943e-02, ...,\n",
              "           1.58379164e-01, 7.70005339e-01, 1.63923999e-01],\n",
              "          [4.19303909e-01, 1.27278258e-01, 7.73559324e-01, ...,\n",
              "           4.27630943e-01, 5.74846003e-01, 9.87822085e-01]]]],\n",
              "\n",
              "\n",
              "\n",
              "       [[[[1.58756835e-01, 8.74270417e-01, 6.78305629e-01, ...,\n",
              "           7.14213176e-01, 8.94422645e-01, 3.29267876e-01],\n",
              "          [4.20948220e-01, 1.83191744e-01, 4.62210046e-01, ...,\n",
              "           6.93143989e-01, 5.06810806e-01, 5.88863244e-01],\n",
              "          [6.58832480e-01, 3.86194514e-01, 3.33229088e-01, ...,\n",
              "           8.39536498e-01, 6.69703592e-01, 5.42120343e-01],\n",
              "          [6.42967282e-01, 5.54897469e-01, 9.86194926e-01, ...,\n",
              "           9.16394285e-01, 9.66658034e-01, 7.87945438e-01],\n",
              "          [9.38748958e-01, 9.80424794e-01, 9.09437275e-01, ...,\n",
              "           2.84213227e-01, 2.89127711e-01, 9.57762280e-01],\n",
              "          [4.29890583e-02, 3.71845285e-01, 5.30254558e-01, ...,\n",
              "           5.34556928e-01, 3.88883607e-01, 1.92999003e-01]],\n",
              "\n",
              "         [[9.87633610e-01, 6.42994051e-01, 7.70014382e-01, ...,\n",
              "           4.61155399e-01, 9.31859480e-01, 6.21320295e-01],\n",
              "          [8.11404164e-01, 5.73489159e-01, 1.50703269e-01, ...,\n",
              "           7.58788197e-01, 3.81512835e-01, 5.72576229e-01],\n",
              "          [6.70560878e-01, 2.73054560e-01, 8.87828865e-01, ...,\n",
              "           4.75859553e-01, 3.30593531e-01, 7.63903927e-01],\n",
              "          [2.30123369e-01, 1.21600902e-01, 6.11221698e-02, ...,\n",
              "           1.47544214e-01, 7.27998656e-01, 1.74904243e-02],\n",
              "          [4.06014987e-01, 8.00533554e-01, 8.93056711e-01, ...,\n",
              "           2.26517034e-01, 6.57806278e-01, 5.41026857e-03],\n",
              "          [5.48086862e-03, 2.33980231e-01, 5.55881798e-01, ...,\n",
              "           8.87787561e-01, 7.24739507e-01, 8.04864894e-01]],\n",
              "\n",
              "         [[8.38687679e-01, 7.12633346e-01, 5.52505194e-01, ...,\n",
              "           2.05967587e-01, 2.91342732e-01, 3.10649454e-01],\n",
              "          [8.17541234e-01, 8.18401115e-01, 5.46494122e-02, ...,\n",
              "           3.41131521e-02, 2.03518479e-01, 5.57911204e-01],\n",
              "          [4.94707719e-01, 1.06436927e-01, 9.00947130e-02, ...,\n",
              "           8.38467674e-01, 5.63601552e-01, 6.89215024e-02],\n",
              "          [5.18030561e-01, 9.08238565e-01, 7.41413229e-01, ...,\n",
              "           2.55274583e-01, 2.99602450e-01, 8.69458606e-01],\n",
              "          [5.30550706e-01, 3.23533144e-01, 8.70328547e-01, ...,\n",
              "           9.41851571e-02, 6.94648403e-01, 7.91264603e-01],\n",
              "          [6.17059352e-01, 2.32280129e-01, 5.64300568e-02, ...,\n",
              "           4.46331744e-01, 8.09488234e-01, 9.50740531e-01]],\n",
              "\n",
              "         [[4.83217779e-01, 8.83130747e-01, 3.93636650e-01, ...,\n",
              "           6.35284280e-01, 9.11594727e-01, 9.17043985e-01],\n",
              "          [3.04740251e-01, 5.83098570e-01, 5.57507460e-01, ...,\n",
              "           2.92114405e-01, 1.17080067e-01, 2.31510388e-01],\n",
              "          [7.85982730e-01, 8.74335484e-01, 5.36084244e-01, ...,\n",
              "           1.39278098e-01, 3.50249253e-01, 8.79928194e-02],\n",
              "          [7.60686669e-02, 1.27303176e-01, 6.24797996e-01, ...,\n",
              "           1.81621236e-01, 7.68508347e-01, 1.53067247e-02],\n",
              "          [9.27944304e-01, 4.34683253e-01, 5.57853626e-01, ...,\n",
              "           3.72768645e-01, 1.27489025e-01, 6.95247059e-01],\n",
              "          [1.98269373e-01, 4.07898001e-01, 9.07854267e-01, ...,\n",
              "           9.65345532e-01, 1.28948462e-01, 8.44032486e-01]],\n",
              "\n",
              "         [[1.20265639e-01, 7.78844596e-01, 2.91819543e-02, ...,\n",
              "           8.91934571e-01, 2.86038223e-01, 7.42130107e-01],\n",
              "          [4.56861717e-01, 5.86347926e-01, 6.36600938e-01, ...,\n",
              "           3.50967970e-01, 1.75889379e-01, 9.13179517e-02],\n",
              "          [6.97332750e-01, 5.86697903e-01, 8.22222859e-03, ...,\n",
              "           3.18387650e-02, 6.04361655e-02, 9.83644248e-01],\n",
              "          [2.01799584e-01, 9.11121844e-01, 6.62779424e-01, ...,\n",
              "           1.62805546e-01, 1.51853447e-01, 1.62899599e-01],\n",
              "          [1.76166196e-01, 9.77480711e-01, 8.35521309e-01, ...,\n",
              "           4.40142600e-01, 7.22126236e-01, 1.20549707e-01],\n",
              "          [9.53764373e-01, 2.52058375e-01, 4.27581295e-01, ...,\n",
              "           7.25703725e-01, 9.11985518e-01, 3.78146454e-01]]],\n",
              "\n",
              "\n",
              "        [[[2.50690750e-01, 4.81882072e-02, 5.85843427e-01, ...,\n",
              "           8.61883277e-01, 2.03768164e-01, 7.43580183e-01],\n",
              "          [5.04078051e-01, 3.72603830e-01, 3.45678326e-01, ...,\n",
              "           7.53151285e-02, 8.39054897e-02, 3.79848318e-01],\n",
              "          [8.48495383e-01, 3.22578941e-01, 7.33141183e-01, ...,\n",
              "           3.61312087e-01, 3.50512490e-01, 1.50109249e-02],\n",
              "          [1.12030666e-01, 2.81119426e-01, 1.77190635e-01, ...,\n",
              "           9.63882552e-03, 1.76851254e-01, 9.12735764e-01],\n",
              "          [3.86635306e-01, 1.00922118e-01, 4.32687011e-02, ...,\n",
              "           5.36266324e-01, 4.52014400e-01, 9.42081155e-02],\n",
              "          [2.81443123e-01, 4.57930125e-01, 8.71642784e-01, ...,\n",
              "           3.53895546e-01, 3.49590716e-01, 4.83339667e-01]],\n",
              "\n",
              "         [[9.97402735e-02, 4.27831889e-01, 8.22998063e-01, ...,\n",
              "           1.97862758e-01, 5.34363848e-01, 8.09296857e-01],\n",
              "          [3.10115780e-01, 2.40373312e-02, 5.33771612e-01, ...,\n",
              "           1.40299568e-01, 2.57523947e-02, 9.59355187e-01],\n",
              "          [1.97781224e-01, 5.28854578e-01, 5.11090154e-01, ...,\n",
              "           5.63858505e-01, 1.57077633e-01, 3.70167604e-01],\n",
              "          [3.35926807e-01, 1.67082938e-01, 6.30573249e-01, ...,\n",
              "           2.78361780e-01, 9.13740377e-01, 2.54650363e-01],\n",
              "          [9.42003088e-01, 8.41548936e-01, 6.43165759e-01, ...,\n",
              "           8.28846267e-01, 8.27819094e-01, 1.67014671e-02],\n",
              "          [8.46711031e-01, 5.87744528e-01, 1.41581098e-02, ...,\n",
              "           1.19088083e-01, 2.69071486e-01, 3.16902191e-01]],\n",
              "\n",
              "         [[2.21374272e-01, 8.94798091e-01, 5.77205126e-01, ...,\n",
              "           3.97280808e-01, 1.54736661e-01, 3.02753868e-01],\n",
              "          [7.09110245e-01, 6.32635100e-01, 5.34887347e-01, ...,\n",
              "           4.91693628e-01, 3.42606247e-01, 3.17901775e-01],\n",
              "          [2.42992064e-01, 3.74428543e-01, 3.25666112e-01, ...,\n",
              "           1.05659379e-01, 3.49139158e-01, 4.38131871e-01],\n",
              "          [1.65952799e-01, 9.54994125e-01, 6.41239568e-01, ...,\n",
              "           1.64767034e-01, 7.32880280e-01, 1.45605422e-01],\n",
              "          [2.54162185e-01, 7.46816366e-01, 6.91456536e-02, ...,\n",
              "           2.94776970e-01, 6.49739614e-02, 8.82802316e-01],\n",
              "          [7.47636629e-01, 9.96718482e-01, 8.80659060e-01, ...,\n",
              "           6.52006541e-01, 2.01678607e-01, 4.14553149e-01]],\n",
              "\n",
              "         [[3.74187678e-01, 8.70788848e-02, 9.31732474e-01, ...,\n",
              "           8.58471073e-01, 6.80443455e-01, 4.75041071e-01],\n",
              "          [7.30173563e-01, 1.08441261e-01, 1.26739423e-01, ...,\n",
              "           7.38523356e-01, 5.48333640e-01, 8.36940149e-01],\n",
              "          [8.46636862e-01, 6.32146755e-01, 5.13412067e-01, ...,\n",
              "           4.85075799e-01, 3.46858438e-02, 1.97173764e-01],\n",
              "          [7.48901419e-01, 3.68974395e-02, 3.24030501e-01, ...,\n",
              "           3.82803847e-01, 5.54496670e-02, 3.55639438e-01],\n",
              "          [2.10237224e-01, 7.18018665e-01, 9.54325120e-01, ...,\n",
              "           4.73565890e-01, 7.81974939e-02, 7.66402270e-01],\n",
              "          [4.93144607e-01, 9.98619836e-02, 6.12609307e-02, ...,\n",
              "           4.94276407e-02, 4.24467811e-01, 3.66687206e-02]],\n",
              "\n",
              "         [[4.58469575e-01, 6.73005478e-01, 6.90988914e-01, ...,\n",
              "           3.21927231e-01, 2.10341388e-01, 7.87722118e-01],\n",
              "          [4.61051667e-01, 2.59666413e-01, 2.81300578e-01, ...,\n",
              "           5.21212998e-01, 9.50864269e-01, 3.59961739e-01],\n",
              "          [6.98218691e-01, 6.47353085e-02, 8.51533851e-01, ...,\n",
              "           4.87891408e-01, 3.07659644e-01, 4.49606526e-01],\n",
              "          [8.07856443e-01, 9.16253049e-01, 7.82140803e-01, ...,\n",
              "           6.23315735e-01, 5.99761851e-01, 7.70479439e-01],\n",
              "          [4.55824132e-01, 6.45113177e-01, 6.82950785e-02, ...,\n",
              "           5.12852000e-01, 4.54816438e-02, 4.34064551e-01],\n",
              "          [7.70650467e-01, 3.04552554e-01, 6.19007632e-01, ...,\n",
              "           1.70460306e-01, 7.77796540e-02, 1.14445847e-01]]],\n",
              "\n",
              "\n",
              "        [[[6.14369635e-01, 3.04568033e-01, 5.32406832e-01, ...,\n",
              "           7.04195294e-01, 6.77686701e-01, 5.59473758e-01],\n",
              "          [5.69267370e-01, 8.45044930e-01, 6.39510840e-01, ...,\n",
              "           3.86068255e-01, 1.13586043e-01, 9.07319473e-01],\n",
              "          [9.80661099e-01, 8.91772662e-01, 5.73027097e-01, ...,\n",
              "           7.67498699e-01, 1.59816922e-01, 7.67765465e-01],\n",
              "          [2.73061495e-01, 8.69681662e-01, 3.03141430e-01, ...,\n",
              "           8.52166311e-01, 7.86374455e-01, 7.60154386e-01],\n",
              "          [8.09404731e-01, 1.06209319e-01, 2.68182356e-01, ...,\n",
              "           5.18657545e-01, 2.78877394e-01, 3.72789128e-01],\n",
              "          [8.49332480e-03, 3.24426533e-02, 9.18683632e-01, ...,\n",
              "           6.27322811e-01, 1.85061504e-01, 1.92015414e-01]],\n",
              "\n",
              "         [[2.84411123e-01, 2.81338123e-01, 1.92724639e-01, ...,\n",
              "           2.50088409e-01, 2.68459869e-01, 2.48081581e-01],\n",
              "          [1.40810453e-01, 9.83030219e-01, 1.58522059e-01, ...,\n",
              "           4.44122293e-01, 1.87973259e-01, 2.04305850e-01],\n",
              "          [7.79382427e-01, 5.62339908e-01, 3.02981535e-02, ...,\n",
              "           1.43383528e-01, 7.49522171e-01, 4.48555698e-01],\n",
              "          [4.42647728e-02, 3.69503885e-01, 7.65107373e-01, ...,\n",
              "           3.76187506e-01, 5.08846742e-01, 2.27387230e-01],\n",
              "          [9.92409500e-01, 4.75216790e-01, 8.61864669e-01, ...,\n",
              "           3.86580252e-01, 5.92436557e-01, 7.75622207e-02],\n",
              "          [8.22071846e-01, 4.44681025e-01, 6.02754308e-01, ...,\n",
              "           9.12280008e-01, 2.28224002e-01, 6.78237981e-01]],\n",
              "\n",
              "         [[6.30771870e-01, 7.49659799e-01, 6.47178160e-01, ...,\n",
              "           6.50163423e-01, 4.55259898e-02, 5.65591183e-01],\n",
              "          [4.31760160e-01, 6.02445175e-01, 5.66818876e-01, ...,\n",
              "           8.59622679e-01, 7.50090760e-01, 1.79735036e-01],\n",
              "          [2.23030454e-01, 5.06165912e-01, 9.52834831e-01, ...,\n",
              "           8.12675320e-01, 5.44237970e-01, 1.60988836e-01],\n",
              "          [4.54888525e-01, 4.97572391e-01, 1.81341162e-01, ...,\n",
              "           7.18047975e-01, 9.05038066e-02, 5.10831176e-01],\n",
              "          [1.78920305e-01, 3.47157749e-01, 1.68498568e-01, ...,\n",
              "           8.19631277e-01, 4.50516788e-01, 3.89080135e-01],\n",
              "          [6.58463351e-01, 2.03740143e-01, 2.39495068e-01, ...,\n",
              "           4.40864368e-01, 3.66104981e-01, 7.68450082e-01]],\n",
              "\n",
              "         [[5.55324689e-01, 6.13911690e-01, 5.12830917e-01, ...,\n",
              "           2.78673676e-01, 1.27336456e-01, 1.91520477e-01],\n",
              "          [8.24778361e-01, 2.28277360e-01, 3.86729663e-02, ...,\n",
              "           7.47631248e-01, 4.78586371e-01, 8.22007365e-01],\n",
              "          [3.71064940e-02, 4.08624204e-01, 5.88906631e-01, ...,\n",
              "           1.82794726e-01, 5.87534558e-01, 9.80922416e-01],\n",
              "          [1.27626857e-01, 9.97569094e-01, 9.50081126e-01, ...,\n",
              "           9.88918958e-02, 5.74354744e-01, 1.13947585e-01],\n",
              "          [1.74729052e-01, 2.71649092e-01, 6.62148575e-01, ...,\n",
              "           1.91105250e-01, 8.73330474e-01, 2.93487340e-01],\n",
              "          [5.50749213e-01, 1.46267181e-01, 4.17458511e-01, ...,\n",
              "           2.56219728e-02, 4.19272848e-01, 4.94078135e-01]],\n",
              "\n",
              "         [[4.58982371e-01, 2.60319825e-01, 1.01075190e-01, ...,\n",
              "           6.76301411e-01, 9.93565771e-01, 7.67872416e-01],\n",
              "          [8.78366157e-01, 3.83961794e-01, 9.69919350e-01, ...,\n",
              "           4.81658019e-01, 1.93575291e-01, 6.07279380e-02],\n",
              "          [7.76866277e-01, 7.25453431e-01, 6.45965880e-01, ...,\n",
              "           3.69333427e-01, 3.64792937e-01, 4.59187179e-01],\n",
              "          [1.64531067e-01, 5.37147109e-01, 1.73790762e-01, ...,\n",
              "           1.18186727e-01, 3.50100831e-01, 2.72788963e-01],\n",
              "          [6.19729303e-01, 6.54079283e-01, 1.70453646e-01, ...,\n",
              "           3.81493120e-01, 2.42055449e-01, 8.78819874e-01],\n",
              "          [9.91762829e-01, 3.12343788e-01, 6.84241055e-01, ...,\n",
              "           7.39137134e-01, 7.47236886e-01, 2.61410561e-01]]],\n",
              "\n",
              "\n",
              "        [[[1.00960712e-01, 1.55869856e-01, 7.77505841e-02, ...,\n",
              "           2.60170763e-01, 2.93322357e-01, 6.33675264e-01],\n",
              "          [3.16826706e-01, 8.46742509e-01, 5.01465436e-01, ...,\n",
              "           4.06331640e-01, 3.13472594e-01, 9.43213391e-01],\n",
              "          [4.86464214e-01, 2.02532687e-01, 1.92396368e-02, ...,\n",
              "           2.46338607e-01, 8.56453642e-01, 5.68875381e-01],\n",
              "          [1.51261271e-01, 8.63780816e-01, 7.76669808e-01, ...,\n",
              "           4.94702294e-01, 9.82747677e-01, 8.04088505e-01],\n",
              "          [4.48014179e-01, 4.09851291e-01, 8.86175487e-01, ...,\n",
              "           4.71541786e-01, 5.20251142e-01, 5.58872347e-01],\n",
              "          [6.31336582e-01, 4.93221534e-01, 3.33307822e-01, ...,\n",
              "           9.89219241e-01, 5.29685410e-01, 2.83661251e-01]],\n",
              "\n",
              "         [[1.17123661e-01, 3.07579245e-01, 2.70995346e-01, ...,\n",
              "           6.68074758e-01, 2.30846066e-01, 1.82687309e-01],\n",
              "          [3.58153701e-01, 7.87179866e-01, 5.74118499e-01, ...,\n",
              "           9.71354813e-01, 3.62964238e-02, 2.88504578e-01],\n",
              "          [6.43744043e-01, 9.00030280e-01, 2.34763552e-01, ...,\n",
              "           8.57922421e-01, 6.56567461e-01, 3.99707808e-01],\n",
              "          [6.45068730e-01, 4.19855614e-01, 8.69709578e-01, ...,\n",
              "           4.26445228e-02, 1.81607079e-01, 6.52572167e-01],\n",
              "          [5.42238725e-01, 6.78710913e-02, 2.56366270e-01, ...,\n",
              "           4.39840125e-01, 3.29612621e-01, 1.95094504e-01],\n",
              "          [1.36859205e-01, 4.50248935e-01, 5.60571822e-01, ...,\n",
              "           6.78496270e-01, 4.69539757e-01, 4.18652416e-01]],\n",
              "\n",
              "         [[2.70004825e-02, 6.67262539e-01, 5.82387257e-01, ...,\n",
              "           2.61729764e-01, 9.31597557e-01, 3.97137511e-01],\n",
              "          [2.77529343e-01, 2.28642228e-01, 5.62459378e-01, ...,\n",
              "           3.31205175e-01, 3.67877741e-01, 7.62747050e-01],\n",
              "          [4.46704693e-01, 7.82001705e-01, 5.48551548e-01, ...,\n",
              "           9.76305757e-01, 3.42612929e-01, 8.24314142e-01],\n",
              "          [4.57220890e-01, 5.03378498e-03, 5.06648462e-01, ...,\n",
              "           2.39524310e-01, 3.00860357e-01, 4.21836731e-02],\n",
              "          [8.06575985e-01, 3.54919005e-01, 7.24253666e-01, ...,\n",
              "           5.52116063e-02, 3.53707290e-01, 9.73149511e-01],\n",
              "          [8.13883227e-01, 4.14023780e-01, 5.09892388e-01, ...,\n",
              "           4.52183033e-01, 9.21813663e-01, 9.02214184e-01]],\n",
              "\n",
              "         [[2.47085221e-01, 5.99733713e-01, 2.01063412e-01, ...,\n",
              "           9.42749627e-01, 4.95479238e-01, 2.22745691e-01],\n",
              "          [5.46492035e-01, 9.28973305e-01, 6.11190435e-02, ...,\n",
              "           7.95435939e-01, 5.64832611e-02, 3.97777639e-01],\n",
              "          [2.08725200e-01, 2.48909740e-02, 5.68010757e-01, ...,\n",
              "           6.83819948e-01, 2.41124423e-01, 6.31309905e-01],\n",
              "          [7.82100098e-01, 9.64230178e-01, 8.58036728e-01, ...,\n",
              "           4.99656825e-01, 6.45982200e-01, 8.79994765e-01],\n",
              "          [6.28014497e-01, 5.41120583e-02, 2.65160230e-01, ...,\n",
              "           4.57920416e-02, 9.88691007e-01, 9.21172712e-01],\n",
              "          [8.78569868e-01, 4.16985741e-01, 1.21522216e-01, ...,\n",
              "           5.25291703e-01, 3.27549400e-02, 3.47169845e-02]],\n",
              "\n",
              "         [[2.65775723e-01, 6.27189740e-01, 7.63859978e-01, ...,\n",
              "           3.64404895e-01, 1.07932925e-02, 3.76801132e-01],\n",
              "          [8.40680330e-01, 9.22091676e-01, 9.89339216e-01, ...,\n",
              "           4.69537878e-01, 7.97311822e-01, 5.13839034e-01],\n",
              "          [2.57162982e-01, 7.77590777e-01, 4.31870462e-01, ...,\n",
              "           1.78085427e-01, 3.06974566e-01, 5.22218434e-01],\n",
              "          [2.80227598e-01, 3.75813073e-01, 3.78269338e-01, ...,\n",
              "           6.42167891e-01, 9.68943330e-01, 5.61292306e-01],\n",
              "          [9.63065461e-01, 2.03654231e-01, 7.40307472e-01, ...,\n",
              "           8.72466360e-01, 8.52221213e-01, 3.20150149e-01],\n",
              "          [2.72498786e-02, 7.37754690e-01, 4.87050082e-01, ...,\n",
              "           3.02510299e-01, 3.18534917e-02, 7.07185758e-01]]]]])"
            ]
          },
          "execution_count": 38,
          "metadata": {},
          "output_type": "execute_result"
        }
      ],
      "source": [
        "(a+b).shape\n",
        "\n",
        "\n",
        "a"
      ]
    },
    {
      "cell_type": "markdown",
      "metadata": {
        "id": "tvgF2hremK8B"
      },
      "source": [
        "### 2.3.3 tensor dot product\n",
        "\n",
        "- 아래 코드를 참고하여 자유롭게 실행해보세요.\n",
        "- dot product => 벡터가 두개가 있을때 두개를 더하는 연산"
      ]
    },
    {
      "cell_type": "code",
      "execution_count": 40,
      "metadata": {
        "colab": {
          "base_uri": "https://localhost:8080/"
        },
        "id": "scphzZinqCYm",
        "outputId": "89ce9ca1-0f3d-4298-8085-9ddfb6468ee4"
      },
      "outputs": [
        {
          "name": "stdout",
          "output_type": "stream",
          "text": [
            "(3,) (3,)\n"
          ]
        }
      ],
      "source": [
        "v = np.array([1,2,3])\n",
        "v2 = np.array([11,12,13])\n",
        "print(v.shape, v2.shape)"
      ]
    },
    {
      "cell_type": "code",
      "execution_count": 42,
      "metadata": {
        "colab": {
          "base_uri": "https://localhost:8080/"
        },
        "id": "qfoBkdFeqCGx",
        "outputId": "b73f63d7-e97e-49d1-982d-8409675f45fb"
      },
      "outputs": [
        {
          "data": {
            "text/plain": [
              "74"
            ]
          },
          "execution_count": 42,
          "metadata": {},
          "output_type": "execute_result"
        }
      ],
      "source": [
        "# dot : 각 요소를 곱한 후에 더한값\n",
        "# 11*1 + 12*2 + 13*3 = 11 + 24 + 39 = 74\n",
        "\n",
        "np.dot(v, v2)"
      ]
    },
    {
      "cell_type": "code",
      "execution_count": 38,
      "metadata": {
        "colab": {
          "base_uri": "https://localhost:8080/"
        },
        "id": "SA25enDTqQBD",
        "outputId": "76f913c8-4fe5-4408-c951-e07e735ffbc6"
      },
      "outputs": [
        {
          "name": "stdout",
          "output_type": "stream",
          "text": [
            "(1, 3) (1, 3)\n"
          ]
        }
      ],
      "source": [
        "v = np.array([[1,2,3]])\n",
        "v2 = np.array([[11,12,13]])\n",
        "print(v.shape, v2.shape)"
      ]
    },
    {
      "cell_type": "code",
      "execution_count": 44,
      "metadata": {
        "colab": {
          "base_uri": "https://localhost:8080/",
          "height": 141
        },
        "id": "-nfcSCXfqUDu",
        "outputId": "f5ac5bec-cc58-4c1a-a84a-3efa906652dc"
      },
      "outputs": [
        {
          "data": {
            "text/plain": [
              "74"
            ]
          },
          "execution_count": 44,
          "metadata": {},
          "output_type": "execute_result"
        }
      ],
      "source": [
        "np.dot(v,v2) # error"
      ]
    },
    {
      "cell_type": "code",
      "execution_count": 45,
      "metadata": {
        "colab": {
          "base_uri": "https://localhost:8080/"
        },
        "id": "8dGpBogzqeZI",
        "outputId": "1c72a47a-6494-4664-c47e-cc11ea2ba34a"
      },
      "outputs": [
        {
          "name": "stdout",
          "output_type": "stream",
          "text": [
            "(1, 3) (3,)\n"
          ]
        }
      ],
      "source": [
        "v = np.array([[1,2,3]])\n",
        "v2 = np.array([11,12,13])\n",
        "print(v.shape, v2.shape)"
      ]
    },
    {
      "cell_type": "code",
      "execution_count": 46,
      "metadata": {
        "colab": {
          "base_uri": "https://localhost:8080/"
        },
        "id": "JmErsW9CqhVM",
        "outputId": "b4606d03-0611-4cc5-f65a-aeb2f6875519"
      },
      "outputs": [
        {
          "data": {
            "text/plain": [
              "array([74])"
            ]
          },
          "execution_count": 46,
          "metadata": {},
          "output_type": "execute_result"
        }
      ],
      "source": [
        "np.dot(v,v2)"
      ]
    },
    {
      "cell_type": "code",
      "execution_count": 47,
      "metadata": {
        "colab": {
          "base_uri": "https://localhost:8080/"
        },
        "id": "R3nObkYpmk9k",
        "outputId": "ce7ce1ff-535e-4dac-a004-3a78bea5aa83"
      },
      "outputs": [
        {
          "name": "stdout",
          "output_type": "stream",
          "text": [
            "a ; \n",
            " [[1 2 3]\n",
            " [4 5 6]] \n",
            " b ; \n",
            " [[2 2 2]\n",
            " [2 2 2]]\n",
            "(2, 3) (2, 3)\n"
          ]
        }
      ],
      "source": [
        "a = np.array([[1, 2, 3],[4, 5, 6]])\n",
        "b = np.array([[2, 2, 2],[2, 2, 2]])\n",
        "print('a ; \\n {} \\n b ; \\n {}'.format(a,b))\n",
        "print(a.shape, b.shape)"
      ]
    },
    {
      "cell_type": "code",
      "execution_count": 48,
      "metadata": {
        "colab": {
          "base_uri": "https://localhost:8080/",
          "height": 141
        },
        "id": "DVr-FOeuZd2A",
        "outputId": "f0a39666-d134-4672-a90e-275c35e2bbb4"
      },
      "outputs": [
        {
          "ename": "ValueError",
          "evalue": "shapes (2,3) and (2,3) not aligned: 3 (dim 1) != 2 (dim 0)",
          "output_type": "error",
          "traceback": [
            "\u001b[1;31m---------------------------------------------------------------------------\u001b[0m",
            "\u001b[1;31mValueError\u001b[0m                                Traceback (most recent call last)",
            "Cell \u001b[1;32mIn[48], line 1\u001b[0m\n\u001b[1;32m----> 1\u001b[0m \u001b[43mnp\u001b[49m\u001b[38;5;241;43m.\u001b[39;49m\u001b[43mdot\u001b[49m\u001b[43m(\u001b[49m\u001b[43ma\u001b[49m\u001b[43m,\u001b[49m\u001b[43m \u001b[49m\u001b[43mb\u001b[49m\u001b[43m)\u001b[49m  \u001b[38;5;66;03m# error\u001b[39;00m\n",
            "\u001b[1;31mValueError\u001b[0m: shapes (2,3) and (2,3) not aligned: 3 (dim 1) != 2 (dim 0)"
          ]
        }
      ],
      "source": [
        "np.dot(a, b)  # error"
      ]
    },
    {
      "cell_type": "code",
      "execution_count": 50,
      "metadata": {
        "colab": {
          "base_uri": "https://localhost:8080/"
        },
        "id": "kN_8T1bonADy",
        "outputId": "b0fe1644-5271-4e10-b35d-9acac072abeb"
      },
      "outputs": [
        {
          "name": "stdout",
          "output_type": "stream",
          "text": [
            "[[1 4]\n",
            " [2 5]\n",
            " [3 6]]\n",
            "transpose shape ;  (3, 2)\n"
          ]
        }
      ],
      "source": [
        "# transpose : 배열의 축을 변경\n",
        "\n",
        "print(np.transpose(a))\n",
        "print('transpose shape ; ', np.transpose(a).shape)"
      ]
    },
    {
      "cell_type": "code",
      "execution_count": 51,
      "metadata": {
        "colab": {
          "base_uri": "https://localhost:8080/"
        },
        "id": "46mvWeZyaDzu",
        "outputId": "35e91039-0409-40f3-b4c8-7294e7ea1af3"
      },
      "outputs": [
        {
          "name": "stdout",
          "output_type": "stream",
          "text": [
            "(3, 2)\n",
            "(2, 3)\n",
            "(3, 3)\n",
            "[[10 10 10]\n",
            " [14 14 14]\n",
            " [18 18 18]]\n"
          ]
        }
      ],
      "source": [
        "print(np.transpose(a).shape)\n",
        "print(b.shape)\n",
        "print(np.dot(np.transpose(a), b).shape)\n",
        "print(np.dot(np.transpose(a), b))"
      ]
    },
    {
      "cell_type": "code",
      "execution_count": 52,
      "metadata": {
        "colab": {
          "base_uri": "https://localhost:8080/"
        },
        "id": "c76DsZfoaSmN",
        "outputId": "8457d2ac-f325-4461-e885-dda3a1d5134b"
      },
      "outputs": [
        {
          "data": {
            "text/plain": [
              "(2, 2, 3)"
            ]
          },
          "execution_count": 52,
          "metadata": {},
          "output_type": "execute_result"
        }
      ],
      "source": [
        "c = np.array([[[1,2,3],[4,5,6]], [[11,12,13],[14,15,16]]])\n",
        "c.shape"
      ]
    },
    {
      "cell_type": "code",
      "execution_count": 53,
      "metadata": {
        "colab": {
          "base_uri": "https://localhost:8080/"
        },
        "id": "fxn_f7-oq8p7",
        "outputId": "fb400209-eca9-4984-edee-55d4da8ae952"
      },
      "outputs": [
        {
          "data": {
            "text/plain": [
              "(2, 2, 2)"
            ]
          },
          "execution_count": 53,
          "metadata": {},
          "output_type": "execute_result"
        }
      ],
      "source": [
        "np.dot(c,np.transpose(a)).shape"
      ]
    },
    {
      "cell_type": "markdown",
      "metadata": {
        "id": "znQ4l0BbrpVo"
      },
      "source": [
        "### 2.3.4 tensor reshaping\n",
        "\n",
        "- 아래 코드를 참고하여 자유롭게 실행해보세요.\n",
        "\n",
        "a.reshape / np.transpose"
      ]
    },
    {
      "cell_type": "markdown",
      "metadata": {
        "id": "TjcCDudyvrJ2"
      },
      "source": [
        "2.3.4.1 array.reshape"
      ]
    },
    {
      "cell_type": "code",
      "execution_count": 54,
      "metadata": {
        "colab": {
          "base_uri": "https://localhost:8080/"
        },
        "id": "meG8lkYhq8ez",
        "outputId": "1ca3af2c-7cc8-45ad-c039-765b607215e1"
      },
      "outputs": [
        {
          "name": "stdout",
          "output_type": "stream",
          "text": [
            "(3,) (3,)\n"
          ]
        }
      ],
      "source": [
        "v = np.array([1,2,3])\n",
        "v2 = np.array([11,12,13])\n",
        "print(v.shape, v2.shape)"
      ]
    },
    {
      "cell_type": "code",
      "execution_count": 56,
      "metadata": {
        "colab": {
          "base_uri": "https://localhost:8080/"
        },
        "id": "Gjq0lrbLsxta",
        "outputId": "ead25678-ff05-482a-e314-8ee1cc91c5e9"
      },
      "outputs": [
        {
          "name": "stdout",
          "output_type": "stream",
          "text": [
            "[[1 2 3]]\n",
            "(1, 3)\n"
          ]
        }
      ],
      "source": [
        "print(v.reshape(1,3))\n",
        "print(v.reshape(1,3).shape)"
      ]
    },
    {
      "cell_type": "code",
      "execution_count": 57,
      "metadata": {
        "colab": {
          "base_uri": "https://localhost:8080/"
        },
        "id": "7CfXoCwhsxm_",
        "outputId": "04510dda-3137-4804-ecb8-ce9dc37d890c"
      },
      "outputs": [
        {
          "name": "stdout",
          "output_type": "stream",
          "text": [
            "[[[1 2 3]]]\n",
            "(1, 1, 3)\n"
          ]
        }
      ],
      "source": [
        "print(v.reshape(1,1,3))\n",
        "print(v.reshape(1,1,3).shape)"
      ]
    },
    {
      "cell_type": "code",
      "execution_count": 58,
      "metadata": {
        "colab": {
          "base_uri": "https://localhost:8080/"
        },
        "id": "ejCgYSMBs8TU",
        "outputId": "5ecd3e7a-400a-4693-aabc-5b37db7bc01c"
      },
      "outputs": [
        {
          "name": "stdout",
          "output_type": "stream",
          "text": [
            "[[[[1]\n",
            "   [2]\n",
            "   [3]]]]\n",
            "(1, 1, 3, 1)\n"
          ]
        }
      ],
      "source": [
        "print(v.reshape(1,1,3,1))\n",
        "print(v.reshape(1,1,3,1).shape)"
      ]
    },
    {
      "cell_type": "code",
      "execution_count": 59,
      "metadata": {
        "colab": {
          "base_uri": "https://localhost:8080/"
        },
        "id": "dQ3myUiFsxZn",
        "outputId": "99eb84b7-11bf-4901-a7a9-4ce11d5f2e86"
      },
      "outputs": [
        {
          "name": "stdout",
          "output_type": "stream",
          "text": [
            "[[1]\n",
            " [2]\n",
            " [3]]\n",
            "(3, 1)\n"
          ]
        }
      ],
      "source": [
        "print(v.reshape(3,1))\n",
        "print(v.reshape(3,1).shape)"
      ]
    },
    {
      "cell_type": "code",
      "execution_count": null,
      "metadata": {
        "colab": {
          "base_uri": "https://localhost:8080/"
        },
        "id": "_HvKGHh-tHVp",
        "outputId": "c5510537-648b-4ef2-8998-4cbeda870cb2"
      },
      "outputs": [
        {
          "name": "stdout",
          "output_type": "stream",
          "text": [
            "[[[1]]\n",
            "\n",
            " [[2]]\n",
            "\n",
            " [[3]]]\n",
            "(3, 1, 1)\n"
          ]
        }
      ],
      "source": [
        "print(v.reshape(3,1,1))\n",
        "print(v.reshape(3,1,1).shape)"
      ]
    },
    {
      "cell_type": "code",
      "execution_count": null,
      "metadata": {
        "colab": {
          "base_uri": "https://localhost:8080/"
        },
        "id": "UMIjajN4ro_z",
        "outputId": "dbc26672-ec2a-4557-b3ef-857996b9bc17"
      },
      "outputs": [
        {
          "name": "stdout",
          "output_type": "stream",
          "text": [
            "a ; \n",
            " [[1 2 3]\n",
            " [4 5 6]] \n",
            " b ; \n",
            " [[2 2 2]\n",
            " [2 2 2]]\n",
            "(2, 3) (2, 3)\n"
          ]
        }
      ],
      "source": [
        "a = np.array([[1, 2, 3],[4, 5, 6]])\n",
        "b = np.array([[2, 2, 2],[2, 2, 2]])\n",
        "print('a ; \\n {} \\n b ; \\n {}'.format(a,b))\n",
        "print(a.shape, b.shape)"
      ]
    },
    {
      "cell_type": "code",
      "execution_count": null,
      "metadata": {
        "colab": {
          "base_uri": "https://localhost:8080/"
        },
        "id": "GCioqkystiWU",
        "outputId": "96f30928-0602-40be-ffd7-be52e2426528"
      },
      "outputs": [
        {
          "name": "stdout",
          "output_type": "stream",
          "text": [
            "[[1 2]\n",
            " [3 4]\n",
            " [5 6]]\n",
            "(3, 2)\n"
          ]
        }
      ],
      "source": [
        "print(a.reshape(3,2))\n",
        "print(a.reshape(3,2).shape)"
      ]
    },
    {
      "cell_type": "code",
      "execution_count": null,
      "metadata": {
        "colab": {
          "base_uri": "https://localhost:8080/"
        },
        "id": "tJbaQzwstiGk",
        "outputId": "c0e30051-f9c3-455a-f99e-c6327af978e2"
      },
      "outputs": [
        {
          "name": "stdout",
          "output_type": "stream",
          "text": [
            "[[[1]\n",
            "  [2]]\n",
            "\n",
            " [[3]\n",
            "  [4]]\n",
            "\n",
            " [[5]\n",
            "  [6]]]\n",
            "(3, 2, 1)\n"
          ]
        }
      ],
      "source": [
        "print(a.reshape(3,2,1))\n",
        "print(a.reshape(3,2,1).shape)"
      ]
    },
    {
      "cell_type": "code",
      "execution_count": null,
      "metadata": {
        "colab": {
          "base_uri": "https://localhost:8080/"
        },
        "id": "KCrl3fahssKz",
        "outputId": "2d41cbeb-b4e1-41bb-e718-90e0eac0ccff"
      },
      "outputs": [
        {
          "data": {
            "text/plain": [
              "(2, 2, 3)"
            ]
          },
          "execution_count": 68,
          "metadata": {},
          "output_type": "execute_result"
        }
      ],
      "source": [
        "c = np.array([[[1,2,3],[4,5,6]], [[11,12,13],[14,15,16]]])\n",
        "c.shape"
      ]
    },
    {
      "cell_type": "code",
      "execution_count": null,
      "metadata": {
        "colab": {
          "base_uri": "https://localhost:8080/"
        },
        "id": "Y0ZW5p33opeQ",
        "outputId": "c6187882-ce49-490c-ff72-7cdb1157b9cd"
      },
      "outputs": [
        {
          "name": "stdout",
          "output_type": "stream",
          "text": [
            "[[[ 1  2]\n",
            "  [ 3  4]]\n",
            "\n",
            " [[ 5  6]\n",
            "  [11 12]]\n",
            "\n",
            " [[13 14]\n",
            "  [15 16]]]\n",
            "(3, 2, 2)\n"
          ]
        }
      ],
      "source": [
        "print(c.reshape(3,2,2))\n",
        "print(c.reshape(3,2,2).shape)"
      ]
    },
    {
      "cell_type": "code",
      "execution_count": null,
      "metadata": {
        "colab": {
          "base_uri": "https://localhost:8080/"
        },
        "id": "Lbvq4QQNuMxw",
        "outputId": "0271c5c1-b0a6-4dac-fafa-d8b09e3057cc"
      },
      "outputs": [
        {
          "name": "stdout",
          "output_type": "stream",
          "text": [
            "[[[ 1]\n",
            "  [ 2]]\n",
            "\n",
            " [[ 3]\n",
            "  [ 4]]\n",
            "\n",
            " [[ 5]\n",
            "  [ 6]]\n",
            "\n",
            " [[11]\n",
            "  [12]]\n",
            "\n",
            " [[13]\n",
            "  [14]]\n",
            "\n",
            " [[15]\n",
            "  [16]]]\n",
            "(6, 2, 1)\n"
          ]
        }
      ],
      "source": [
        "print(c.reshape(6,2,1))\n",
        "print(c.reshape(6,2,1).shape)"
      ]
    },
    {
      "cell_type": "markdown",
      "metadata": {
        "id": "aruDIj_VvwO-"
      },
      "source": [
        "2.3.4.2 np.transpose"
      ]
    },
    {
      "cell_type": "code",
      "execution_count": 63,
      "metadata": {
        "colab": {
          "base_uri": "https://localhost:8080/"
        },
        "id": "EEDjtyllu_pc",
        "outputId": "d37d632e-7818-4bca-e8a4-7b4d2a78af6f"
      },
      "outputs": [
        {
          "name": "stdout",
          "output_type": "stream",
          "text": [
            "(3,)\n",
            "[1 2 3]\n",
            "(3,)\n"
          ]
        }
      ],
      "source": [
        "v = np.array([1,2,3])\n",
        "print(v.shape)\n",
        "print(np.transpose(v))\n",
        "print(np.transpose(v).shape)"
      ]
    },
    {
      "cell_type": "code",
      "execution_count": 62,
      "metadata": {
        "colab": {
          "base_uri": "https://localhost:8080/"
        },
        "id": "lbHfEVDEvE5B",
        "outputId": "545122c0-df8b-4158-80c6-b7895ffe3997"
      },
      "outputs": [
        {
          "name": "stdout",
          "output_type": "stream",
          "text": [
            "[[1 2 3]\n",
            " [4 5 6]]\n",
            "(2, 3)\n",
            "[[1 4]\n",
            " [2 5]\n",
            " [3 6]]\n",
            "(3, 2)\n"
          ]
        }
      ],
      "source": [
        "a = np.array([[1, 2, 3],[4, 5, 6]])\n",
        "print(a)\n",
        "print(a.shape)\n",
        "print(np.transpose(a))\n",
        "print(np.transpose(a).shape)"
      ]
    },
    {
      "cell_type": "code",
      "execution_count": 61,
      "metadata": {
        "colab": {
          "base_uri": "https://localhost:8080/"
        },
        "id": "9LfxMR2Hn4dh",
        "outputId": "5bb4bda3-a6a6-4f33-a1c7-f7076b001240"
      },
      "outputs": [
        {
          "name": "stdout",
          "output_type": "stream",
          "text": [
            "(2, 2, 3)\n",
            "[[[ 1 11]\n",
            "  [ 4 14]]\n",
            "\n",
            " [[ 2 12]\n",
            "  [ 5 15]]\n",
            "\n",
            " [[ 3 13]\n",
            "  [ 6 16]]]\n",
            "(3, 2, 2)\n"
          ]
        }
      ],
      "source": [
        "c = np.array([[[1,2,3],[4,5,6]], [[11,12,13],[14,15,16]]])\n",
        "\n",
        "print(c.shape)\n",
        "print(np.transpose(c))\n",
        "print(np.transpose(c).shape)"
      ]
    },
    {
      "cell_type": "code",
      "execution_count": 60,
      "metadata": {
        "colab": {
          "base_uri": "https://localhost:8080/"
        },
        "id": "nZ9z_ED_vkKo",
        "outputId": "2bfd5ed7-af3a-4370-bcb5-3ad7ce94329e"
      },
      "outputs": [
        {
          "name": "stdout",
          "output_type": "stream",
          "text": [
            "Help on _ArrayFunctionDispatcher in module numpy:\n",
            "\n",
            "transpose(a, axes=None)\n",
            "    Returns an array with axes transposed.\n",
            "    \n",
            "    For a 1-D array, this returns an unchanged view of the original array, as a\n",
            "    transposed vector is simply the same vector.\n",
            "    To convert a 1-D array into a 2-D column vector, an additional dimension\n",
            "    must be added, e.g., ``np.atleast2d(a).T`` achieves this, as does\n",
            "    ``a[:, np.newaxis]``.\n",
            "    For a 2-D array, this is the standard matrix transpose.\n",
            "    For an n-D array, if axes are given, their order indicates how the\n",
            "    axes are permuted (see Examples). If axes are not provided, then\n",
            "    ``transpose(a).shape == a.shape[::-1]``.\n",
            "    \n",
            "    Parameters\n",
            "    ----------\n",
            "    a : array_like\n",
            "        Input array.\n",
            "    axes : tuple or list of ints, optional\n",
            "        If specified, it must be a tuple or list which contains a permutation\n",
            "        of [0,1,...,N-1] where N is the number of axes of `a`. The `i`'th axis\n",
            "        of the returned array will correspond to the axis numbered ``axes[i]``\n",
            "        of the input. If not specified, defaults to ``range(a.ndim)[::-1]``,\n",
            "        which reverses the order of the axes.\n",
            "    \n",
            "    Returns\n",
            "    -------\n",
            "    p : ndarray\n",
            "        `a` with its axes permuted. A view is returned whenever possible.\n",
            "    \n",
            "    See Also\n",
            "    --------\n",
            "    ndarray.transpose : Equivalent method.\n",
            "    moveaxis : Move axes of an array to new positions.\n",
            "    argsort : Return the indices that would sort an array.\n",
            "    \n",
            "    Notes\n",
            "    -----\n",
            "    Use ``transpose(a, argsort(axes))`` to invert the transposition of tensors\n",
            "    when using the `axes` keyword argument.\n",
            "    \n",
            "    Examples\n",
            "    --------\n",
            "    >>> a = np.array([[1, 2], [3, 4]])\n",
            "    >>> a\n",
            "    array([[1, 2],\n",
            "           [3, 4]])\n",
            "    >>> np.transpose(a)\n",
            "    array([[1, 3],\n",
            "           [2, 4]])\n",
            "    \n",
            "    >>> a = np.array([1, 2, 3, 4])\n",
            "    >>> a\n",
            "    array([1, 2, 3, 4])\n",
            "    >>> np.transpose(a)\n",
            "    array([1, 2, 3, 4])\n",
            "    \n",
            "    >>> a = np.ones((1, 2, 3))\n",
            "    >>> np.transpose(a, (1, 0, 2)).shape\n",
            "    (2, 1, 3)\n",
            "    \n",
            "    >>> a = np.ones((2, 3, 4, 5))\n",
            "    >>> np.transpose(a).shape\n",
            "    (5, 4, 3, 2)\n",
            "\n"
          ]
        }
      ],
      "source": [
        "help(np.transpose)"
      ]
    },
    {
      "cell_type": "code",
      "execution_count": null,
      "metadata": {
        "id": "pZFN1qpKKIQl"
      },
      "outputs": [],
      "source": []
    }
  ],
  "metadata": {
    "accelerator": "GPU",
    "colab": {
      "gpuType": "T4",
      "provenance": []
    },
    "kernelspec": {
      "display_name": "Python 3",
      "name": "python3"
    },
    "language_info": {
      "codemirror_mode": {
        "name": "ipython",
        "version": 3
      },
      "file_extension": ".py",
      "mimetype": "text/x-python",
      "name": "python",
      "nbconvert_exporter": "python",
      "pygments_lexer": "ipython3",
      "version": "3.9.19"
    }
  },
  "nbformat": 4,
  "nbformat_minor": 0
}
>>>>>>> d6f97ae5b277affa00f130acede5013a72ffe469
