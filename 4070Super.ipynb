{
 "cells": [
  {
   "cell_type": "markdown",
   "metadata": {},
   "source": [
    "### https://www.tensorflow.org/install/pip?hl=ko#windows-native_1"
   ]
  },
  {
   "cell_type": "code",
   "execution_count": 1,
   "metadata": {},
   "outputs": [
    {
     "name": "stdout",
     "output_type": "stream",
     "text": [
      "tf.Tensor(-808.43115, shape=(), dtype=float32)\n"
     ]
    }
   ],
   "source": [
    "import tensorflow as tf\n",
    "print(tf.reduce_sum(tf.random.normal([1000, 1000])))"
   ]
  },
  {
   "cell_type": "code",
   "execution_count": 2,
   "metadata": {},
   "outputs": [
    {
     "name": "stdout",
     "output_type": "stream",
     "text": [
      "[PhysicalDevice(name='/physical_device:GPU:0', device_type='GPU')]\n"
     ]
    }
   ],
   "source": [
    "import tensorflow as tf\n",
    "print(tf.config.list_physical_devices('GPU'))"
   ]
  },
  {
   "cell_type": "code",
   "execution_count": 3,
   "metadata": {},
   "outputs": [
    {
     "name": "stdout",
     "output_type": "stream",
     "text": [
      "True\n"
     ]
    }
   ],
   "source": [
    "# Nvidia RTX 4070 Super\n",
    "\n",
    "# Nvidia GPU 사용 여부 확인\n",
    "import tensorflow as tf\n",
    "print(tf.test.is_built_with_cuda())"
   ]
  },
  {
   "cell_type": "code",
   "execution_count": 4,
   "metadata": {},
   "outputs": [
    {
     "name": "stdout",
     "output_type": "stream",
     "text": [
      "[name: \"/device:CPU:0\"\n",
      "device_type: \"CPU\"\n",
      "memory_limit: 268435456\n",
      "locality {\n",
      "}\n",
      "incarnation: 1761171799653576076\n",
      "xla_global_id: -1\n",
      ", name: \"/device:GPU:0\"\n",
      "device_type: \"GPU\"\n",
      "memory_limit: 9859760128\n",
      "locality {\n",
      "  bus_id: 1\n",
      "  links {\n",
      "  }\n",
      "}\n",
      "incarnation: 13193501783426438113\n",
      "physical_device_desc: \"device: 0, name: NVIDIA GeForce RTX 4070 SUPER, pci bus id: 0000:01:00.0, compute capability: 8.9\"\n",
      "xla_global_id: 416903419\n",
      "]\n"
     ]
    }
   ],
   "source": [
    "import tensorflow as tf \n",
    "from tensorflow.python.client import device_lib\n",
    "\n",
    "print(device_lib.list_local_devices() )"
   ]
  },
  {
   "cell_type": "code",
   "execution_count": 5,
   "metadata": {},
   "outputs": [
    {
     "name": "stdout",
     "output_type": "stream",
     "text": [
      "WARNING:tensorflow:From C:\\Users\\HyeJinKyu\\AppData\\Local\\Temp\\ipykernel_19864\\1771148518.py:4: is_gpu_available (from tensorflow.python.framework.test_util) is deprecated and will be removed in a future version.\n",
      "Instructions for updating:\n",
      "Use `tf.config.list_physical_devices('GPU')` instead.\n",
      "GPU 사용 가능 여부: True\n",
      "설치된 CUDA 버전: 2.10.1\n",
      "설치된 cuDNN 버전: <function decode_predictions at 0x0000011251A4F040>\n"
     ]
    }
   ],
   "source": [
    "import tensorflow as tf\n",
    "\n",
    "# TensorFlow가 GPU를 지원하는지 확인\n",
    "print(\"GPU 사용 가능 여부:\", tf.test.is_gpu_available())\n",
    "\n",
    "# 설치된 CUDA 버전 확인\n",
    "print(\"설치된 CUDA 버전:\", tf.__version__)\n",
    "\n",
    "\n",
    "# 설치된 cuDNN 버전 확인\n",
    "print(\"설치된 cuDNN 버전:\", tf.keras.applications.vgg16.decode_predictions)"
   ]
  },
  {
   "cell_type": "code",
   "execution_count": 6,
   "metadata": {},
   "outputs": [
    {
     "name": "stderr",
     "output_type": "stream",
     "text": [
      "'nvcc'��(��) ���� �Ǵ� �ܺ� ����, ������ �� �ִ� ���α׷�, �Ǵ�\n",
      "��ġ ������ �ƴմϴ�.\n"
     ]
    }
   ],
   "source": [
    "!nvcc --version"
   ]
  },
  {
   "cell_type": "code",
   "execution_count": 7,
   "metadata": {},
   "outputs": [
    {
     "name": "stdout",
     "output_type": "stream",
     "text": [
      "2.10.1\n"
     ]
    }
   ],
   "source": [
    "# TensorFlow 버전 확인\n",
    "\n",
    "import tensorflow as tf\n",
    "print(tf.__version__)\n",
    "\n",
    "# Windows Native에서는 2.10.1 버전이 마지막\n",
    "\n",
    "\n"
   ]
  },
  {
   "cell_type": "code",
   "execution_count": 8,
   "metadata": {},
   "outputs": [
    {
     "name": "stdout",
     "output_type": "stream",
     "text": [
      "2.10.0\n"
     ]
    }
   ],
   "source": [
    "import keras\n",
    "print(keras.__version__)"
   ]
  },
  {
   "cell_type": "code",
   "execution_count": 9,
   "metadata": {},
   "outputs": [
    {
     "name": "stdout",
     "output_type": "stream",
     "text": [
      "Python 3.9.19\n"
     ]
    }
   ],
   "source": [
    "!python -V"
   ]
  },
  {
   "cell_type": "code",
   "execution_count": 10,
   "metadata": {},
   "outputs": [
    {
     "name": "stdout",
     "output_type": "stream",
     "text": [
      "Tue Mar 26 19:33:33 2024       \n",
      "+-----------------------------------------------------------------------------------------+\n",
      "| NVIDIA-SMI 551.86                 Driver Version: 551.86         CUDA Version: 12.4     |\n",
      "|-----------------------------------------+------------------------+----------------------+\n",
      "| GPU  Name                     TCC/WDDM  | Bus-Id          Disp.A | Volatile Uncorr. ECC |\n",
      "| Fan  Temp   Perf          Pwr:Usage/Cap |           Memory-Usage | GPU-Util  Compute M. |\n",
      "|                                         |                        |               MIG M. |\n",
      "|=========================================+========================+======================|\n",
      "|   0  NVIDIA GeForce RTX 4070 ...  WDDM  |   00000000:01:00.0 Off |                  N/A |\n",
      "|  0%   37C    P8              3W /  220W |    9698MiB /  12282MiB |      0%      Default |\n",
      "|                                         |                        |                  N/A |\n",
      "+-----------------------------------------+------------------------+----------------------+\n",
      "                                                                                         \n",
      "+-----------------------------------------------------------------------------------------+\n",
      "| Processes:                                                                              |\n",
      "|  GPU   GI   CI        PID   Type   Process name                              GPU Memory |\n",
      "|        ID   ID                                                               Usage      |\n",
      "|=========================================================================================|\n",
      "|    0   N/A  N/A     19864      C   ...onda\\envs\\TensorFlow-GPU\\python.exe      N/A      |\n",
      "+-----------------------------------------------------------------------------------------+\n"
     ]
    }
   ],
   "source": [
    "!nvidia-smi"
   ]
  },
  {
   "cell_type": "code",
   "execution_count": 11,
   "metadata": {},
   "outputs": [
    {
     "name": "stdout",
     "output_type": "stream",
     "text": [
      "Looking in indexes: https://pypi.org/simple, https://pypi.ngc.nvidia.com\n",
      "Requirement already satisfied: matplotlib in c:\\users\\hyejinkyu\\appdata\\roaming\\python\\python39\\site-packages (3.8.3)\n",
      "Requirement already satisfied: contourpy>=1.0.1 in c:\\users\\hyejinkyu\\appdata\\roaming\\python\\python39\\site-packages (from matplotlib) (1.2.0)\n",
      "Requirement already satisfied: cycler>=0.10 in c:\\users\\hyejinkyu\\appdata\\roaming\\python\\python39\\site-packages (from matplotlib) (0.12.1)\n",
      "Requirement already satisfied: fonttools>=4.22.0 in c:\\users\\hyejinkyu\\appdata\\roaming\\python\\python39\\site-packages (from matplotlib) (4.50.0)\n",
      "Requirement already satisfied: kiwisolver>=1.3.1 in c:\\users\\hyejinkyu\\appdata\\roaming\\python\\python39\\site-packages (from matplotlib) (1.4.5)\n",
      "Requirement already satisfied: numpy<2,>=1.21 in c:\\users\\hyejinkyu\\appdata\\roaming\\python\\python39\\site-packages (from matplotlib) (1.26.4)\n",
      "Requirement already satisfied: packaging>=20.0 in c:\\users\\hyejinkyu\\appdata\\roaming\\python\\python39\\site-packages (from matplotlib) (23.2)\n",
      "Requirement already satisfied: pillow>=8 in c:\\users\\hyejinkyu\\appdata\\roaming\\python\\python39\\site-packages (from matplotlib) (10.2.0)\n",
      "Requirement already satisfied: pyparsing>=2.3.1 in c:\\users\\hyejinkyu\\appdata\\roaming\\python\\python39\\site-packages (from matplotlib) (3.1.2)\n",
      "Requirement already satisfied: python-dateutil>=2.7 in c:\\users\\hyejinkyu\\appdata\\roaming\\python\\python39\\site-packages (from matplotlib) (2.8.2)\n",
      "Requirement already satisfied: importlib-resources>=3.2.0 in c:\\users\\hyejinkyu\\appdata\\roaming\\python\\python39\\site-packages (from matplotlib) (6.4.0)\n",
      "Requirement already satisfied: zipp>=3.1.0 in c:\\users\\hyejinkyu\\appdata\\roaming\\python\\python39\\site-packages (from importlib-resources>=3.2.0->matplotlib) (3.17.0)\n",
      "Requirement already satisfied: six>=1.5 in c:\\users\\hyejinkyu\\appdata\\roaming\\python\\python39\\site-packages (from python-dateutil>=2.7->matplotlib) (1.16.0)\n",
      "Note: you may need to restart the kernel to use updated packages.\n"
     ]
    }
   ],
   "source": [
    "pip install matplotlib"
   ]
  },
  {
   "cell_type": "code",
   "execution_count": 12,
   "metadata": {},
   "outputs": [],
   "source": [
    "from keras.datasets import mnist\n",
    "\n",
    "(train_images, train_labels), (test_images, test_labels) = mnist.load_data()"
   ]
  },
  {
   "cell_type": "code",
   "execution_count": 13,
   "metadata": {},
   "outputs": [
    {
     "name": "stdout",
     "output_type": "stream",
     "text": [
      "  0   0   0   0   0   0   0   0   0   0   0   0   0   0   0   0   0   0   0   0   0   0   0   0   0   0   0   0\n",
      "  0   0   0   0   0   0   0   0   0   0   0   0   0   0   0   0   0   0   0   0   0   0   0   0   0   0   0   0\n",
      "  0   0   0   0   0   0   0   0   0   0   0   0   0   0   0   0   0   0   0   0   0   0   0   0   0   0   0   0\n",
      "  0   0   0   0   0   0   0   0   0   0   0   0   0   0   0   0   0   0   0   0   0   0   0   0   0   0   0   0\n",
      "  0   0   0   0   0   0   0   0   0   0   0   0   0   0   0   0   0   0   0   0   0   0   0   0   0   0   0   0\n",
      "  0   0   0   0   0   0   0   0   0   0   0  87 138 170 253 201 244 212 222 138  86  22   0   0   0   0   0   0\n",
      "  0   0   0   0   0   0   0   0   0   0  95 253 252 252 252 252 253 252 252 252 252 245  80   0   0   0   0   0\n",
      "  0   0   0   0   0   0   0   0   0  68 246 205  69  69  69  69  69  69  69  69 205 253 240  50   0   0   0   0\n",
      "  0   0   0   0   0   0   0   0   0 187 252 218  34   0   0   0   0   0   0   0 116 253 252  69   0   0   0   0\n",
      "  0   0   0   0   0   0   0   0 116 248 252 253  92   0   0   0   0   0   0  95 230 253 157   6   0   0   0   0\n",
      "  0   0   0   0   0   0   0   0 116 249 253 189  42   0   0   0   0  36 170 253 243 158   0   0   0   0   0   0\n",
      "  0   0   0   0   0   0   0   0   0 133 252 245 140  34   0   0  57 219 252 235  60   0   0   0   0   0   0   0\n",
      "  0   0   0   0   0   0   0   0   0  25 205 253 252 234 184 184 253 240 100  44   0   0   0   0   0   0   0   0\n",
      "  0   0   0   0   0   0   0   0   0   0  21 161 219 252 252 252 234  37   0   0   0   0   0   0   0   0   0   0\n",
      "  0   0   0   0   0   0   0   0   0   0   0  11 203 252 252 252 251 135   0   0   0   0   0   0   0   0   0   0\n",
      "  0   0   0   0   0   0   0   0   0   9  76 255 253 205 168 220 255 253 137   5   0   0   0   0   0   0   0   0\n",
      "  0   0   0   0   0   0   0   0   0 114 252 249 132  25   0   0 180 252 252  45   0   0   0   0   0   0   0   0\n",
      "  0   0   0   0   0   0   0   0  51 220 252 199   0   0   0   0  38 186 252 154   7   0   0   0   0   0   0   0\n",
      "  0   0   0   0   0   0   0   0 184 252 252  21   0   0   0   0   0  67 252 252  22   0   0   0   0   0   0   0\n",
      "  0   0   0   0   0   0   0   0 184 252 200   0   0   0   0   0   0  47 252 252  22   0   0   0   0   0   0   0\n",
      "  0   0   0   0   0   0   0   0 185 253 201   0   0   0   0   0   3 118 253 245  21   0   0   0   0   0   0   0\n",
      "  0   0   0   0   0   0   0   0 163 252 252   0   0   0   0   0  97 252 252  87   0   0   0   0   0   0   0   0\n",
      "  0   0   0   0   0   0   0   0  51 240 252 123  70  70 112 184 222 252 170  13   0   0   0   0   0   0   0   0\n",
      "  0   0   0   0   0   0   0   0   0 165 252 253 252 252 252 252 245 139  13   0   0   0   0   0   0   0   0   0\n",
      "  0   0   0   0   0   0   0   0   0   9  75 253 252 221 137 137  21   0   0   0   0   0   0   0   0   0   0   0\n",
      "  0   0   0   0   0   0   0   0   0   0   0   0   0   0   0   0   0   0   0   0   0   0   0   0   0   0   0   0\n",
      "  0   0   0   0   0   0   0   0   0   0   0   0   0   0   0   0   0   0   0   0   0   0   0   0   0   0   0   0\n",
      "  0   0   0   0   0   0   0   0   0   0   0   0   0   0   0   0   0   0   0   0   0   0   0   0   0   0   0   0\n",
      "Train Label(훈련용 정답):[ 8 ]\n"
     ]
    },
    {
     "data": {
      "image/png": "[encoded data removed]",
      "text/plain": [
       "<Figure size 640x480 with 1 Axes>"
      ]
     },
     "metadata": {},
     "output_type": "display_data"
    }
   ],
   "source": [
    "import matplotlib.pyplot as plt\n",
    "\n",
    "random_val = 333\n",
    "#print(train_images[1597])\n",
    "\n",
    "for row in train_images[random_val]:\n",
    "    print(' '.join([f\"{pixel:3d}\" for pixel in row]))\n",
    "\n",
    "\n",
    "\n",
    "plt.imshow(train_images[random_val])\n",
    "\n",
    "print(\"Train Label(훈련용 정답):[\", train_labels[random_val], \"]\")"
   ]
  },
  {
   "cell_type": "code",
   "execution_count": 14,
   "metadata": {},
   "outputs": [
    {
     "data": {
      "text/plain": [
       "[5923, 6742, 5958, 6131, 5842, 5421, 5918, 6265, 5851, 5949]"
      ]
     },
     "execution_count": 14,
     "metadata": {},
     "output_type": "execute_result"
    }
   ],
   "source": [
    "label_set = set(train_labels)\n",
    "label_list = list(set(train_labels))\n",
    "\n",
    "# set => {0, 1, 2, 3, 4, 5, 6, 7, 8, 9} => 요소의 집합(순서없음) => 요소에 접근할수 없어서 list나 tuple로 변환해서 사용\n",
    "# list => [0, 1, 2, 3, 4, 5, 6, 7, 8, 9] => 요소의 집합(순서있음)\n",
    "\n",
    "label_count = [list(train_labels).count(label_list[i]) for i in range(len(label_list))]\n",
    "label_count"
   ]
  },
  {
   "cell_type": "code",
   "execution_count": 15,
   "metadata": {},
   "outputs": [
    {
     "data": {
      "image/png": "[encoded data removed]",
      "text/plain": [
       "<Figure size 640x480 with 1 Axes>"
      ]
     },
     "metadata": {},
     "output_type": "display_data"
    }
   ],
   "source": [
    "plt.bar(label_list, label_count)\n",
    "plt.xticks(range(len(label_list)), label_list)\n",
    "\n",
    "for i, count in enumerate(label_count):\n",
    "    plt.text(i, count, str(count), ha='center', va='bottom')\n",
    "    \n",
    "plt.show()\n"
   ]
  },
  {
   "cell_type": "code",
   "execution_count": 16,
   "metadata": {},
   "outputs": [],
   "source": [
    "from keras import models\n",
    "from keras import layers\n",
    "#models 모듈에서는 모델을 생성하고 관리하는 데 필요한 기능을 제공\n",
    "#layers 모듈에서는 신경망의 다양한 층(예: 완전 연결 층, 합성곱 층 등)을 구현할 수 있는 클래스를 제공합니다.\n",
    "\n",
    "#신경망 모델 생성\n",
    "# keras에는 세가지 모델 선언 방법이 있음\n",
    "\n",
    "# 순차모델(Sequential model)\n",
    "# 함수형 API(Functional API)\n",
    "# 서브클래싱 API(Subclassing API)\n",
    "\n",
    "network = models.Sequential()\n",
    "\n",
    "\n",
    "\n",
    "\n",
    "# \n",
    "network.add(layers.Dense(512, activation='tanh', input_shape=(28 * 28,)))\n",
    "network.add(layers.Dense(128, activation='sigmoid'))\n",
    "network.add(layers.Dense(10, activation='softmax')) #하려는게 0~10의 분류문제이므로 10으로 지정 확률로하는 softmax => 분류문제는 클래스 갯수 softmax를 일반적으로 사용\n"
   ]
  },
  {
   "cell_type": "code",
   "execution_count": 17,
   "metadata": {},
   "outputs": [],
   "source": [
    "# 분류는 categorical_cross...사용\n",
    "\n",
    "network.compile(optimizer='adam',\n",
    "                loss='categorical_crossentropy',\n",
    "                metrics=['accuracy'])"
   ]
  },
  {
   "cell_type": "code",
   "execution_count": 18,
   "metadata": {},
   "outputs": [],
   "source": [
    "#트레인 6만장 0~255 픽셀\n",
    "#스케일링해줌\n",
    "#786 언디센트?로 바뀜\n",
    "\n",
    "train_images = train_images.reshape((60000, 28 * 28))\n",
    "train_images = train_images.astype('float32') / 255\n",
    "\n",
    "test_images = test_images.reshape((10000, 28 * 28))\n",
    "test_images = test_images.astype('float32') / 255"
   ]
  },
  {
   "cell_type": "code",
   "execution_count": 19,
   "metadata": {},
   "outputs": [],
   "source": [
    "#원-핫 인코딩\n",
    "\n",
    "from tensorflow.keras.utils import to_categorical\n",
    "\n",
    "train_labels = to_categorical(train_labels)\n",
    "test_labels = to_categorical(test_labels)"
   ]
  },
  {
   "cell_type": "code",
   "execution_count": 21,
   "metadata": {},
   "outputs": [
    {
     "name": "stdout",
     "output_type": "stream",
     "text": [
      "Epoch 1/100\n",
      "422/422 [==============================] - 1s 3ms/step - loss: 0.0102 - accuracy: 0.9979 - val_loss: 0.0714 - val_accuracy: 0.9812\n",
      "Epoch 2/100\n",
      "422/422 [==============================] - 1s 2ms/step - loss: 0.0090 - accuracy: 0.9979 - val_loss: 0.0680 - val_accuracy: 0.9802\n",
      "Epoch 3/100\n",
      "422/422 [==============================] - 1s 2ms/step - loss: 0.0065 - accuracy: 0.9987 - val_loss: 0.0673 - val_accuracy: 0.9817\n",
      "Epoch 4/100\n",
      "422/422 [==============================] - 1s 2ms/step - loss: 0.0043 - accuracy: 0.9994 - val_loss: 0.0755 - val_accuracy: 0.9808\n",
      "Epoch 5/100\n",
      "422/422 [==============================] - 1s 2ms/step - loss: 0.0065 - accuracy: 0.9984 - val_loss: 0.0852 - val_accuracy: 0.9775\n",
      "Epoch 6/100\n",
      "422/422 [==============================] - 1s 2ms/step - loss: 0.0078 - accuracy: 0.9979 - val_loss: 0.0830 - val_accuracy: 0.9795\n",
      "Epoch 7/100\n",
      "422/422 [==============================] - 1s 2ms/step - loss: 0.0051 - accuracy: 0.9987 - val_loss: 0.0636 - val_accuracy: 0.9860\n",
      "Epoch 8/100\n",
      "422/422 [==============================] - 1s 2ms/step - loss: 0.0027 - accuracy: 0.9994 - val_loss: 0.0706 - val_accuracy: 0.9847\n",
      "Epoch 9/100\n",
      "422/422 [==============================] - 1s 2ms/step - loss: 0.0030 - accuracy: 0.9992 - val_loss: 0.0825 - val_accuracy: 0.9820\n",
      "Epoch 10/100\n",
      "422/422 [==============================] - 1s 2ms/step - loss: 0.0079 - accuracy: 0.9974 - val_loss: 0.0764 - val_accuracy: 0.9823\n",
      "Epoch 11/100\n",
      "422/422 [==============================] - 1s 2ms/step - loss: 8.6418e-04 - accuracy: 0.9999 - val_loss: 0.0729 - val_accuracy: 0.9842\n",
      "Epoch 12/100\n",
      "422/422 [==============================] - 1s 2ms/step - loss: 3.0699e-04 - accuracy: 1.0000 - val_loss: 0.0705 - val_accuracy: 0.9848\n",
      "Epoch 13/100\n",
      "422/422 [==============================] - 1s 2ms/step - loss: 2.1930e-04 - accuracy: 1.0000 - val_loss: 0.0705 - val_accuracy: 0.9850\n",
      "Epoch 14/100\n",
      "422/422 [==============================] - 1s 2ms/step - loss: 1.7621e-04 - accuracy: 1.0000 - val_loss: 0.0715 - val_accuracy: 0.9845\n",
      "Epoch 15/100\n",
      "422/422 [==============================] - 1s 2ms/step - loss: 1.4759e-04 - accuracy: 1.0000 - val_loss: 0.0713 - val_accuracy: 0.9848\n",
      "Epoch 16/100\n",
      "422/422 [==============================] - 1s 2ms/step - loss: 1.2382e-04 - accuracy: 1.0000 - val_loss: 0.0728 - val_accuracy: 0.9848\n",
      "Epoch 17/100\n",
      "422/422 [==============================] - 1s 2ms/step - loss: 1.0534e-04 - accuracy: 1.0000 - val_loss: 0.0728 - val_accuracy: 0.9848\n",
      "Epoch 18/100\n",
      "422/422 [==============================] - 1s 2ms/step - loss: 9.0134e-05 - accuracy: 1.0000 - val_loss: 0.0741 - val_accuracy: 0.9852\n",
      "Epoch 19/100\n",
      "422/422 [==============================] - 1s 2ms/step - loss: 7.4796e-05 - accuracy: 1.0000 - val_loss: 0.0746 - val_accuracy: 0.9852\n",
      "Epoch 20/100\n",
      "422/422 [==============================] - 1s 2ms/step - loss: 6.2452e-05 - accuracy: 1.0000 - val_loss: 0.0750 - val_accuracy: 0.9857\n",
      "Epoch 21/100\n",
      "422/422 [==============================] - 1s 2ms/step - loss: 5.1978e-05 - accuracy: 1.0000 - val_loss: 0.0765 - val_accuracy: 0.9848\n",
      "Epoch 22/100\n",
      "422/422 [==============================] - 1s 2ms/step - loss: 4.3464e-05 - accuracy: 1.0000 - val_loss: 0.0771 - val_accuracy: 0.9852\n",
      "Epoch 23/100\n",
      "422/422 [==============================] - 1s 2ms/step - loss: 3.7508e-05 - accuracy: 1.0000 - val_loss: 0.0797 - val_accuracy: 0.9847\n",
      "Epoch 24/100\n",
      "422/422 [==============================] - 1s 2ms/step - loss: 3.1022e-05 - accuracy: 1.0000 - val_loss: 0.0795 - val_accuracy: 0.9855\n",
      "Epoch 25/100\n",
      "422/422 [==============================] - 1s 2ms/step - loss: 2.4431e-05 - accuracy: 1.0000 - val_loss: 0.0812 - val_accuracy: 0.9852\n",
      "Epoch 26/100\n",
      "422/422 [==============================] - 1s 2ms/step - loss: 1.9420e-05 - accuracy: 1.0000 - val_loss: 0.0813 - val_accuracy: 0.9850\n",
      "Epoch 27/100\n",
      "422/422 [==============================] - 1s 2ms/step - loss: 1.5803e-05 - accuracy: 1.0000 - val_loss: 0.0825 - val_accuracy: 0.9855\n",
      "Epoch 28/100\n",
      "422/422 [==============================] - 1s 2ms/step - loss: 1.2871e-05 - accuracy: 1.0000 - val_loss: 0.0842 - val_accuracy: 0.9852\n",
      "Epoch 29/100\n",
      "422/422 [==============================] - 1s 2ms/step - loss: 1.0525e-05 - accuracy: 1.0000 - val_loss: 0.0849 - val_accuracy: 0.9850\n",
      "Epoch 30/100\n",
      "422/422 [==============================] - 1s 2ms/step - loss: 8.3874e-06 - accuracy: 1.0000 - val_loss: 0.0857 - val_accuracy: 0.9853\n",
      "Epoch 31/100\n",
      "422/422 [==============================] - 1s 2ms/step - loss: 6.9488e-06 - accuracy: 1.0000 - val_loss: 0.0867 - val_accuracy: 0.9855\n",
      "Epoch 32/100\n",
      "422/422 [==============================] - 1s 2ms/step - loss: 5.5518e-06 - accuracy: 1.0000 - val_loss: 0.0885 - val_accuracy: 0.9852\n",
      "Epoch 33/100\n",
      "422/422 [==============================] - 1s 2ms/step - loss: 4.4142e-06 - accuracy: 1.0000 - val_loss: 0.0906 - val_accuracy: 0.9850\n",
      "Epoch 34/100\n",
      "422/422 [==============================] - 1s 2ms/step - loss: 3.5468e-06 - accuracy: 1.0000 - val_loss: 0.0928 - val_accuracy: 0.9850\n",
      "Epoch 35/100\n",
      "422/422 [==============================] - 1s 2ms/step - loss: 2.8714e-06 - accuracy: 1.0000 - val_loss: 0.0923 - val_accuracy: 0.9850\n",
      "Epoch 36/100\n",
      "422/422 [==============================] - 1s 2ms/step - loss: 2.2859e-06 - accuracy: 1.0000 - val_loss: 0.0938 - val_accuracy: 0.9850\n",
      "Epoch 37/100\n",
      "422/422 [==============================] - 1s 2ms/step - loss: 1.8705e-06 - accuracy: 1.0000 - val_loss: 0.0943 - val_accuracy: 0.9853\n",
      "Epoch 38/100\n",
      "422/422 [==============================] - 1s 2ms/step - loss: 1.4905e-06 - accuracy: 1.0000 - val_loss: 0.0966 - val_accuracy: 0.9855\n",
      "Epoch 39/100\n",
      "422/422 [==============================] - 1s 2ms/step - loss: 1.2278e-06 - accuracy: 1.0000 - val_loss: 0.0965 - val_accuracy: 0.9855\n",
      "Epoch 40/100\n",
      "422/422 [==============================] - 1s 2ms/step - loss: 0.0184 - accuracy: 0.9951 - val_loss: 0.0996 - val_accuracy: 0.9788\n",
      "Epoch 41/100\n",
      "422/422 [==============================] - 1s 2ms/step - loss: 0.0092 - accuracy: 0.9970 - val_loss: 0.0894 - val_accuracy: 0.9838\n",
      "Epoch 42/100\n",
      "422/422 [==============================] - 1s 2ms/step - loss: 0.0011 - accuracy: 0.9998 - val_loss: 0.0897 - val_accuracy: 0.9837\n",
      "Epoch 43/100\n",
      "422/422 [==============================] - 1s 2ms/step - loss: 1.3311e-04 - accuracy: 1.0000 - val_loss: 0.0869 - val_accuracy: 0.9847\n",
      "Epoch 44/100\n",
      "422/422 [==============================] - 1s 2ms/step - loss: 6.3743e-05 - accuracy: 1.0000 - val_loss: 0.0887 - val_accuracy: 0.9848\n",
      "Epoch 45/100\n",
      "422/422 [==============================] - 1s 2ms/step - loss: 4.7566e-05 - accuracy: 1.0000 - val_loss: 0.0897 - val_accuracy: 0.9847\n",
      "Epoch 46/100\n",
      "422/422 [==============================] - 1s 2ms/step - loss: 3.8545e-05 - accuracy: 1.0000 - val_loss: 0.0896 - val_accuracy: 0.9850\n",
      "Epoch 47/100\n",
      "422/422 [==============================] - 1s 2ms/step - loss: 3.1567e-05 - accuracy: 1.0000 - val_loss: 0.0898 - val_accuracy: 0.9848\n",
      "Epoch 48/100\n",
      "422/422 [==============================] - 1s 2ms/step - loss: 2.6579e-05 - accuracy: 1.0000 - val_loss: 0.0902 - val_accuracy: 0.9850\n",
      "Epoch 49/100\n",
      "422/422 [==============================] - 1s 2ms/step - loss: 2.2358e-05 - accuracy: 1.0000 - val_loss: 0.0909 - val_accuracy: 0.9848\n",
      "Epoch 50/100\n",
      "422/422 [==============================] - 1s 2ms/step - loss: 1.8961e-05 - accuracy: 1.0000 - val_loss: 0.0910 - val_accuracy: 0.9848\n",
      "Epoch 51/100\n",
      "422/422 [==============================] - 1s 2ms/step - loss: 1.6076e-05 - accuracy: 1.0000 - val_loss: 0.0916 - val_accuracy: 0.9848\n",
      "Epoch 52/100\n",
      "422/422 [==============================] - 1s 2ms/step - loss: 1.3618e-05 - accuracy: 1.0000 - val_loss: 0.0920 - val_accuracy: 0.9848\n",
      "Epoch 53/100\n",
      "422/422 [==============================] - 1s 2ms/step - loss: 1.1613e-05 - accuracy: 1.0000 - val_loss: 0.0925 - val_accuracy: 0.9850\n",
      "Epoch 54/100\n",
      "422/422 [==============================] - 1s 2ms/step - loss: 9.8981e-06 - accuracy: 1.0000 - val_loss: 0.0926 - val_accuracy: 0.9848\n",
      "Epoch 55/100\n",
      "422/422 [==============================] - 1s 2ms/step - loss: 8.4295e-06 - accuracy: 1.0000 - val_loss: 0.0933 - val_accuracy: 0.9850\n",
      "Epoch 56/100\n",
      "422/422 [==============================] - 1s 2ms/step - loss: 7.1657e-06 - accuracy: 1.0000 - val_loss: 0.0943 - val_accuracy: 0.9850\n",
      "Epoch 57/100\n",
      "422/422 [==============================] - 1s 2ms/step - loss: 6.1075e-06 - accuracy: 1.0000 - val_loss: 0.0945 - val_accuracy: 0.9853\n",
      "Epoch 58/100\n",
      "422/422 [==============================] - 1s 2ms/step - loss: 5.1882e-06 - accuracy: 1.0000 - val_loss: 0.0956 - val_accuracy: 0.9852\n",
      "Epoch 59/100\n",
      "422/422 [==============================] - 1s 2ms/step - loss: 4.4157e-06 - accuracy: 1.0000 - val_loss: 0.0957 - val_accuracy: 0.9855\n",
      "Epoch 60/100\n",
      "422/422 [==============================] - 1s 2ms/step - loss: 3.7557e-06 - accuracy: 1.0000 - val_loss: 0.0963 - val_accuracy: 0.9855\n",
      "Epoch 61/100\n",
      "422/422 [==============================] - 1s 2ms/step - loss: 3.1894e-06 - accuracy: 1.0000 - val_loss: 0.0973 - val_accuracy: 0.9855\n",
      "Epoch 62/100\n",
      "422/422 [==============================] - 1s 2ms/step - loss: 2.7007e-06 - accuracy: 1.0000 - val_loss: 0.0981 - val_accuracy: 0.9853\n",
      "Epoch 63/100\n",
      "422/422 [==============================] - 1s 2ms/step - loss: 2.2911e-06 - accuracy: 1.0000 - val_loss: 0.0988 - val_accuracy: 0.9857\n",
      "Epoch 64/100\n",
      "422/422 [==============================] - 1s 2ms/step - loss: 1.9433e-06 - accuracy: 1.0000 - val_loss: 0.0998 - val_accuracy: 0.9858\n",
      "Epoch 65/100\n",
      "422/422 [==============================] - 1s 2ms/step - loss: 1.6421e-06 - accuracy: 1.0000 - val_loss: 0.1012 - val_accuracy: 0.9858\n",
      "Epoch 66/100\n",
      "422/422 [==============================] - 1s 2ms/step - loss: 1.3827e-06 - accuracy: 1.0000 - val_loss: 0.1020 - val_accuracy: 0.9857\n",
      "Epoch 67/100\n",
      "422/422 [==============================] - 1s 2ms/step - loss: 1.1645e-06 - accuracy: 1.0000 - val_loss: 0.1031 - val_accuracy: 0.9850\n",
      "Epoch 68/100\n",
      "422/422 [==============================] - 1s 2ms/step - loss: 9.7897e-07 - accuracy: 1.0000 - val_loss: 0.1034 - val_accuracy: 0.9853\n",
      "Epoch 69/100\n",
      "422/422 [==============================] - 1s 2ms/step - loss: 8.2602e-07 - accuracy: 1.0000 - val_loss: 0.1051 - val_accuracy: 0.9850\n",
      "Epoch 70/100\n",
      "422/422 [==============================] - 1s 2ms/step - loss: 6.9890e-07 - accuracy: 1.0000 - val_loss: 0.1063 - val_accuracy: 0.9848\n",
      "Epoch 71/100\n",
      "422/422 [==============================] - 1s 2ms/step - loss: 5.9433e-07 - accuracy: 1.0000 - val_loss: 0.1065 - val_accuracy: 0.9855\n",
      "Epoch 72/100\n",
      "422/422 [==============================] - 1s 2ms/step - loss: 5.0967e-07 - accuracy: 1.0000 - val_loss: 0.1080 - val_accuracy: 0.9850\n",
      "Epoch 73/100\n",
      "422/422 [==============================] - 1s 2ms/step - loss: 4.3210e-07 - accuracy: 1.0000 - val_loss: 0.1076 - val_accuracy: 0.9852\n",
      "Epoch 74/100\n",
      "422/422 [==============================] - 1s 2ms/step - loss: 3.7020e-07 - accuracy: 1.0000 - val_loss: 0.1098 - val_accuracy: 0.9855\n",
      "Epoch 75/100\n",
      "422/422 [==============================] - 1s 2ms/step - loss: 3.1223e-07 - accuracy: 1.0000 - val_loss: 0.1104 - val_accuracy: 0.9855\n",
      "Epoch 76/100\n",
      "422/422 [==============================] - 1s 2ms/step - loss: 2.6531e-07 - accuracy: 1.0000 - val_loss: 0.1111 - val_accuracy: 0.9852\n",
      "Epoch 77/100\n",
      "422/422 [==============================] - 1s 2ms/step - loss: 2.2465e-07 - accuracy: 1.0000 - val_loss: 0.1121 - val_accuracy: 0.9853\n",
      "Epoch 78/100\n",
      "422/422 [==============================] - 1s 2ms/step - loss: 1.9235e-07 - accuracy: 1.0000 - val_loss: 0.1127 - val_accuracy: 0.9857\n",
      "Epoch 79/100\n",
      "422/422 [==============================] - 1s 2ms/step - loss: 1.6422e-07 - accuracy: 1.0000 - val_loss: 0.1132 - val_accuracy: 0.9853\n",
      "Epoch 80/100\n",
      "422/422 [==============================] - 1s 2ms/step - loss: 1.4059e-07 - accuracy: 1.0000 - val_loss: 0.1148 - val_accuracy: 0.9855\n",
      "Epoch 81/100\n",
      "422/422 [==============================] - 1s 2ms/step - loss: 1.2110e-07 - accuracy: 1.0000 - val_loss: 0.1149 - val_accuracy: 0.9853\n",
      "Epoch 82/100\n",
      "422/422 [==============================] - 1s 2ms/step - loss: 1.0446e-07 - accuracy: 1.0000 - val_loss: 0.1161 - val_accuracy: 0.9855\n",
      "Epoch 83/100\n",
      "422/422 [==============================] - 1s 2ms/step - loss: 9.0917e-08 - accuracy: 1.0000 - val_loss: 0.1165 - val_accuracy: 0.9850\n",
      "Epoch 84/100\n",
      "422/422 [==============================] - 1s 2ms/step - loss: 7.9418e-08 - accuracy: 1.0000 - val_loss: 0.1180 - val_accuracy: 0.9853\n",
      "Epoch 85/100\n",
      "422/422 [==============================] - 1s 2ms/step - loss: 6.9486e-08 - accuracy: 1.0000 - val_loss: 0.1181 - val_accuracy: 0.9857\n",
      "Epoch 86/100\n",
      "422/422 [==============================] - 1s 2ms/step - loss: 6.1243e-08 - accuracy: 1.0000 - val_loss: 0.1190 - val_accuracy: 0.9853\n",
      "Epoch 87/100\n",
      "422/422 [==============================] - 1s 2ms/step - loss: 5.4483e-08 - accuracy: 1.0000 - val_loss: 0.1198 - val_accuracy: 0.9852\n",
      "Epoch 88/100\n",
      "422/422 [==============================] - 1s 2ms/step - loss: 4.8501e-08 - accuracy: 1.0000 - val_loss: 0.1195 - val_accuracy: 0.9855\n",
      "Epoch 89/100\n",
      "422/422 [==============================] - 1s 2ms/step - loss: 4.3335e-08 - accuracy: 1.0000 - val_loss: 0.1208 - val_accuracy: 0.9855\n",
      "Epoch 90/100\n",
      "422/422 [==============================] - 1s 2ms/step - loss: 3.8995e-08 - accuracy: 1.0000 - val_loss: 0.1211 - val_accuracy: 0.9857\n",
      "Epoch 91/100\n",
      "422/422 [==============================] - 1s 2ms/step - loss: 3.5414e-08 - accuracy: 1.0000 - val_loss: 0.1214 - val_accuracy: 0.9855\n",
      "Epoch 92/100\n",
      "422/422 [==============================] - 1s 2ms/step - loss: 3.2162e-08 - accuracy: 1.0000 - val_loss: 0.1217 - val_accuracy: 0.9855\n",
      "Epoch 93/100\n",
      "422/422 [==============================] - 1s 2ms/step - loss: 2.9467e-08 - accuracy: 1.0000 - val_loss: 0.1228 - val_accuracy: 0.9853\n",
      "Epoch 94/100\n",
      "422/422 [==============================] - 1s 2ms/step - loss: 2.6983e-08 - accuracy: 1.0000 - val_loss: 0.1236 - val_accuracy: 0.9855\n",
      "Epoch 95/100\n",
      "422/422 [==============================] - 1s 2ms/step - loss: 2.4994e-08 - accuracy: 1.0000 - val_loss: 0.1242 - val_accuracy: 0.9853\n",
      "Epoch 96/100\n",
      "422/422 [==============================] - 1s 2ms/step - loss: 2.3014e-08 - accuracy: 1.0000 - val_loss: 0.1242 - val_accuracy: 0.9855\n",
      "Epoch 97/100\n",
      "422/422 [==============================] - 1s 2ms/step - loss: 2.1504e-08 - accuracy: 1.0000 - val_loss: 0.1249 - val_accuracy: 0.9853\n",
      "Epoch 98/100\n",
      "422/422 [==============================] - 1s 2ms/step - loss: 1.9976e-08 - accuracy: 1.0000 - val_loss: 0.1251 - val_accuracy: 0.9855\n",
      "Epoch 99/100\n",
      "422/422 [==============================] - 1s 2ms/step - loss: 1.8756e-08 - accuracy: 1.0000 - val_loss: 0.1255 - val_accuracy: 0.9855\n",
      "Epoch 100/100\n",
      "422/422 [==============================] - 1s 2ms/step - loss: 1.7647e-08 - accuracy: 1.0000 - val_loss: 0.1261 - val_accuracy: 0.9853\n",
      "실행 시간: 82.75528979301453초\n"
     ]
    }
   ],
   "source": [
    "import time\n",
    "\n",
    "start_time = time.time()\n",
    "\n",
    "history = network.fit(train_images, train_labels, epochs=100, batch_size=128, validation_split=0.1)\n",
    "\n",
    "end_time = time.time()\n",
    "\n",
    "execution_time = end_time - start_time\n",
    "\n",
    "# 실행 시간 출력\n",
    "print(f\"실행 시간: {execution_time}초\")\n",
    "\n",
    "\n",
    "# 6만장 중 10%뺀 5.4만장 중 배치사이즈 128로 나누면 iteration 갯수가 나옴\n",
    "# 트레인데이터셋에서 90프로로 학습하고 10프로만 검증\n",
    "# 향후에 테스트데이터셋으로 검증\n",
    "\n",
    "# 4070 Super : 10.83초\n",
    "# T4 : 19.11초\n",
    "# CPU(Intel(R) Core(TM) i5-6500 CPU @ 3.20GHz) : 30.64초"
   ]
  },
  {
   "cell_type": "code",
   "execution_count": 32,
   "metadata": {},
   "outputs": [
    {
     "name": "stdout",
     "output_type": "stream",
     "text": [
      "2.10.0\n"
     ]
    }
   ],
   "source": [
    "import keras;\n",
    "print(keras.__version__);"
   ]
  },
  {
   "cell_type": "code",
   "execution_count": null,
   "metadata": {},
   "outputs": [],
   "source": [
    "### Colab CPU vs GPU 속도 측청"
   ]
  },
  {
   "cell_type": "code",
   "execution_count": 40,
   "metadata": {},
   "outputs": [
    {
     "ename": "ResourceExhaustedError",
     "evalue": "{{function_node __wrapped__RandomStandardNormal_device_/job:localhost/replica:0/task:0/device:GPU:0}} OOM when allocating tensor with shape[1000,1000,100,3] and type float on /job:localhost/replica:0/task:0/device:GPU:0 by allocator GPU_0_bfc [Op:RandomStandardNormal]",
     "output_type": "error",
     "traceback": [
      "\u001b[1;31m---------------------------------------------------------------------------\u001b[0m",
      "\u001b[1;31mResourceExhaustedError\u001b[0m                    Traceback (most recent call last)",
      "Cell \u001b[1;32mIn[40], line 26\u001b[0m\n\u001b[0;32m     24\u001b[0m \u001b[38;5;66;03m# We run each op once to warm up; see: https://stackoverflow.com/a/45067900\u001b[39;00m\n\u001b[0;32m     25\u001b[0m cpu()\n\u001b[1;32m---> 26\u001b[0m \u001b[43mgpu\u001b[49m\u001b[43m(\u001b[49m\u001b[43m)\u001b[49m\n\u001b[0;32m     28\u001b[0m \u001b[38;5;66;03m# Run the op several times.\u001b[39;00m\n\u001b[0;32m     29\u001b[0m \u001b[38;5;28mprint\u001b[39m(\u001b[38;5;124m'\u001b[39m\u001b[38;5;124mTime (s) to convolve 32x7x7x3 filter over random 100x100x100x3 images \u001b[39m\u001b[38;5;124m'\u001b[39m\n\u001b[0;32m     30\u001b[0m       \u001b[38;5;124m'\u001b[39m\u001b[38;5;124m(batch x height x width x channel). Sum of ten runs.\u001b[39m\u001b[38;5;124m'\u001b[39m)\n",
      "Cell \u001b[1;32mIn[40], line 20\u001b[0m, in \u001b[0;36mgpu\u001b[1;34m()\u001b[0m\n\u001b[0;32m     18\u001b[0m \u001b[38;5;28;01mdef\u001b[39;00m \u001b[38;5;21mgpu\u001b[39m():\n\u001b[0;32m     19\u001b[0m   \u001b[38;5;28;01mwith\u001b[39;00m tf\u001b[38;5;241m.\u001b[39mdevice(\u001b[38;5;124m'\u001b[39m\u001b[38;5;124m/device:GPU:0\u001b[39m\u001b[38;5;124m'\u001b[39m):\n\u001b[1;32m---> 20\u001b[0m     random_image_gpu \u001b[38;5;241m=\u001b[39m \u001b[43mtf\u001b[49m\u001b[38;5;241;43m.\u001b[39;49m\u001b[43mrandom\u001b[49m\u001b[38;5;241;43m.\u001b[39;49m\u001b[43mnormal\u001b[49m\u001b[43m(\u001b[49m\u001b[43m(\u001b[49m\u001b[38;5;241;43m1000\u001b[39;49m\u001b[43m,\u001b[49m\u001b[43m \u001b[49m\u001b[38;5;241;43m1000\u001b[39;49m\u001b[43m,\u001b[49m\u001b[43m \u001b[49m\u001b[38;5;241;43m100\u001b[39;49m\u001b[43m,\u001b[49m\u001b[43m \u001b[49m\u001b[38;5;241;43m3\u001b[39;49m\u001b[43m)\u001b[49m\u001b[43m)\u001b[49m\n\u001b[0;32m     21\u001b[0m     net_gpu \u001b[38;5;241m=\u001b[39m tf\u001b[38;5;241m.\u001b[39mkeras\u001b[38;5;241m.\u001b[39mlayers\u001b[38;5;241m.\u001b[39mConv2D(\u001b[38;5;241m32\u001b[39m, \u001b[38;5;241m7\u001b[39m)(random_image_gpu)\n\u001b[0;32m     22\u001b[0m     \u001b[38;5;28;01mreturn\u001b[39;00m tf\u001b[38;5;241m.\u001b[39mmath\u001b[38;5;241m.\u001b[39mreduce_sum(net_gpu)\n",
      "File \u001b[1;32m~\\AppData\\Roaming\\Python\\Python39\\site-packages\\tensorflow\\python\\util\\traceback_utils.py:153\u001b[0m, in \u001b[0;36mfilter_traceback.<locals>.error_handler\u001b[1;34m(*args, **kwargs)\u001b[0m\n\u001b[0;32m    151\u001b[0m \u001b[38;5;28;01mexcept\u001b[39;00m \u001b[38;5;167;01mException\u001b[39;00m \u001b[38;5;28;01mas\u001b[39;00m e:\n\u001b[0;32m    152\u001b[0m   filtered_tb \u001b[38;5;241m=\u001b[39m _process_traceback_frames(e\u001b[38;5;241m.\u001b[39m__traceback__)\n\u001b[1;32m--> 153\u001b[0m   \u001b[38;5;28;01mraise\u001b[39;00m e\u001b[38;5;241m.\u001b[39mwith_traceback(filtered_tb) \u001b[38;5;28;01mfrom\u001b[39;00m \u001b[38;5;28;01mNone\u001b[39;00m\n\u001b[0;32m    154\u001b[0m \u001b[38;5;28;01mfinally\u001b[39;00m:\n\u001b[0;32m    155\u001b[0m   \u001b[38;5;28;01mdel\u001b[39;00m filtered_tb\n",
      "File \u001b[1;32m~\\AppData\\Roaming\\Python\\Python39\\site-packages\\tensorflow\\python\\framework\\ops.py:7209\u001b[0m, in \u001b[0;36mraise_from_not_ok_status\u001b[1;34m(e, name)\u001b[0m\n\u001b[0;32m   7207\u001b[0m \u001b[38;5;28;01mdef\u001b[39;00m \u001b[38;5;21mraise_from_not_ok_status\u001b[39m(e, name):\n\u001b[0;32m   7208\u001b[0m   e\u001b[38;5;241m.\u001b[39mmessage \u001b[38;5;241m+\u001b[39m\u001b[38;5;241m=\u001b[39m (\u001b[38;5;124m\"\u001b[39m\u001b[38;5;124m name: \u001b[39m\u001b[38;5;124m\"\u001b[39m \u001b[38;5;241m+\u001b[39m name \u001b[38;5;28;01mif\u001b[39;00m name \u001b[38;5;129;01mis\u001b[39;00m \u001b[38;5;129;01mnot\u001b[39;00m \u001b[38;5;28;01mNone\u001b[39;00m \u001b[38;5;28;01melse\u001b[39;00m \u001b[38;5;124m\"\u001b[39m\u001b[38;5;124m\"\u001b[39m)\n\u001b[1;32m-> 7209\u001b[0m   \u001b[38;5;28;01mraise\u001b[39;00m core\u001b[38;5;241m.\u001b[39m_status_to_exception(e) \u001b[38;5;28;01mfrom\u001b[39;00m \u001b[38;5;28;01mNone\u001b[39;00m\n",
      "\u001b[1;31mResourceExhaustedError\u001b[0m: {{function_node __wrapped__RandomStandardNormal_device_/job:localhost/replica:0/task:0/device:GPU:0}} OOM when allocating tensor with shape[1000,1000,100,3] and type float on /job:localhost/replica:0/task:0/device:GPU:0 by allocator GPU_0_bfc [Op:RandomStandardNormal]"
     ]
    }
   ],
   "source": [
    "import tensorflow as tf\n",
    "import timeit\n",
    "\n",
    "device_name = tf.test.gpu_device_name()\n",
    "if device_name != '/device:GPU:0':\n",
    "  print(\n",
    "      '\\n\\nThis error most likely means that this notebook is not '\n",
    "      'configured to use a GPU.  Change this in Notebook Settings via the '\n",
    "      'command palette (cmd/ctrl-shift-P) or the Edit menu.\\n\\n')\n",
    "  raise SystemError('GPU device not found')\n",
    "\n",
    "def cpu():\n",
    "  with tf.device('/cpu:0'):\n",
    "    random_image_cpu = tf.random.normal((1000, 100, 100, 3))\n",
    "    net_cpu = tf.keras.layers.Conv2D(32, 7)(random_image_cpu)\n",
    "    return tf.math.reduce_sum(net_cpu)\n",
    "\n",
    "def gpu():\n",
    "  with tf.device('/device:GPU:0'):\n",
    "    random_image_gpu = tf.random.normal((1000, 1000, 100, 3))\n",
    "    net_gpu = tf.keras.layers.Conv2D(32, 7)(random_image_gpu)\n",
    "    return tf.math.reduce_sum(net_gpu)\n",
    "  \n",
    "# We run each op once to warm up; see: https://stackoverflow.com/a/45067900\n",
    "cpu()\n",
    "gpu()\n",
    "\n",
    "# Run the op several times.\n",
    "print('Time (s) to convolve 32x7x7x3 filter over random 100x100x100x3 images '\n",
    "      '(batch x height x width x channel). Sum of ten runs.')\n",
    "print('CPU (s):')\n",
    "cpu_time = timeit.timeit('cpu()', number=10, setup=\"from __main__ import cpu\")\n",
    "print(cpu_time)\n",
    "print('GPU (s):')\n",
    "gpu_time = timeit.timeit('gpu()', number=10, setup=\"from __main__ import gpu\")\n",
    "print(gpu_time)\n",
    "print('GPU speedup over CPU: {}x'.format(int(cpu_time/gpu_time)))"
   ]
  },
  {
   "cell_type": "code",
   "execution_count": null,
   "metadata": {},
   "outputs": [],
   "source": []
  },
  {
   "cell_type": "code",
   "execution_count": null,
   "metadata": {},
   "outputs": [],
   "source": []
  }
 ],
 "metadata": {
  "kernelspec": {
   "display_name": "base",
   "language": "python",
   "name": "python3"
  },
  "language_info": {
   "codemirror_mode": {
    "name": "ipython",
    "version": 3
   },
   "file_extension": ".py",
   "mimetype": "text/x-python",
   "name": "python",
   "nbconvert_exporter": "python",
   "pygments_lexer": "ipython3",
   "version": "3.9.19"
  }
 },
 "nbformat": 4,
 "nbformat_minor": 2
}
