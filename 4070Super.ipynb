{
 "cells": [
  {
   "cell_type": "markdown",
   "metadata": {},
   "source": [
    "### https://www.tensorflow.org/install/pip?hl=ko#windows-native_1"
   ]
  },
  {
   "cell_type": "code",
   "execution_count": 1,
   "metadata": {},
   "outputs": [
    {
     "name": "stdout",
     "output_type": "stream",
     "text": [
      "True\n"
     ]
    }
   ],
   "source": [
    "# Nvidia RTX 4070 Super\n",
    "\n",
    "# Nvidia GPU 사용 여부 확인\n",
    "import tensorflow as tf\n",
    "print(tf.test.is_built_with_cuda())"
   ]
  },
  {
   "cell_type": "code",
   "execution_count": 2,
   "metadata": {},
   "outputs": [
    {
     "name": "stdout",
     "output_type": "stream",
     "text": [
      "[name: \"/device:CPU:0\"\n",
      "device_type: \"CPU\"\n",
      "memory_limit: 268435456\n",
      "locality {\n",
      "}\n",
      "incarnation: 7765154681124713680\n",
      "xla_global_id: -1\n",
      "]\n"
     ]
    }
   ],
   "source": [
    "import tensorflow as tf \n",
    "from tensorflow.python.client import device_lib\n",
    "\n",
    "print(device_lib.list_local_devices() )"
   ]
  },
  {
   "cell_type": "code",
   "execution_count": 3,
   "metadata": {},
   "outputs": [
    {
     "name": "stdout",
     "output_type": "stream",
     "text": [
      "WARNING:tensorflow:From C:\\Users\\HyeJinKyu\\AppData\\Local\\Temp\\ipykernel_12252\\1771148518.py:4: is_gpu_available (from tensorflow.python.framework.test_util) is deprecated and will be removed in a future version.\n",
      "Instructions for updating:\n",
      "Use `tf.config.list_physical_devices('GPU')` instead.\n",
      "GPU 사용 가능 여부: False\n",
      "설치된 CUDA 버전: 2.10.1\n",
      "설치된 cuDNN 버전: <function decode_predictions at 0x000001E126A99A60>\n"
     ]
    }
   ],
   "source": [
    "import tensorflow as tf\n",
    "\n",
    "# TensorFlow가 GPU를 지원하는지 확인\n",
    "print(\"GPU 사용 가능 여부:\", tf.test.is_gpu_available())\n",
    "\n",
    "# 설치된 CUDA 버전 확인\n",
    "print(\"설치된 CUDA 버전:\", tf.__version__)\n",
    "\n",
    "\n",
    "# 설치된 cuDNN 버전 확인\n",
    "print(\"설치된 cuDNN 버전:\", tf.keras.applications.vgg16.decode_predictions)"
   ]
  },
  {
   "cell_type": "code",
   "execution_count": 4,
   "metadata": {},
   "outputs": [
    {
     "name": "stderr",
     "output_type": "stream",
     "text": [
      "'nvcc'��(��) ���� �Ǵ� �ܺ� ����, ������ �� �ִ� ���α׷�, �Ǵ�\n",
      "��ġ ������ �ƴմϴ�.\n"
     ]
    }
   ],
   "source": [
    "!nvcc --version"
   ]
  },
  {
   "cell_type": "code",
   "execution_count": 5,
   "metadata": {},
   "outputs": [
    {
     "name": "stdout",
     "output_type": "stream",
     "text": [
      "2.10.1\n"
     ]
    }
   ],
   "source": [
    "# TensorFlow 버전 확인\n",
    "\n",
    "import tensorflow as tf\n",
    "print(tf.__version__)\n",
    "\n",
    "# Windows Native에서는 2.10.1 버전이 마지막\n",
    "\n",
    "\n"
   ]
  },
  {
   "cell_type": "code",
   "execution_count": 6,
   "metadata": {},
   "outputs": [
    {
     "name": "stdout",
     "output_type": "stream",
     "text": [
      "2.10.0\n"
     ]
    }
   ],
   "source": [
    "import keras\n",
    "print(keras.__version__)"
   ]
  },
  {
   "cell_type": "code",
   "execution_count": 2,
   "metadata": {},
   "outputs": [
    {
     "name": "stdout",
     "output_type": "stream",
     "text": [
      "Python 3.9.18\n"
     ]
    }
   ],
   "source": [
    "!python -V"
   ]
  },
  {
   "cell_type": "code",
   "execution_count": 3,
   "metadata": {},
   "outputs": [
    {
     "name": "stdout",
     "output_type": "stream",
     "text": [
      "Sat Mar 23 00:50:39 2024       \n",
      "+-----------------------------------------------------------------------------------------+\n",
      "| NVIDIA-SMI 551.86                 Driver Version: 551.86         CUDA Version: 12.4     |\n",
      "|-----------------------------------------+------------------------+----------------------+\n",
      "| GPU  Name                     TCC/WDDM  | Bus-Id          Disp.A | Volatile Uncorr. ECC |\n",
      "| Fan  Temp   Perf          Pwr:Usage/Cap |           Memory-Usage | GPU-Util  Compute M. |\n",
      "|                                         |                        |               MIG M. |\n",
      "|=========================================+========================+======================|\n",
      "|   0  NVIDIA GeForce RTX 4070 ...  WDDM  |   00000000:01:00.0 Off |                  N/A |\n",
      "|  0%   38C    P8              2W /  220W |       0MiB /  12282MiB |      0%      Default |\n",
      "|                                         |                        |                  N/A |\n",
      "+-----------------------------------------+------------------------+----------------------+\n",
      "                                                                                         \n",
      "+-----------------------------------------------------------------------------------------+\n",
      "| Processes:                                                                              |\n",
      "|  GPU   GI   CI        PID   Type   Process name                              GPU Memory |\n",
      "|        ID   ID                                                               Usage      |\n",
      "|=========================================================================================|\n",
      "|  No running processes found                                                             |\n",
      "+-----------------------------------------------------------------------------------------+\n"
     ]
    }
   ],
   "source": [
    "!nvidia-smi"
   ]
  },
  {
   "cell_type": "code",
   "execution_count": 6,
   "metadata": {},
   "outputs": [
    {
     "name": "stdout",
     "output_type": "stream",
     "text": [
      "Defaulting to user installation because normal site-packages is not writeable\n",
      "Looking in indexes: https://pypi.org/simple, https://pypi.ngc.nvidia.com\n",
      "Collecting matplotlib\n",
      "  Downloading matplotlib-3.8.3-cp39-cp39-win_amd64.whl.metadata (5.9 kB)\n",
      "Collecting contourpy>=1.0.1 (from matplotlib)\n",
      "  Downloading contourpy-1.2.0-cp39-cp39-win_amd64.whl.metadata (5.8 kB)\n",
      "Collecting cycler>=0.10 (from matplotlib)\n",
      "  Downloading cycler-0.12.1-py3-none-any.whl.metadata (3.8 kB)\n",
      "Collecting fonttools>=4.22.0 (from matplotlib)\n",
      "  Downloading fonttools-4.50.0-cp39-cp39-win_amd64.whl.metadata (162 kB)\n",
      "     ---------------------------------------- 0.0/162.6 kB ? eta -:--:--\n",
      "     ------------------------------------- 162.6/162.6 kB 10.2 MB/s eta 0:00:00\n",
      "Collecting kiwisolver>=1.3.1 (from matplotlib)\n",
      "  Downloading kiwisolver-1.4.5-cp39-cp39-win_amd64.whl.metadata (6.5 kB)\n",
      "Requirement already satisfied: numpy<2,>=1.21 in c:\\users\\hyejinkyu\\appdata\\roaming\\python\\python39\\site-packages (from matplotlib) (1.26.4)\n",
      "Requirement already satisfied: packaging>=20.0 in c:\\users\\hyejinkyu\\appdata\\roaming\\python\\python39\\site-packages (from matplotlib) (23.2)\n",
      "Collecting pillow>=8 (from matplotlib)\n",
      "  Downloading pillow-10.2.0-cp39-cp39-win_amd64.whl.metadata (9.9 kB)\n",
      "Collecting pyparsing>=2.3.1 (from matplotlib)\n",
      "  Downloading pyparsing-3.1.2-py3-none-any.whl.metadata (5.1 kB)\n",
      "Requirement already satisfied: python-dateutil>=2.7 in c:\\users\\hyejinkyu\\appdata\\roaming\\python\\python39\\site-packages (from matplotlib) (2.8.2)\n",
      "Collecting importlib-resources>=3.2.0 (from matplotlib)\n",
      "  Downloading importlib_resources-6.4.0-py3-none-any.whl.metadata (3.9 kB)\n",
      "Requirement already satisfied: zipp>=3.1.0 in c:\\users\\hyejinkyu\\appdata\\roaming\\python\\python39\\site-packages (from importlib-resources>=3.2.0->matplotlib) (3.17.0)\n",
      "Requirement already satisfied: six>=1.5 in c:\\users\\hyejinkyu\\appdata\\roaming\\python\\python39\\site-packages (from python-dateutil>=2.7->matplotlib) (1.16.0)\n",
      "Downloading matplotlib-3.8.3-cp39-cp39-win_amd64.whl (7.6 MB)\n",
      "   ---------------------------------------- 0.0/7.6 MB ? eta -:--:--\n",
      "   -- ------------------------------------- 0.5/7.6 MB 9.8 MB/s eta 0:00:01\n",
      "   ---- ----------------------------------- 0.9/7.6 MB 11.6 MB/s eta 0:00:01\n",
      "   ----- ---------------------------------- 1.1/7.6 MB 10.0 MB/s eta 0:00:01\n",
      "   --------- ------------------------------ 1.7/7.6 MB 11.0 MB/s eta 0:00:01\n",
      "   ----------- ---------------------------- 2.3/7.6 MB 12.0 MB/s eta 0:00:01\n",
      "   ------------- -------------------------- 2.6/7.6 MB 11.9 MB/s eta 0:00:01\n",
      "   ----------------- ---------------------- 3.3/7.6 MB 11.7 MB/s eta 0:00:01\n",
      "   ------------------- -------------------- 3.7/7.6 MB 11.8 MB/s eta 0:00:01\n",
      "   --------------------- ------------------ 4.2/7.6 MB 12.1 MB/s eta 0:00:01\n",
      "   ------------------------ --------------- 4.7/7.6 MB 11.9 MB/s eta 0:00:01\n",
      "   -------------------------- ------------- 5.1/7.6 MB 12.1 MB/s eta 0:00:01\n",
      "   ----------------------------- ---------- 5.6/7.6 MB 11.9 MB/s eta 0:00:01\n",
      "   ------------------------------- -------- 6.0/7.6 MB 12.0 MB/s eta 0:00:01\n",
      "   ---------------------------------- ----- 6.6/7.6 MB 12.0 MB/s eta 0:00:01\n",
      "   ------------------------------------- -- 7.1/7.6 MB 11.9 MB/s eta 0:00:01\n",
      "   ---------------------------------------  7.6/7.6 MB 12.1 MB/s eta 0:00:01\n",
      "   ---------------------------------------- 7.6/7.6 MB 12.2 MB/s eta 0:00:00\n",
      "Downloading contourpy-1.2.0-cp39-cp39-win_amd64.whl (181 kB)\n",
      "   ---------------------------------------- 0.0/181.9 kB ? eta -:--:--\n",
      "   --------------------------------------- 181.9/181.9 kB 10.7 MB/s eta 0:00:00\n",
      "Downloading cycler-0.12.1-py3-none-any.whl (8.3 kB)\n",
      "Downloading fonttools-4.50.0-cp39-cp39-win_amd64.whl (2.2 MB)\n",
      "   ---------------------------------------- 0.0/2.2 MB ? eta -:--:--\n",
      "   --------- ------------------------------ 0.5/2.2 MB 10.2 MB/s eta 0:00:01\n",
      "   ---------------- ----------------------- 0.9/2.2 MB 11.7 MB/s eta 0:00:01\n",
      "   -------------------------- ------------- 1.4/2.2 MB 13.2 MB/s eta 0:00:01\n",
      "   --------------------------------- ------ 1.9/2.2 MB 11.8 MB/s eta 0:00:01\n",
      "   ---------------------------------------- 2.2/2.2 MB 12.6 MB/s eta 0:00:00\n",
      "Downloading importlib_resources-6.4.0-py3-none-any.whl (38 kB)\n",
      "Downloading kiwisolver-1.4.5-cp39-cp39-win_amd64.whl (56 kB)\n",
      "   ---------------------------------------- 0.0/56.2 kB ? eta -:--:--\n",
      "   ---------------------------------------- 56.2/56.2 kB ? eta 0:00:00\n",
      "Downloading pillow-10.2.0-cp39-cp39-win_amd64.whl (2.6 MB)\n",
      "   ---------------------------------------- 0.0/2.6 MB ? eta -:--:--\n",
      "   ------- -------------------------------- 0.5/2.6 MB 14.5 MB/s eta 0:00:01\n",
      "   ------------- -------------------------- 0.9/2.6 MB 11.4 MB/s eta 0:00:01\n",
      "   --------------------- ------------------ 1.4/2.6 MB 12.9 MB/s eta 0:00:01\n",
      "   ---------------------------- ----------- 1.9/2.6 MB 11.8 MB/s eta 0:00:01\n",
      "   ------------------------------------ --- 2.4/2.6 MB 12.6 MB/s eta 0:00:01\n",
      "   ---------------------------------------- 2.6/2.6 MB 11.9 MB/s eta 0:00:00\n",
      "Downloading pyparsing-3.1.2-py3-none-any.whl (103 kB)\n",
      "   ---------------------------------------- 0.0/103.2 kB ? eta -:--:--\n",
      "   ---------------------------------------- 103.2/103.2 kB 6.2 MB/s eta 0:00:00\n",
      "Installing collected packages: pyparsing, pillow, kiwisolver, importlib-resources, fonttools, cycler, contourpy, matplotlib\n",
      "Successfully installed contourpy-1.2.0 cycler-0.12.1 fonttools-4.50.0 importlib-resources-6.4.0 kiwisolver-1.4.5 matplotlib-3.8.3 pillow-10.2.0 pyparsing-3.1.2\n",
      "Note: you may need to restart the kernel to use updated packages.\n"
     ]
    },
    {
     "name": "stderr",
     "output_type": "stream",
     "text": [
      "  WARNING: The scripts fonttools.exe, pyftmerge.exe, pyftsubset.exe and ttx.exe are installed in 'C:\\Users\\HyeJinKyu\\AppData\\Roaming\\Python\\Python39\\Scripts' which is not on PATH.\n",
      "  Consider adding this directory to PATH or, if you prefer to suppress this warning, use --no-warn-script-location.\n"
     ]
    }
   ],
   "source": [
    "pip install matplotlib"
   ]
  },
  {
   "cell_type": "code",
   "execution_count": 4,
   "metadata": {},
   "outputs": [],
   "source": [
    "from keras.datasets import mnist\n",
    "\n",
    "(train_images, train_labels), (test_images, test_labels) = mnist.load_data()"
   ]
  },
  {
   "cell_type": "code",
   "execution_count": 8,
   "metadata": {},
   "outputs": [
    {
     "name": "stdout",
     "output_type": "stream",
     "text": [
      "  0   0   0   0   0   0   0   0   0   0   0   0   0   0   0   0   0   0   0   0   0   0   0   0   0   0   0   0\n",
      "  0   0   0   0   0   0   0   0   0   0   0   0   0   0   0   0   0   0   0   0   0   0   0   0   0   0   0   0\n",
      "  0   0   0   0   0   0   0   0   0   0   0   0   0   0   0   0   0   0   0   0   0   0   0   0   0   0   0   0\n",
      "  0   0   0   0   0   0   0   0   0   0   0   0   0   0   0   0   0   0   0   0   0   0   0   0   0   0   0   0\n",
      "  0   0   0   0   0   0   0   0   0   0   0   0   0   0   0   0   0   0   0   0   0   0   0   0   0   0   0   0\n",
      "  0   0   0   0   0   0   0   0   0   0   0  87 138 170 253 201 244 212 222 138  86  22   0   0   0   0   0   0\n",
      "  0   0   0   0   0   0   0   0   0   0  95 253 252 252 252 252 253 252 252 252 252 245  80   0   0   0   0   0\n",
      "  0   0   0   0   0   0   0   0   0  68 246 205  69  69  69  69  69  69  69  69 205 253 240  50   0   0   0   0\n",
      "  0   0   0   0   0   0   0   0   0 187 252 218  34   0   0   0   0   0   0   0 116 253 252  69   0   0   0   0\n",
      "  0   0   0   0   0   0   0   0 116 248 252 253  92   0   0   0   0   0   0  95 230 253 157   6   0   0   0   0\n",
      "  0   0   0   0   0   0   0   0 116 249 253 189  42   0   0   0   0  36 170 253 243 158   0   0   0   0   0   0\n",
      "  0   0   0   0   0   0   0   0   0 133 252 245 140  34   0   0  57 219 252 235  60   0   0   0   0   0   0   0\n",
      "  0   0   0   0   0   0   0   0   0  25 205 253 252 234 184 184 253 240 100  44   0   0   0   0   0   0   0   0\n",
      "  0   0   0   0   0   0   0   0   0   0  21 161 219 252 252 252 234  37   0   0   0   0   0   0   0   0   0   0\n",
      "  0   0   0   0   0   0   0   0   0   0   0  11 203 252 252 252 251 135   0   0   0   0   0   0   0   0   0   0\n",
      "  0   0   0   0   0   0   0   0   0   9  76 255 253 205 168 220 255 253 137   5   0   0   0   0   0   0   0   0\n",
      "  0   0   0   0   0   0   0   0   0 114 252 249 132  25   0   0 180 252 252  45   0   0   0   0   0   0   0   0\n",
      "  0   0   0   0   0   0   0   0  51 220 252 199   0   0   0   0  38 186 252 154   7   0   0   0   0   0   0   0\n",
      "  0   0   0   0   0   0   0   0 184 252 252  21   0   0   0   0   0  67 252 252  22   0   0   0   0   0   0   0\n",
      "  0   0   0   0   0   0   0   0 184 252 200   0   0   0   0   0   0  47 252 252  22   0   0   0   0   0   0   0\n",
      "  0   0   0   0   0   0   0   0 185 253 201   0   0   0   0   0   3 118 253 245  21   0   0   0   0   0   0   0\n",
      "  0   0   0   0   0   0   0   0 163 252 252   0   0   0   0   0  97 252 252  87   0   0   0   0   0   0   0   0\n",
      "  0   0   0   0   0   0   0   0  51 240 252 123  70  70 112 184 222 252 170  13   0   0   0   0   0   0   0   0\n",
      "  0   0   0   0   0   0   0   0   0 165 252 253 252 252 252 252 245 139  13   0   0   0   0   0   0   0   0   0\n",
      "  0   0   0   0   0   0   0   0   0   9  75 253 252 221 137 137  21   0   0   0   0   0   0   0   0   0   0   0\n",
      "  0   0   0   0   0   0   0   0   0   0   0   0   0   0   0   0   0   0   0   0   0   0   0   0   0   0   0   0\n",
      "  0   0   0   0   0   0   0   0   0   0   0   0   0   0   0   0   0   0   0   0   0   0   0   0   0   0   0   0\n",
      "  0   0   0   0   0   0   0   0   0   0   0   0   0   0   0   0   0   0   0   0   0   0   0   0   0   0   0   0\n",
      "Train Label(훈련용 정답):[ 8 ]\n"
     ]
    },
    {
     "data": {
      "image/png": "[encoded data removed]",
      "text/plain": [
       "<Figure size 640x480 with 1 Axes>"
      ]
     },
     "metadata": {},
     "output_type": "display_data"
    }
   ],
   "source": [
    "import matplotlib.pyplot as plt\n",
    "\n",
    "random_val = 333\n",
    "#print(train_images[1597])\n",
    "\n",
    "for row in train_images[random_val]:\n",
    "    print(' '.join([f\"{pixel:3d}\" for pixel in row]))\n",
    "\n",
    "\n",
    "\n",
    "plt.imshow(train_images[random_val])\n",
    "\n",
    "print(\"Train Label(훈련용 정답):[\", train_labels[random_val], \"]\")"
   ]
  },
  {
   "cell_type": "code",
   "execution_count": 11,
   "metadata": {},
   "outputs": [
    {
     "data": {
      "text/plain": [
       "[5923, 6742, 5958, 6131, 5842, 5421, 5918, 6265, 5851, 5949]"
      ]
     },
     "execution_count": 11,
     "metadata": {},
     "output_type": "execute_result"
    }
   ],
   "source": [
    "label_set = set(train_labels)\n",
    "label_list = list(set(train_labels))\n",
    "\n",
    "# set => {0, 1, 2, 3, 4, 5, 6, 7, 8, 9} => 요소의 집합(순서없음) => 요소에 접근할수 없어서 list나 tuple로 변환해서 사용\n",
    "# list => [0, 1, 2, 3, 4, 5, 6, 7, 8, 9] => 요소의 집합(순서있음)\n",
    "\n",
    "label_count = [list(train_labels).count(label_list[i]) for i in range(len(label_list))]\n",
    "label_count"
   ]
  },
  {
   "cell_type": "code",
   "execution_count": 12,
   "metadata": {},
   "outputs": [
    {
     "data": {
      "image/png": "[encoded data removed]",
      "text/plain": [
       "<Figure size 640x480 with 1 Axes>"
      ]
     },
     "metadata": {},
     "output_type": "display_data"
    }
   ],
   "source": [
    "plt.bar(label_list, label_count)\n",
    "plt.xticks(range(len(label_list)), label_list)\n",
    "\n",
    "for i, count in enumerate(label_count):\n",
    "    plt.text(i, count, str(count), ha='center', va='bottom')\n",
    "    \n",
    "plt.show()\n"
   ]
  },
  {
   "cell_type": "code",
   "execution_count": 13,
   "metadata": {},
   "outputs": [],
   "source": [
    "from keras import models\n",
    "from keras import layers\n",
    "#models 모듈에서는 모델을 생성하고 관리하는 데 필요한 기능을 제공\n",
    "#layers 모듈에서는 신경망의 다양한 층(예: 완전 연결 층, 합성곱 층 등)을 구현할 수 있는 클래스를 제공합니다.\n",
    "\n",
    "#신경망 모델 생성\n",
    "# keras에는 세가지 모델 선언 방법이 있음\n",
    "\n",
    "# 순차모델(Sequential model)\n",
    "# 함수형 API(Functional API)\n",
    "# 서브클래싱 API(Subclassing API)\n",
    "\n",
    "network = models.Sequential()\n",
    "\n",
    "\n",
    "\n",
    "\n",
    "# \n",
    "network.add(layers.Dense(512, activation='tanh', input_shape=(28 * 28,)))\n",
    "network.add(layers.Dense(128, activation='sigmoid'))\n",
    "network.add(layers.Dense(10, activation='softmax')) #하려는게 0~10의 분류문제이므로 10으로 지정 확률로하는 softmax => 분류문제는 클래스 갯수 softmax를 일반적으로 사용\n"
   ]
  },
  {
   "cell_type": "code",
   "execution_count": 14,
   "metadata": {},
   "outputs": [],
   "source": [
    "# 분류는 categorical_cross...사용\n",
    "\n",
    "network.compile(optimizer='adam',\n",
    "                loss='categorical_crossentropy',\n",
    "                metrics=['accuracy'])"
   ]
  },
  {
   "cell_type": "code",
   "execution_count": 15,
   "metadata": {},
   "outputs": [],
   "source": [
    "#트레인 6만장 0~255 픽셀\n",
    "#스케일링해줌\n",
    "#786 언디센트?로 바뀜\n",
    "\n",
    "train_images = train_images.reshape((60000, 28 * 28))\n",
    "train_images = train_images.astype('float32') / 255\n",
    "\n",
    "test_images = test_images.reshape((10000, 28 * 28))\n",
    "test_images = test_images.astype('float32') / 255"
   ]
  },
  {
   "cell_type": "code",
   "execution_count": 16,
   "metadata": {},
   "outputs": [],
   "source": [
    "#원-핫 인코딩\n",
    "\n",
    "from tensorflow.keras.utils import to_categorical\n",
    "\n",
    "train_labels = to_categorical(train_labels)\n",
    "test_labels = to_categorical(test_labels)"
   ]
  },
  {
   "cell_type": "code",
   "execution_count": 17,
   "metadata": {},
   "outputs": [
    {
     "name": "stdout",
     "output_type": "stream",
     "text": [
      "Epoch 1/10\n",
      "422/422 [==============================] - 2s 3ms/step - loss: 0.3784 - accuracy: 0.8963 - val_loss: 0.1718 - val_accuracy: 0.9533\n",
      "Epoch 2/10\n",
      "422/422 [==============================] - 1s 3ms/step - loss: 0.1701 - accuracy: 0.9505 - val_loss: 0.1159 - val_accuracy: 0.9662\n",
      "Epoch 3/10\n",
      "422/422 [==============================] - 1s 3ms/step - loss: 0.1127 - accuracy: 0.9666 - val_loss: 0.0908 - val_accuracy: 0.9745\n",
      "Epoch 4/10\n",
      "422/422 [==============================] - 1s 3ms/step - loss: 0.0818 - accuracy: 0.9755 - val_loss: 0.0790 - val_accuracy: 0.9762\n",
      "Epoch 5/10\n",
      "422/422 [==============================] - 1s 3ms/step - loss: 0.0598 - accuracy: 0.9825 - val_loss: 0.0706 - val_accuracy: 0.9782\n",
      "Epoch 6/10\n",
      "422/422 [==============================] - 1s 3ms/step - loss: 0.0441 - accuracy: 0.9875 - val_loss: 0.0741 - val_accuracy: 0.9788\n",
      "Epoch 7/10\n",
      "422/422 [==============================] - 1s 3ms/step - loss: 0.0331 - accuracy: 0.9908 - val_loss: 0.0740 - val_accuracy: 0.9793\n",
      "Epoch 8/10\n",
      "422/422 [==============================] - 1s 3ms/step - loss: 0.0241 - accuracy: 0.9939 - val_loss: 0.0619 - val_accuracy: 0.9813\n",
      "Epoch 9/10\n",
      "422/422 [==============================] - 1s 3ms/step - loss: 0.0181 - accuracy: 0.9955 - val_loss: 0.0605 - val_accuracy: 0.9820\n",
      "Epoch 10/10\n",
      "422/422 [==============================] - 1s 3ms/step - loss: 0.0136 - accuracy: 0.9969 - val_loss: 0.0615 - val_accuracy: 0.9827\n",
      "실행 시간: 13.698022842407227초\n"
     ]
    }
   ],
   "source": [
    "import time\n",
    "\n",
    "start_time = time.time()\n",
    "\n",
    "history = network.fit(train_images, train_labels, epochs=10, batch_size=128, validation_split=0.1)\n",
    "\n",
    "end_time = time.time()\n",
    "\n",
    "execution_time = end_time - start_time\n",
    "\n",
    "# 실행 시간 출력\n",
    "print(f\"실행 시간: {execution_time}초\")\n",
    "\n",
    "\n",
    "# 6만장 중 10%뺀 5.4만장 중 배치사이즈 128로 나누면 iteration 갯수가 나옴\n",
    "# 트레인데이터셋에서 90프로로 학습하고 10프로만 검증\n",
    "# 향후에 테스트데이터셋으로 검증\n",
    "\n",
    "# 4070 Super : 10.83초\n",
    "# T4 : 19.11초\n",
    "# CPU(Intel(R) Core(TM) i5-6500 CPU @ 3.20GHz) : 30.64초"
   ]
  },
  {
   "cell_type": "code",
   "execution_count": null,
   "metadata": {},
   "outputs": [],
   "source": []
  },
  {
   "cell_type": "code",
   "execution_count": null,
   "metadata": {},
   "outputs": [],
   "source": []
  },
  {
   "cell_type": "code",
   "execution_count": null,
   "metadata": {},
   "outputs": [],
   "source": []
  },
  {
   "cell_type": "code",
   "execution_count": null,
   "metadata": {},
   "outputs": [],
   "source": []
  }
 ],
 "metadata": {
  "kernelspec": {
   "display_name": "base",
   "language": "python",
   "name": "python3"
  },
  "language_info": {
   "codemirror_mode": {
    "name": "ipython",
    "version": 3
   },
   "file_extension": ".py",
   "mimetype": "text/x-python",
   "name": "python",
   "nbconvert_exporter": "python",
   "pygments_lexer": "ipython3",
   "version": "3.9.19"
  }
 },
 "nbformat": 4,
 "nbformat_minor": 2
}
